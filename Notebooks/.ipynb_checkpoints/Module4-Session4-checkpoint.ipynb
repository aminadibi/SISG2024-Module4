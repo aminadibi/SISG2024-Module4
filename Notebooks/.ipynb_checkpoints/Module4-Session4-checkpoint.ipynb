{
 "cells": [
  {
   "cell_type": "markdown",
   "id": "b35ae2d9-b6b5-4e64-9be6-e1a9ac916b49",
   "metadata": {},
   "source": [
    "\n",
    "# Module 4 Session 4 - Health outcome modeling \n",
    "\n",
    "## Authors: Shivam Sharma\n",
    "\n",
    "#### Date: May 29, 2024\n"
   ]
  },
  {
   "cell_type": "markdown",
   "id": "cea018b3-1089-410f-96ac-5eb0a70377ce",
   "metadata": {},
   "source": [
    "## Section 1 - Data exploration"
   ]
  },
  {
   "cell_type": "code",
   "execution_count": 96,
   "id": "8e340621-eb8b-4dce-a890-dc2e61ca8a20",
   "metadata": {},
   "outputs": [],
   "source": [
    "rm(list=ls())\n",
    "set.seed(13)\n",
    "\n",
    "library(\"data.table\")\n",
    "library(\"dplyr\")\n",
    "library(\"parallel\")\n",
    "library('stringr')\n",
    "library('ggplot2')\n",
    "\n",
    "\n",
    "options(repr.matrix.max.cols=50, repr.matrix.max.rows=100)\n",
    "options(repr.plot.width = 12, repr.plot.height = 12, repr.plot.res = 120)"
   ]
  },
  {
   "cell_type": "markdown",
   "id": "e1416bbc-0f68-4073-9254-fe963731a325",
   "metadata": {},
   "source": [
    "## Section 2 - Disparities between HbA1c levels "
   ]
  },
  {
   "cell_type": "code",
   "execution_count": null,
   "id": "0994fd20-f6d3-48fc-b162-aebf9d028031",
   "metadata": {},
   "outputs": [],
   "source": []
  },
  {
   "cell_type": "code",
   "execution_count": null,
   "id": "094464df-412a-4e3b-9ea9-2b8155ba6521",
   "metadata": {},
   "outputs": [],
   "source": []
  },
  {
   "cell_type": "markdown",
   "id": "c0b13fa4-4f3a-40a2-99da-dfd4f9c363ba",
   "metadata": {},
   "source": [
    "## Section 3 - Disparities between type 2 diabetes "
   ]
  },
  {
   "cell_type": "code",
   "execution_count": null,
   "id": "b08a963b-37e7-46db-8bd1-8d1e3b333c1b",
   "metadata": {},
   "outputs": [],
   "source": []
  },
  {
   "cell_type": "code",
   "execution_count": null,
   "id": "dd2a3d8d-c538-423e-b145-2bf63c26e914",
   "metadata": {},
   "outputs": [],
   "source": []
  }
 ],
 "metadata": {
  "kernelspec": {
   "display_name": "R",
   "language": "R",
   "name": "ir"
  },
  "language_info": {
   "codemirror_mode": "r",
   "file_extension": ".r",
   "mimetype": "text/x-r-source",
   "name": "R",
   "pygments_lexer": "r",
   "version": "4.2.2"
  }
 },
 "nbformat": 4,
 "nbformat_minor": 5
}
