{
 "cells": [
  {
   "cell_type": "markdown",
   "id": "edb06eaa-6254-410e-844e-bbff0f2b0c26",
   "metadata": {},
   "source": [
    "# Module 4 Session 8: Genetic ancestry inference & modeling\n",
    "\n",
    "**Author**: Shashwat Deepali Nagar\n",
    "\n",
    "**Date**: May 31, 2024"
   ]
  },
  {
   "cell_type": "code",
   "execution_count": null,
   "id": "e8ac145f-4c36-4111-970c-ced5252df99d",
   "metadata": {},
   "outputs": [],
   "source": [
    "suppressPackageStartupMessages(library(tidyverse))\n",
    "suppressPackageStartupMessages(library(car))\n",
    "library(forestmodel)\n",
    "library(class)"
   ]
  },
  {
   "cell_type": "markdown",
   "id": "221bd8b2-7b43-405c-affa-3ff2cca6179a",
   "metadata": {},
   "source": [
    "# Categorical ancestry inferrence\n",
    "\n",
    "Here, we'll use data from PCA to infer categorical genetic ancestry.\n",
    "\n",
    "### **First**, we'll try supervised clustering.  How do we do that?"
   ]
  },
  {
   "cell_type": "code",
   "execution_count": null,
   "id": "3777a38b-84f3-4440-8c67-2ef3007ddd05",
   "metadata": {},
   "outputs": [],
   "source": [
    "supervised_df <- read_delim('../Data/Session10/SupervisedClusteringDF.txt', delim = '\\t')\n",
    "\n",
    "supervised_df %>% head\n",
    "\n",
    "supervised_df %>% dim\n",
    "\n",
    "supervised_df %>%\n",
    "count(\n",
    "    PopulationGroup\n",
    ")"
   ]
  },
  {
   "cell_type": "code",
   "execution_count": null,
   "id": "8e61e597-df34-4368-bdf2-855d9b2043d7",
   "metadata": {},
   "outputs": [],
   "source": [
    "supervised_df %>%\n",
    "ggplot(\n",
    "    aes(PC1, PC2, fill = PopulationGroup)\n",
    ") +\n",
    "geom_point(pch = 21, color = 'black', size = 4) +\n",
    "theme_classic() +\n",
    "scale_fill_manual(\n",
    "    values = c(\n",
    "        'African' = '#6E2594',\n",
    "        'European' = '#ECD444',\n",
    "        'Asian' = '#DCEDFF',\n",
    "        'Unlableled' = 'grey'\n",
    "    )\n",
    ") +\n",
    "guides(\n",
    "    x = guide_axis(cap = \"both\"),\n",
    "    y = guide_axis(cap = \"both\")\n",
    ") +\n",
    "theme(\n",
    "    axis.title = element_text(color = 'black', face = 'bold', size = 15),\n",
    "    axis.text = element_text(color = 'black', size = 13),\n",
    "    legend.title = element_text(color = 'black', face = 'bold', size = 15)\n",
    ") "
   ]
  },
  {
   "cell_type": "markdown",
   "id": "988f65a7-4807-4b1a-bdf4-7a692e8b4141",
   "metadata": {},
   "source": [
    "### Step 1. Let's split our data into two dataframes"
   ]
  },
  {
   "cell_type": "code",
   "execution_count": null,
   "id": "d34ee8a7-3b3f-4177-9545-03dcc6b3a847",
   "metadata": {},
   "outputs": [],
   "source": [
    "labeled_df <- supervised_df %>%\n",
    "filter(\n",
    "    PopulationGroup != 'Unlableled'\n",
    ")\n",
    "\n",
    "labeled_df %>%\n",
    "count(\n",
    "    PopulationGroup\n",
    ")"
   ]
  },
  {
   "cell_type": "code",
   "execution_count": null,
   "id": "804ed163-23fa-4f30-954b-36d4a25de2fd",
   "metadata": {},
   "outputs": [],
   "source": [
    "unlabeled_df <- supervised_df %>%\n",
    "filter(\n",
    "    PopulationGroup == 'Unlableled'\n",
    ")\n",
    "\n",
    "unlabeled_df %>%\n",
    "count(\n",
    "    PopulationGroup\n",
    ")"
   ]
  },
  {
   "cell_type": "markdown",
   "id": "19293a87-b554-4c78-bfe4-379f2e7811bf",
   "metadata": {},
   "source": [
    "Links to documentation: \n",
    "1. [knn](https://www.rdocumentation.org/packages/class/versions/7.3-22/topics/knn)"
   ]
  },
  {
   "cell_type": "markdown",
   "id": "c8a28951-ed9e-4a2c-8a61-2484967fd546",
   "metadata": {},
   "source": [
    "### Step 2. Let's predict class based on 10 nearest neighbors"
   ]
  },
  {
   "cell_type": "code",
   "execution_count": null,
   "id": "876cf41d-1875-4c86-bc2c-ac46e32968ae",
   "metadata": {},
   "outputs": [],
   "source": [
    "predictions <- knn(\n",
    "    train = labeled_df %>% select(-PopulationGroup), \n",
    "    test = unlabeled_df %>% select(-PopulationGroup),\n",
    "    cl = labeled_df$PopulationGroup, \n",
    "    k = 10\n",
    ")\n",
    "\n",
    "table(predictions)"
   ]
  },
  {
   "cell_type": "code",
   "execution_count": null,
   "id": "9095ed74-4277-4615-9cb5-f9d32a75066f",
   "metadata": {},
   "outputs": [],
   "source": [
    "# Adding new column for supervised labels\n",
    "supervised_df <- supervised_df %>%\n",
    "mutate(\n",
    "    SupervisedLabels = case_when(\n",
    "        PopulationGroup == 'Unlableled' ~ 'African',\n",
    "        .default = PopulationGroup\n",
    "    )\n",
    ") \n",
    "\n",
    "supervised_df %>%\n",
    "count(SupervisedLabels)"
   ]
  },
  {
   "cell_type": "markdown",
   "id": "3849ceb8-6b4a-407f-8719-0ec40bac52aa",
   "metadata": {},
   "source": [
    "As expected, all the unlabeled data points were classified as `African` by the knn algorithm."
   ]
  },
  {
   "cell_type": "markdown",
   "id": "fe398135-0b94-43c1-b86a-325cb453e677",
   "metadata": {},
   "source": [
    "### Next, let's try unsupervised categorical ancestry inference"
   ]
  },
  {
   "cell_type": "code",
   "execution_count": null,
   "id": "ef61ecca-eafc-4343-8f96-80060bccc48f",
   "metadata": {},
   "outputs": [],
   "source": [
    "set.seed(42)\n",
    "unsupervised_clusters <- kmeans(\n",
    "    supervised_df %>% select(-PopulationGroup, -SupervisedLabels), \n",
    "    centers = 3, \n",
    "    iter.max = 10, \n",
    "    nstart = 10\n",
    ")\n",
    "\n",
    "supervised_df %>%\n",
    "mutate(\n",
    "    UnsupervisedGroups = unsupervised_clusters$cluster\n",
    ") %>%\n",
    "count(\n",
    "    SupervisedLabels, UnsupervisedGroups\n",
    ")"
   ]
  },
  {
   "cell_type": "markdown",
   "id": "934d4238-27f9-4aa9-9ad0-f23fc0e0a456",
   "metadata": {},
   "source": [
    "Here we can see that Group `1` corresponds with the `African` supervised label, `2` corresponds with 'European', and `3` corresponds with `Asian`."
   ]
  },
  {
   "cell_type": "markdown",
   "id": "f2cd77bc-95b3-4fe8-828f-0d6bc47bd25c",
   "metadata": {},
   "source": [
    "# Continuous genetic ancestry inference using ADMIXTURE\n",
    "\n",
    "We'll use Admixture for genetic ancestry inference of data from the 1000 Genomes Project\n",
    "\n",
    "You can download `admixture` following [this link](https://dalexander.github.io/admixture/download.html).\n",
    "\n",
    "> This tool doesn't work on Windows!  \n",
    "\n",
    "Since this tool is routinely used in analyses, we'll take a look at what the output data look like.\n",
    "\n",
    "We'll use data generated by the 1000 Genomes Project.  [Linked here](https://ftp.1000genomes.ebi.ac.uk/vol1/ftp/release/20130502/supporting/admixture_files/)"
   ]
  },
  {
   "cell_type": "markdown",
   "id": "50277fd9-9db7-441c-9e8e-668345a0d101",
   "metadata": {},
   "source": [
    "### Loading the P file"
   ]
  },
  {
   "cell_type": "code",
   "execution_count": null,
   "id": "63d4148e-6902-47d4-b2f7-44152b6af6a8",
   "metadata": {},
   "outputs": [],
   "source": [
    "p_df <- read_delim(\n",
    "    '../Data/Session10/ALL.wgs.phase3_shapeit2_filtered.20141217.maf0.05.5.P', \n",
    "    delim = ' ',\n",
    "    col_names = c('Pop1', 'Pop2', 'Pop3', 'Pop4', 'Pop5')\n",
    ")\n",
    "\n",
    "p_df %>% head\n",
    "\n",
    "p_df %>% dim"
   ]
  },
  {
   "cell_type": "code",
   "execution_count": null,
   "id": "3b9c3aab-b5fa-406d-bfff-cf2805f083b6",
   "metadata": {},
   "outputs": [],
   "source": [
    "q_df <- read_delim(\n",
    "    '../Data/Session10/ALL.wgs.phase3_shapeit2_filtered.20141217.maf0.05.5.Q', \n",
    "    delim = ' ',\n",
    "    col_names = c('Pop1', 'Pop2', 'Pop3', 'Pop4', 'Pop5')\n",
    ")\n",
    "\n",
    "q_df %>% head\n",
    "\n",
    "q_df %>% dim"
   ]
  },
  {
   "cell_type": "markdown",
   "id": "17e51143-6224-4efa-a58b-cd4d266f7c7f",
   "metadata": {},
   "source": [
    "# Modeling T2D and genetic ancestry"
   ]
  },
  {
   "cell_type": "code",
   "execution_count": null,
   "id": "97029ca6-27c7-4082-bdeb-a919c5fafa89",
   "metadata": {},
   "outputs": [],
   "source": [
    "df <- read_delim('../Data/Session10/Cohort_Session10.txt', delim = '\\t')\n",
    "\n",
    "df %>% head\n",
    "\n",
    "df %>% dim"
   ]
  },
  {
   "cell_type": "markdown",
   "id": "0e0102ab-1323-49e6-bfa2-4780b67940f6",
   "metadata": {},
   "source": [
    "The columns `European`, `EastAsian`, `Amerindian`, `SouthAsian`, `African`, and `NorthAfrican` are continuous genetic ancestry estimates for each of the 400,000 subjects here."
   ]
  },
  {
   "cell_type": "code",
   "execution_count": null,
   "id": "9697df9a-b406-4f58-8d6f-62791f535981",
   "metadata": {},
   "outputs": [],
   "source": [
    "df %>%\n",
    "group_by(EthnicGroup) %>%\n",
    "summarize(\n",
    "    European = round(mean(European) * 100, 2),\n",
    "    EastAsian = round(mean(EastAsian) * 100, 2),\n",
    "    Amerindian = round(mean(Amerindian) * 100, 2),\n",
    "    African = round(mean(African) * 100, 2),\n",
    "    NorthAfrican = round(mean(NorthAfrican) * 100, 2),\n",
    "    SouthAsian = round(mean(SouthAsian) * 100, 2)\n",
    ")"
   ]
  },
  {
   "cell_type": "code",
   "execution_count": null,
   "id": "0cd0bf76-a390-4040-ac12-1d7ca7f2de44",
   "metadata": {},
   "outputs": [],
   "source": [
    "df %>%\n",
    "ggplot(\n",
    "    aes(PC1, PC2, fill = EthnicGroup)\n",
    ") +\n",
    "geom_point(pch = 21, color = 'black', size = 3) +\n",
    "theme_classic() +\n",
    "scale_fill_manual(\n",
    "    values = c(\n",
    "        'Black' = '#6E2594',\n",
    "        'White' = '#ECD444',\n",
    "        'Asian' = '#DCEDFF'\n",
    "    )\n",
    ") +\n",
    "guides(\n",
    "    x = guide_axis(cap = \"both\"),\n",
    "    y = guide_axis(cap = \"both\")\n",
    ") +\n",
    "theme(\n",
    "    axis.title = element_text(color = 'black', face = 'bold', size = 15),\n",
    "    axis.text = element_text(color = 'black', size = 13),\n",
    "    legend.title = element_text(color = 'black', face = 'bold', size = 15)\n",
    ") "
   ]
  },
  {
   "cell_type": "code",
   "execution_count": null,
   "id": "08d3711e-fbe9-44e9-8b5d-82a7a3853973",
   "metadata": {},
   "outputs": [],
   "source": [
    "df %>%\n",
    "ggplot(\n",
    "    aes(PC1, PC2, fill = EthnicGroup)\n",
    ") +\n",
    "geom_point(pch = 21, color = 'black', size = 3, alpha = 0.2) +\n",
    "theme_classic() +\n",
    "scale_fill_manual(\n",
    "    values = c(\n",
    "        'Black' = '#6E2594',\n",
    "        'White' = '#ECD444',\n",
    "        'Asian' = '#DCEDFF'\n",
    "    )\n",
    ") +\n",
    "guides(\n",
    "    x = guide_axis(cap = \"both\"),\n",
    "    y = guide_axis(cap = \"both\")\n",
    ") +\n",
    "theme(\n",
    "    axis.title = element_text(color = 'black', face = 'bold', size = 15),\n",
    "    axis.text = element_text(color = 'black', size = 13),\n",
    "    legend.title = element_text(color = 'black', face = 'bold', size = 15)\n",
    ") "
   ]
  },
  {
   "cell_type": "markdown",
   "id": "82db327b-49ca-43a7-9424-e44b97f52a27",
   "metadata": {},
   "source": [
    "For the purposes of the next section, we'll only include Subject with > 90%:\n",
    "1. South Asian ancestry\n",
    "2. European ancestry\n",
    "3. African ancestry"
   ]
  },
  {
   "cell_type": "code",
   "execution_count": null,
   "id": "39efb458-5951-4cd5-80fc-192d377937b2",
   "metadata": {},
   "outputs": [],
   "source": [
    "working_df <- df %>%\n",
    "filter(\n",
    "    African > 0.90 | European > 0.90 | SouthAsian > 0.90\n",
    ") %>%\n",
    "mutate(\n",
    "    GAGroup = case_when(\n",
    "        African > 0.9 ~ 'African',\n",
    "        European > 0.9 ~ 'European',\n",
    "        SouthAsian > 0.90 ~ 'SouthAsian'\n",
    "    ),\n",
    "    GAGroup = factor(\n",
    "        GAGroup,\n",
    "        levels = c('European', 'African', 'SouthAsian')\n",
    "    )\n",
    ")\n",
    "\n",
    "working_df %>% \n",
    "group_by(EthnicGroup) %>%\n",
    "summarize(\n",
    "    European = round(mean(European) * 100, 2),\n",
    "    EastAsian = round(mean(EastAsian) * 100, 2),\n",
    "    Amerindian = round(mean(Amerindian) * 100, 2),\n",
    "    African = round(mean(African) * 100, 2),\n",
    "    NorthAfrican = round(mean(NorthAfrican) * 100, 2),\n",
    "    SouthAsian = round(mean(SouthAsian) * 100, 2)\n",
    ")"
   ]
  },
  {
   "cell_type": "code",
   "execution_count": null,
   "id": "43ba92c2-37b6-462c-bf16-9db421ecb3b5",
   "metadata": {},
   "outputs": [],
   "source": [
    "working_df %>%\n",
    "ggplot(\n",
    "    aes(PC1, PC2, fill = EthnicGroup)\n",
    ") +\n",
    "geom_point(pch = 21, color = 'black', size = 3, alpha = 0.2) +\n",
    "theme_classic() +\n",
    "scale_fill_manual(\n",
    "    values = c(\n",
    "        'Black' = '#6E2594',\n",
    "        'White' = '#ECD444',\n",
    "        'Asian' = '#DCEDFF'\n",
    "    )\n",
    ") +\n",
    "guides(\n",
    "    x = guide_axis(cap = \"both\"),\n",
    "    y = guide_axis(cap = \"both\")\n",
    ") +\n",
    "theme(\n",
    "    axis.title = element_text(color = 'black', face = 'bold', size = 15),\n",
    "    axis.text = element_text(color = 'black', size = 13),\n",
    "    legend.title = element_text(color = 'black', face = 'bold', size = 15)\n",
    ") "
   ]
  },
  {
   "cell_type": "code",
   "execution_count": null,
   "id": "9acabedd-0a71-4f64-a495-46df8c360a38",
   "metadata": {},
   "outputs": [],
   "source": [
    "working_df %>%\n",
    "count(\n",
    "    EthnicGroup, GAGroup\n",
    ")"
   ]
  },
  {
   "cell_type": "markdown",
   "id": "49ee241b-834b-40e1-a575-dec25f5c58a3",
   "metadata": {},
   "source": [
    "## Modeling T2D"
   ]
  },
  {
   "cell_type": "code",
   "execution_count": null,
   "id": "e9f4ec59-e85f-448f-aadb-285490637bc7",
   "metadata": {},
   "outputs": [],
   "source": []
  },
  {
   "cell_type": "code",
   "execution_count": null,
   "id": "d85d49c4-e0a4-47bb-b364-71159d012b01",
   "metadata": {},
   "outputs": [],
   "source": [
    "overall_model <- glm(\n",
    "    T2D ~ scale(Age) + Sex + scale(SED) + GAGroup,\n",
    "    data = working_df,\n",
    "    family = 'binomial'\n",
    ")\n",
    "\n",
    "summary(overall_model)\n",
    "\n",
    "vif(overall_model) %>%\n",
    "as_tibble(rownames = 'Predictor')\n",
    "\n",
    "forest_model(overall_model)"
   ]
  },
  {
   "cell_type": "code",
   "execution_count": null,
   "id": "291971bc-a907-4012-a8db-e4b9fac1c4a9",
   "metadata": {},
   "outputs": [],
   "source": [
    "overall_model <- glm(\n",
    "    T2D ~ scale(Age) + Sex + scale(SED) * GAGroup,\n",
    "    data = working_df,\n",
    "    family = 'binomial'\n",
    ")\n",
    "\n",
    "summary(overall_model)\n",
    "\n",
    "vif(overall_model) %>%\n",
    "as_tibble(rownames = 'Predictor')\n",
    "\n",
    "forest_model(overall_model)"
   ]
  }
 ],
 "metadata": {
  "kernelspec": {
   "display_name": "R",
   "language": "R",
   "name": "ir"
  },
  "language_info": {
   "codemirror_mode": "r",
   "file_extension": ".r",
   "mimetype": "text/x-r-source",
   "name": "R",
   "pygments_lexer": "r",
   "version": "4.4.0"
  }
 },
 "nbformat": 4,
 "nbformat_minor": 5
}
