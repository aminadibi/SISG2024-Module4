{
 "cells": [
  {
   "cell_type": "markdown",
   "id": "b35ae2d9-b6b5-4e64-9be6-e1a9ac916b49",
   "metadata": {},
   "source": [
    "\n",
    "# Module 4 Session 2 - Quantifying Health Disparities\n",
    "\n",
    "## Authors: Shivam Sharma & Vincent Lam \n",
    "\n",
    "#### Date: May 29, 2024\n"
   ]
  },
  {
   "cell_type": "markdown",
   "id": "cea018b3-1089-410f-96ac-5eb0a70377ce",
   "metadata": {},
   "source": [
    "## Section 1 - Data exploration"
   ]
  },
  {
   "cell_type": "code",
   "execution_count": 5,
   "id": "8e340621-eb8b-4dce-a890-dc2e61ca8a20",
   "metadata": {
    "tags": []
   },
   "outputs": [],
   "source": [
    "rm(list=ls())\n",
    "set.seed(13)\n",
    "\n",
    "library(\"data.table\")\n",
    "library(\"dplyr\")\n",
    "library(\"parallel\")\n",
    "library('stringr')\n",
    "library('ggplot2')\n",
    "library('readr')\n",
    "\n",
    "options(repr.matrix.max.cols=50, repr.matrix.max.rows=100)\n",
    "options(repr.plot.width = 12, repr.plot.height = 12, repr.plot.res = 120)"
   ]
  },
  {
   "cell_type": "markdown",
   "id": "50521484",
   "metadata": {},
   "source": [
    "If any of the above packages are unavailable, they can be installed like so:\n",
    "\n",
    "install.packages('package_name')"
   ]
  },
  {
   "cell_type": "code",
   "execution_count": 6,
   "id": "ab081a71-fd89-4ae9-9a99-13ad2bf7ca2c",
   "metadata": {
    "tags": []
   },
   "outputs": [
    {
     "data": {
      "text/html": [
       "<style>\n",
       ".list-inline {list-style: none; margin:0; padding: 0}\n",
       ".list-inline>li {display: inline-block}\n",
       ".list-inline>li:not(:last-child)::after {content: \"\\00b7\"; padding: 0 .5ex}\n",
       "</style>\n",
       "<ol class=list-inline><li>10001701</li><li>99999942</li></ol>\n"
      ],
      "text/latex": [
       "\\begin{enumerate*}\n",
       "\\item 10001701\n",
       "\\item 99999942\n",
       "\\end{enumerate*}\n"
      ],
      "text/markdown": [
       "1. 10001701\n",
       "2. 99999942\n",
       "\n",
       "\n"
      ],
      "text/plain": [
       "[1] 10001701 99999942"
      ]
     },
     "metadata": {},
     "output_type": "display_data"
    },
    {
     "data": {
      "text/html": [
       "<style>\n",
       ".list-inline {list-style: none; margin:0; padding: 0}\n",
       ".list-inline>li {display: inline-block}\n",
       ".list-inline>li:not(:last-child)::after {content: \"\\00b7\"; padding: 0 .5ex}\n",
       "</style>\n",
       "<ol class=list-inline><li>50000</li><li>4</li></ol>\n"
      ],
      "text/latex": [
       "\\begin{enumerate*}\n",
       "\\item 50000\n",
       "\\item 4\n",
       "\\end{enumerate*}\n"
      ],
      "text/markdown": [
       "1. 50000\n",
       "2. 4\n",
       "\n",
       "\n"
      ],
      "text/plain": [
       "[1] 50000     4"
      ]
     },
     "metadata": {},
     "output_type": "display_data"
    },
    {
     "data": {
      "text/html": [
       "<table class=\"dataframe\">\n",
       "<caption>A data.frame: 6 × 4</caption>\n",
       "<thead>\n",
       "\t<tr><th></th><th scope=col>ParticipantID</th><th scope=col>Age</th><th scope=col>Sex</th><th scope=col>SIRE</th></tr>\n",
       "\t<tr><th></th><th scope=col>&lt;int&gt;</th><th scope=col>&lt;dbl&gt;</th><th scope=col>&lt;chr&gt;</th><th scope=col>&lt;chr&gt;</th></tr>\n",
       "</thead>\n",
       "<tbody>\n",
       "\t<tr><th scope=row>1</th><td>72855012</td><td>18.50098</td><td>F</td><td>Black</td></tr>\n",
       "\t<tr><th scope=row>2</th><td>60709423</td><td>18.00000</td><td>F</td><td>Black</td></tr>\n",
       "\t<tr><th scope=row>3</th><td>30963548</td><td>21.44716</td><td>F</td><td>Black</td></tr>\n",
       "\t<tr><th scope=row>4</th><td>76818295</td><td>24.45020</td><td>F</td><td>Black</td></tr>\n",
       "\t<tr><th scope=row>5</th><td>68693481</td><td>20.64606</td><td>F</td><td>Black</td></tr>\n",
       "\t<tr><th scope=row>6</th><td>61809284</td><td>23.00696</td><td>F</td><td>Black</td></tr>\n",
       "</tbody>\n",
       "</table>\n"
      ],
      "text/latex": [
       "A data.frame: 6 × 4\n",
       "\\begin{tabular}{r|llll}\n",
       "  & ParticipantID & Age & Sex & SIRE\\\\\n",
       "  & <int> & <dbl> & <chr> & <chr>\\\\\n",
       "\\hline\n",
       "\t1 & 72855012 & 18.50098 & F & Black\\\\\n",
       "\t2 & 60709423 & 18.00000 & F & Black\\\\\n",
       "\t3 & 30963548 & 21.44716 & F & Black\\\\\n",
       "\t4 & 76818295 & 24.45020 & F & Black\\\\\n",
       "\t5 & 68693481 & 20.64606 & F & Black\\\\\n",
       "\t6 & 61809284 & 23.00696 & F & Black\\\\\n",
       "\\end{tabular}\n"
      ],
      "text/markdown": [
       "\n",
       "A data.frame: 6 × 4\n",
       "\n",
       "| <!--/--> | ParticipantID &lt;int&gt; | Age &lt;dbl&gt; | Sex &lt;chr&gt; | SIRE &lt;chr&gt; |\n",
       "|---|---|---|---|---|\n",
       "| 1 | 72855012 | 18.50098 | F | Black |\n",
       "| 2 | 60709423 | 18.00000 | F | Black |\n",
       "| 3 | 30963548 | 21.44716 | F | Black |\n",
       "| 4 | 76818295 | 24.45020 | F | Black |\n",
       "| 5 | 68693481 | 20.64606 | F | Black |\n",
       "| 6 | 61809284 | 23.00696 | F | Black |\n",
       "\n"
      ],
      "text/plain": [
       "  ParticipantID Age      Sex SIRE \n",
       "1 72855012      18.50098 F   Black\n",
       "2 60709423      18.00000 F   Black\n",
       "3 30963548      21.44716 F   Black\n",
       "4 76818295      24.45020 F   Black\n",
       "5 68693481      20.64606 F   Black\n",
       "6 61809284      23.00696 F   Black"
      ]
     },
     "metadata": {},
     "output_type": "display_data"
    },
    {
     "data": {
      "text/html": [
       "<style>\n",
       ".list-inline {list-style: none; margin:0; padding: 0}\n",
       ".list-inline>li {display: inline-block}\n",
       ".list-inline>li:not(:last-child)::after {content: \"\\00b7\"; padding: 0 .5ex}\n",
       "</style>\n",
       "<ol class=list-inline><li>499870</li><li>2</li></ol>\n"
      ],
      "text/latex": [
       "\\begin{enumerate*}\n",
       "\\item 499870\n",
       "\\item 2\n",
       "\\end{enumerate*}\n"
      ],
      "text/markdown": [
       "1. 499870\n",
       "2. 2\n",
       "\n",
       "\n"
      ],
      "text/plain": [
       "[1] 499870      2"
      ]
     },
     "metadata": {},
     "output_type": "display_data"
    },
    {
     "data": {
      "text/html": [
       "<table class=\"dataframe\">\n",
       "<caption>A data.frame: 6 × 2</caption>\n",
       "<thead>\n",
       "\t<tr><th></th><th scope=col>ParticipantID</th><th scope=col>ICD10CM</th></tr>\n",
       "\t<tr><th></th><th scope=col>&lt;int&gt;</th><th scope=col>&lt;chr&gt;</th></tr>\n",
       "</thead>\n",
       "<tbody>\n",
       "\t<tr><th scope=row>1</th><td>72855012</td><td>D46.C   </td></tr>\n",
       "\t<tr><th scope=row>2</th><td>72855012</td><td>S27.421 </td></tr>\n",
       "\t<tr><th scope=row>3</th><td>72855012</td><td>S72.022A</td></tr>\n",
       "\t<tr><th scope=row>4</th><td>72855012</td><td>S82.892S</td></tr>\n",
       "\t<tr><th scope=row>5</th><td>72855012</td><td>M96.840 </td></tr>\n",
       "\t<tr><th scope=row>6</th><td>72855012</td><td>S56.202S</td></tr>\n",
       "</tbody>\n",
       "</table>\n"
      ],
      "text/latex": [
       "A data.frame: 6 × 2\n",
       "\\begin{tabular}{r|ll}\n",
       "  & ParticipantID & ICD10CM\\\\\n",
       "  & <int> & <chr>\\\\\n",
       "\\hline\n",
       "\t1 & 72855012 & D46.C   \\\\\n",
       "\t2 & 72855012 & S27.421 \\\\\n",
       "\t3 & 72855012 & S72.022A\\\\\n",
       "\t4 & 72855012 & S82.892S\\\\\n",
       "\t5 & 72855012 & M96.840 \\\\\n",
       "\t6 & 72855012 & S56.202S\\\\\n",
       "\\end{tabular}\n"
      ],
      "text/markdown": [
       "\n",
       "A data.frame: 6 × 2\n",
       "\n",
       "| <!--/--> | ParticipantID &lt;int&gt; | ICD10CM &lt;chr&gt; |\n",
       "|---|---|---|\n",
       "| 1 | 72855012 | D46.C    |\n",
       "| 2 | 72855012 | S27.421  |\n",
       "| 3 | 72855012 | S72.022A |\n",
       "| 4 | 72855012 | S82.892S |\n",
       "| 5 | 72855012 | M96.840  |\n",
       "| 6 | 72855012 | S56.202S |\n",
       "\n"
      ],
      "text/plain": [
       "  ParticipantID ICD10CM \n",
       "1 72855012      D46.C   \n",
       "2 72855012      S27.421 \n",
       "3 72855012      S72.022A\n",
       "4 72855012      S82.892S\n",
       "5 72855012      M96.840 \n",
       "6 72855012      S56.202S"
      ]
     },
     "metadata": {},
     "output_type": "display_data"
    }
   ],
   "source": [
    "# Load the files for our cohort.\n",
    "cohort = as.data.frame(fread(\"../Data/Session2/ParticipantCohort.tsv\"))\n",
    "range(cohort$ParticipantID)\n",
    "dim(cohort)\n",
    "head(cohort)\n",
    "\n",
    "ehr_records = as.data.frame(fread(\"../Data/Session2/ParticipantEHR.tsv\"))\n",
    "dim(ehr_records)\n",
    "head(ehr_records)"
   ]
  },
  {
   "cell_type": "code",
   "execution_count": 7,
   "id": "7568b8cc-470f-4586-9f73-a5cc2485a8e1",
   "metadata": {
    "tags": []
   },
   "outputs": [
    {
     "data": {
      "text/html": [
       "<table class=\"dataframe\">\n",
       "<caption>A data.frame: 6 × 3</caption>\n",
       "<thead>\n",
       "\t<tr><th scope=col>SIRE</th><th scope=col>Sex</th><th scope=col>n</th></tr>\n",
       "\t<tr><th scope=col>&lt;chr&gt;</th><th scope=col>&lt;chr&gt;</th><th scope=col>&lt;int&gt;</th></tr>\n",
       "</thead>\n",
       "<tbody>\n",
       "\t<tr><td>Black   </td><td>F</td><td> 4670</td></tr>\n",
       "\t<tr><td>Black   </td><td>M</td><td> 2759</td></tr>\n",
       "\t<tr><td>Hispanic</td><td>F</td><td> 7436</td></tr>\n",
       "\t<tr><td>Hispanic</td><td>M</td><td> 2990</td></tr>\n",
       "\t<tr><td>White   </td><td>F</td><td>20314</td></tr>\n",
       "\t<tr><td>White   </td><td>M</td><td>11831</td></tr>\n",
       "</tbody>\n",
       "</table>\n"
      ],
      "text/latex": [
       "A data.frame: 6 × 3\n",
       "\\begin{tabular}{lll}\n",
       " SIRE & Sex & n\\\\\n",
       " <chr> & <chr> & <int>\\\\\n",
       "\\hline\n",
       "\t Black    & F &  4670\\\\\n",
       "\t Black    & M &  2759\\\\\n",
       "\t Hispanic & F &  7436\\\\\n",
       "\t Hispanic & M &  2990\\\\\n",
       "\t White    & F & 20314\\\\\n",
       "\t White    & M & 11831\\\\\n",
       "\\end{tabular}\n"
      ],
      "text/markdown": [
       "\n",
       "A data.frame: 6 × 3\n",
       "\n",
       "| SIRE &lt;chr&gt; | Sex &lt;chr&gt; | n &lt;int&gt; |\n",
       "|---|---|---|\n",
       "| Black    | F |  4670 |\n",
       "| Black    | M |  2759 |\n",
       "| Hispanic | F |  7436 |\n",
       "| Hispanic | M |  2990 |\n",
       "| White    | F | 20314 |\n",
       "| White    | M | 11831 |\n",
       "\n"
      ],
      "text/plain": [
       "  SIRE     Sex n    \n",
       "1 Black    F    4670\n",
       "2 Black    M    2759\n",
       "3 Hispanic F    7436\n",
       "4 Hispanic M    2990\n",
       "5 White    F   20314\n",
       "6 White    M   11831"
      ]
     },
     "metadata": {},
     "output_type": "display_data"
    },
    {
     "name": "stderr",
     "output_type": "stream",
     "text": [
      "\u001b[1m\u001b[22m`summarise()` has grouped output by 'SIRE'. You can override using the `.groups` argument.\n"
     ]
    },
    {
     "data": {
      "text/html": [
       "<table class=\"dataframe\">\n",
       "<caption>A grouped_df: 6 × 3</caption>\n",
       "<thead>\n",
       "\t<tr><th scope=col>SIRE</th><th scope=col>Sex</th><th scope=col>MeanAge</th></tr>\n",
       "\t<tr><th scope=col>&lt;chr&gt;</th><th scope=col>&lt;chr&gt;</th><th scope=col>&lt;dbl&gt;</th></tr>\n",
       "</thead>\n",
       "<tbody>\n",
       "\t<tr><td>Black   </td><td>F</td><td>48.04122</td></tr>\n",
       "\t<tr><td>Black   </td><td>M</td><td>47.88016</td></tr>\n",
       "\t<tr><td>Hispanic</td><td>F</td><td>50.08872</td></tr>\n",
       "\t<tr><td>Hispanic</td><td>M</td><td>50.05681</td></tr>\n",
       "\t<tr><td>White   </td><td>F</td><td>46.27746</td></tr>\n",
       "\t<tr><td>White   </td><td>M</td><td>46.37888</td></tr>\n",
       "</tbody>\n",
       "</table>\n"
      ],
      "text/latex": [
       "A grouped\\_df: 6 × 3\n",
       "\\begin{tabular}{lll}\n",
       " SIRE & Sex & MeanAge\\\\\n",
       " <chr> & <chr> & <dbl>\\\\\n",
       "\\hline\n",
       "\t Black    & F & 48.04122\\\\\n",
       "\t Black    & M & 47.88016\\\\\n",
       "\t Hispanic & F & 50.08872\\\\\n",
       "\t Hispanic & M & 50.05681\\\\\n",
       "\t White    & F & 46.27746\\\\\n",
       "\t White    & M & 46.37888\\\\\n",
       "\\end{tabular}\n"
      ],
      "text/markdown": [
       "\n",
       "A grouped_df: 6 × 3\n",
       "\n",
       "| SIRE &lt;chr&gt; | Sex &lt;chr&gt; | MeanAge &lt;dbl&gt; |\n",
       "|---|---|---|\n",
       "| Black    | F | 48.04122 |\n",
       "| Black    | M | 47.88016 |\n",
       "| Hispanic | F | 50.08872 |\n",
       "| Hispanic | M | 50.05681 |\n",
       "| White    | F | 46.27746 |\n",
       "| White    | M | 46.37888 |\n",
       "\n"
      ],
      "text/plain": [
       "  SIRE     Sex MeanAge \n",
       "1 Black    F   48.04122\n",
       "2 Black    M   47.88016\n",
       "3 Hispanic F   50.08872\n",
       "4 Hispanic M   50.05681\n",
       "5 White    F   46.27746\n",
       "6 White    M   46.37888"
      ]
     },
     "metadata": {},
     "output_type": "display_data"
    }
   ],
   "source": [
    "#Explore the data a little bit.\n",
    "cohort %>% count(SIRE, Sex)\n",
    "cohort %>% group_by(SIRE, Sex) %>% summarize(MeanAge = mean(Age))"
   ]
  },
  {
   "cell_type": "code",
   "execution_count": 8,
   "id": "f4b6d9e9-30d1-40ef-b77c-58847fe68f05",
   "metadata": {
    "tags": []
   },
   "outputs": [
    {
     "data": {
      "image/png": "[encoded data removed]",
      "text/plain": [
       "plot without title"
      ]
     },
     "metadata": {
      "image/png": {
       "height": 720,
       "width": 720
      }
     },
     "output_type": "display_data"
    }
   ],
   "source": [
    "# Visualzie the density of age distribution.\n",
    "ggplot(cohort, aes(x = Age, fill = SIRE)) + \n",
    "    geom_density(alpha = 0.3) + \n",
    "    theme_bw(base_size = 20) + \n",
    "    theme(legend.position = \"bottom\")"
   ]
  },
  {
   "cell_type": "code",
   "execution_count": 9,
   "id": "1979970f-ad70-43da-b5dd-51a994dc0518",
   "metadata": {
    "tags": []
   },
   "outputs": [
    {
     "name": "stdout",
     "output_type": "stream",
     "text": [
      "[1] \"Number of rows in our EHR df: \"\n"
     ]
    },
    {
     "data": {
      "text/html": [
       "<style>\n",
       ".list-inline {list-style: none; margin:0; padding: 0}\n",
       ".list-inline>li {display: inline-block}\n",
       ".list-inline>li:not(:last-child)::after {content: \"\\00b7\"; padding: 0 .5ex}\n",
       "</style>\n",
       "<ol class=list-inline><li>499870</li><li>2</li></ol>\n"
      ],
      "text/latex": [
       "\\begin{enumerate*}\n",
       "\\item 499870\n",
       "\\item 2\n",
       "\\end{enumerate*}\n"
      ],
      "text/markdown": [
       "1. 499870\n",
       "2. 2\n",
       "\n",
       "\n"
      ],
      "text/plain": [
       "[1] 499870      2"
      ]
     },
     "metadata": {},
     "output_type": "display_data"
    },
    {
     "name": "stdout",
     "output_type": "stream",
     "text": [
      "[1] \"Number of participants that have EHR records: \"\n"
     ]
    },
    {
     "data": {
      "text/html": [
       "50000"
      ],
      "text/latex": [
       "50000"
      ],
      "text/markdown": [
       "50000"
      ],
      "text/plain": [
       "[1] 50000"
      ]
     },
     "metadata": {},
     "output_type": "display_data"
    },
    {
     "name": "stdout",
     "output_type": "stream",
     "text": [
      "[1] \"Number of unique EHR records: \"\n"
     ]
    },
    {
     "data": {
      "text/html": [
       "47733"
      ],
      "text/latex": [
       "47733"
      ],
      "text/markdown": [
       "47733"
      ],
      "text/plain": [
       "[1] 47733"
      ]
     },
     "metadata": {},
     "output_type": "display_data"
    }
   ],
   "source": [
    "#Let's have a look at the EHR records.\n",
    "print(\"Number of rows in our EHR df: \")\n",
    "dim(ehr_records)\n",
    "\n",
    "#See the number of people in the EHR data.\n",
    "print(\"Number of participants that have EHR records: \")\n",
    "length(unique(ehr_records$ParticipantID))\n",
    "\n",
    "print(\"Number of unique EHR records: \")\n",
    "length(unique(ehr_records$ICD10CM))\n"
   ]
  },
  {
   "cell_type": "markdown",
   "id": "6cbf94bb-77e2-4c1f-943e-dda27f9912b1",
   "metadata": {},
   "source": [
    "## Section 2 - Create case-control cohorts"
   ]
  },
  {
   "cell_type": "code",
   "execution_count": 10,
   "id": "60cac4b0-9c5a-4bb9-a117-bbba0cdb00e1",
   "metadata": {
    "tags": []
   },
   "outputs": [
    {
     "data": {
      "text/html": [
       "<style>\n",
       ".list-inline {list-style: none; margin:0; padding: 0}\n",
       ".list-inline>li {display: inline-block}\n",
       ".list-inline>li:not(:last-child)::after {content: \"\\00b7\"; padding: 0 .5ex}\n",
       "</style>\n",
       "<ol class=list-inline><li>90835</li><li>8</li></ol>\n"
      ],
      "text/latex": [
       "\\begin{enumerate*}\n",
       "\\item 90835\n",
       "\\item 8\n",
       "\\end{enumerate*}\n"
      ],
      "text/markdown": [
       "1. 90835\n",
       "2. 8\n",
       "\n",
       "\n"
      ],
      "text/plain": [
       "[1] 90835     8"
      ]
     },
     "metadata": {},
     "output_type": "display_data"
    },
    {
     "data": {
      "text/html": [
       "<table class=\"dataframe\">\n",
       "<caption>A data.frame: 6 × 8</caption>\n",
       "<thead>\n",
       "\t<tr><th></th><th scope=col>icd10cm</th><th scope=col>icd10cm_str</th><th scope=col>phecode</th><th scope=col>phecode_str</th><th scope=col>exclude_range</th><th scope=col>exclude_name</th><th scope=col>leaf</th><th scope=col>rollup</th></tr>\n",
       "\t<tr><th></th><th scope=col>&lt;chr&gt;</th><th scope=col>&lt;chr&gt;</th><th scope=col>&lt;dbl&gt;</th><th scope=col>&lt;chr&gt;</th><th scope=col>&lt;chr&gt;</th><th scope=col>&lt;chr&gt;</th><th scope=col>&lt;int&gt;</th><th scope=col>&lt;int&gt;</th></tr>\n",
       "</thead>\n",
       "<tbody>\n",
       "\t<tr><th scope=row>1</th><td>S05.22XD</td><td>Ocular laceration and rupture with prolapse or loss of intraocular tissue, left eye, subsequent encounter</td><td>870.1</td><td>Open wound or laceration of eye or eyelid</td><td>870-879.99</td><td>injuries &amp; poisonings</td><td>1</td><td>1</td></tr>\n",
       "\t<tr><th scope=row>2</th><td>S01.101S</td><td><span style=white-space:pre-wrap>Unspecified open wound of right eyelid and periocular area, sequela                                      </span></td><td>870.1</td><td>Open wound or laceration of eye or eyelid</td><td>870-879.99</td><td>injuries &amp; poisonings</td><td>1</td><td>1</td></tr>\n",
       "\t<tr><th scope=row>3</th><td>S01.102S</td><td><span style=white-space:pre-wrap>Unspecified open wound of left eyelid and periocular area, sequela                                       </span></td><td>870.1</td><td>Open wound or laceration of eye or eyelid</td><td>870-879.99</td><td>injuries &amp; poisonings</td><td>1</td><td>1</td></tr>\n",
       "\t<tr><th scope=row>4</th><td>S05.22XA</td><td><span style=white-space:pre-wrap>Ocular laceration and rupture with prolapse or loss of intraocular tissue, left eye, initial encounter   </span></td><td>870.1</td><td>Open wound or laceration of eye or eyelid</td><td>870-879.99</td><td>injuries &amp; poisonings</td><td>1</td><td>1</td></tr>\n",
       "\t<tr><th scope=row>5</th><td>S01.149S</td><td><span style=white-space:pre-wrap>Puncture wound with foreign body of unspecified eyelid and periocular area, sequela                      </span></td><td>870.1</td><td>Open wound or laceration of eye or eyelid</td><td>870-879.99</td><td>injuries &amp; poisonings</td><td>1</td><td>1</td></tr>\n",
       "\t<tr><th scope=row>6</th><td>S05.61XS</td><td><span style=white-space:pre-wrap>Penetrating wound without foreign body of right eyeball, sequela                                         </span></td><td>870.1</td><td>Open wound or laceration of eye or eyelid</td><td>870-879.99</td><td>injuries &amp; poisonings</td><td>1</td><td>1</td></tr>\n",
       "</tbody>\n",
       "</table>\n"
      ],
      "text/latex": [
       "A data.frame: 6 × 8\n",
       "\\begin{tabular}{r|llllllll}\n",
       "  & icd10cm & icd10cm\\_str & phecode & phecode\\_str & exclude\\_range & exclude\\_name & leaf & rollup\\\\\n",
       "  & <chr> & <chr> & <dbl> & <chr> & <chr> & <chr> & <int> & <int>\\\\\n",
       "\\hline\n",
       "\t1 & S05.22XD & Ocular laceration and rupture with prolapse or loss of intraocular tissue, left eye, subsequent encounter & 870.1 & Open wound or laceration of eye or eyelid & 870-879.99 & injuries \\& poisonings & 1 & 1\\\\\n",
       "\t2 & S01.101S & Unspecified open wound of right eyelid and periocular area, sequela                                       & 870.1 & Open wound or laceration of eye or eyelid & 870-879.99 & injuries \\& poisonings & 1 & 1\\\\\n",
       "\t3 & S01.102S & Unspecified open wound of left eyelid and periocular area, sequela                                        & 870.1 & Open wound or laceration of eye or eyelid & 870-879.99 & injuries \\& poisonings & 1 & 1\\\\\n",
       "\t4 & S05.22XA & Ocular laceration and rupture with prolapse or loss of intraocular tissue, left eye, initial encounter    & 870.1 & Open wound or laceration of eye or eyelid & 870-879.99 & injuries \\& poisonings & 1 & 1\\\\\n",
       "\t5 & S01.149S & Puncture wound with foreign body of unspecified eyelid and periocular area, sequela                       & 870.1 & Open wound or laceration of eye or eyelid & 870-879.99 & injuries \\& poisonings & 1 & 1\\\\\n",
       "\t6 & S05.61XS & Penetrating wound without foreign body of right eyeball, sequela                                          & 870.1 & Open wound or laceration of eye or eyelid & 870-879.99 & injuries \\& poisonings & 1 & 1\\\\\n",
       "\\end{tabular}\n"
      ],
      "text/markdown": [
       "\n",
       "A data.frame: 6 × 8\n",
       "\n",
       "| <!--/--> | icd10cm &lt;chr&gt; | icd10cm_str &lt;chr&gt; | phecode &lt;dbl&gt; | phecode_str &lt;chr&gt; | exclude_range &lt;chr&gt; | exclude_name &lt;chr&gt; | leaf &lt;int&gt; | rollup &lt;int&gt; |\n",
       "|---|---|---|---|---|---|---|---|---|\n",
       "| 1 | S05.22XD | Ocular laceration and rupture with prolapse or loss of intraocular tissue, left eye, subsequent encounter | 870.1 | Open wound or laceration of eye or eyelid | 870-879.99 | injuries &amp; poisonings | 1 | 1 |\n",
       "| 2 | S01.101S | Unspecified open wound of right eyelid and periocular area, sequela                                       | 870.1 | Open wound or laceration of eye or eyelid | 870-879.99 | injuries &amp; poisonings | 1 | 1 |\n",
       "| 3 | S01.102S | Unspecified open wound of left eyelid and periocular area, sequela                                        | 870.1 | Open wound or laceration of eye or eyelid | 870-879.99 | injuries &amp; poisonings | 1 | 1 |\n",
       "| 4 | S05.22XA | Ocular laceration and rupture with prolapse or loss of intraocular tissue, left eye, initial encounter    | 870.1 | Open wound or laceration of eye or eyelid | 870-879.99 | injuries &amp; poisonings | 1 | 1 |\n",
       "| 5 | S01.149S | Puncture wound with foreign body of unspecified eyelid and periocular area, sequela                       | 870.1 | Open wound or laceration of eye or eyelid | 870-879.99 | injuries &amp; poisonings | 1 | 1 |\n",
       "| 6 | S05.61XS | Penetrating wound without foreign body of right eyeball, sequela                                          | 870.1 | Open wound or laceration of eye or eyelid | 870-879.99 | injuries &amp; poisonings | 1 | 1 |\n",
       "\n"
      ],
      "text/plain": [
       "  icd10cm \n",
       "1 S05.22XD\n",
       "2 S01.101S\n",
       "3 S01.102S\n",
       "4 S05.22XA\n",
       "5 S01.149S\n",
       "6 S05.61XS\n",
       "  icd10cm_str                                                                                              \n",
       "1 Ocular laceration and rupture with prolapse or loss of intraocular tissue, left eye, subsequent encounter\n",
       "2 Unspecified open wound of right eyelid and periocular area, sequela                                      \n",
       "3 Unspecified open wound of left eyelid and periocular area, sequela                                       \n",
       "4 Ocular laceration and rupture with prolapse or loss of intraocular tissue, left eye, initial encounter   \n",
       "5 Puncture wound with foreign body of unspecified eyelid and periocular area, sequela                      \n",
       "6 Penetrating wound without foreign body of right eyeball, sequela                                         \n",
       "  phecode phecode_str                               exclude_range\n",
       "1 870.1   Open wound or laceration of eye or eyelid 870-879.99   \n",
       "2 870.1   Open wound or laceration of eye or eyelid 870-879.99   \n",
       "3 870.1   Open wound or laceration of eye or eyelid 870-879.99   \n",
       "4 870.1   Open wound or laceration of eye or eyelid 870-879.99   \n",
       "5 870.1   Open wound or laceration of eye or eyelid 870-879.99   \n",
       "6 870.1   Open wound or laceration of eye or eyelid 870-879.99   \n",
       "  exclude_name          leaf rollup\n",
       "1 injuries & poisonings 1    1     \n",
       "2 injuries & poisonings 1    1     \n",
       "3 injuries & poisonings 1    1     \n",
       "4 injuries & poisonings 1    1     \n",
       "5 injuries & poisonings 1    1     \n",
       "6 injuries & poisonings 1    1     "
      ]
     },
     "metadata": {},
     "output_type": "display_data"
    }
   ],
   "source": [
    "# Read the phecode map for ICD10CM codes.\n",
    "# This map file is downloaded from the PheWAS Catalog: https://phewascatalog.org/\n",
    "phecode_map = as.data.frame(fread(\"../Data/Session2/Phecode_map_v1_2_icd10cm_beta.csv\"))\n",
    "dim(phecode_map)\n",
    "head(phecode_map)"
   ]
  },
  {
   "cell_type": "code",
   "execution_count": 11,
   "id": "d7f8f034-8478-4364-9db8-5a7734f9ecd3",
   "metadata": {
    "tags": []
   },
   "outputs": [
    {
     "data": {
      "text/html": [
       "<style>\n",
       ".list-inline {list-style: none; margin:0; padding: 0}\n",
       ".list-inline>li {display: inline-block}\n",
       ".list-inline>li:not(:last-child)::after {content: \"\\00b7\"; padding: 0 .5ex}\n",
       "</style>\n",
       "<ol class=list-inline><li>24</li><li>8</li></ol>\n"
      ],
      "text/latex": [
       "\\begin{enumerate*}\n",
       "\\item 24\n",
       "\\item 8\n",
       "\\end{enumerate*}\n"
      ],
      "text/markdown": [
       "1. 24\n",
       "2. 8\n",
       "\n",
       "\n"
      ],
      "text/plain": [
       "[1] 24  8"
      ]
     },
     "metadata": {},
     "output_type": "display_data"
    },
    {
     "data": {
      "text/html": [
       "<table class=\"dataframe\">\n",
       "<caption>A data.frame: 6 × 8</caption>\n",
       "<thead>\n",
       "\t<tr><th></th><th scope=col>icd10cm</th><th scope=col>icd10cm_str</th><th scope=col>phecode</th><th scope=col>phecode_str</th><th scope=col>exclude_range</th><th scope=col>exclude_name</th><th scope=col>leaf</th><th scope=col>rollup</th></tr>\n",
       "\t<tr><th></th><th scope=col>&lt;chr&gt;</th><th scope=col>&lt;chr&gt;</th><th scope=col>&lt;dbl&gt;</th><th scope=col>&lt;chr&gt;</th><th scope=col>&lt;chr&gt;</th><th scope=col>&lt;chr&gt;</th><th scope=col>&lt;int&gt;</th><th scope=col>&lt;int&gt;</th></tr>\n",
       "</thead>\n",
       "<tbody>\n",
       "\t<tr><th scope=row>1</th><td>E11.6  </td><td>Type 2 diabetes mellitus with other specified complications</td><td>250.2</td><td>Type 2 diabetes</td><td>249-250.99</td><td>endocrine/metabolic</td><td>0</td><td>1</td></tr>\n",
       "\t<tr><th scope=row>2</th><td>E11.64 </td><td>Type 2 diabetes mellitus with hypoglycemia                 </td><td>250.2</td><td>Type 2 diabetes</td><td>249-250.99</td><td>endocrine/metabolic</td><td>0</td><td>1</td></tr>\n",
       "\t<tr><th scope=row>3</th><td>E11.649</td><td>Type 2 diabetes mellitus with hypoglycemia without coma    </td><td>250.2</td><td>Type 2 diabetes</td><td>249-250.99</td><td>endocrine/metabolic</td><td>0</td><td>1</td></tr>\n",
       "\t<tr><th scope=row>4</th><td>E11.641</td><td>Type 2 diabetes mellitus with hypoglycemia with coma       </td><td>250.2</td><td>Type 2 diabetes</td><td>249-250.99</td><td>endocrine/metabolic</td><td>0</td><td>1</td></tr>\n",
       "\t<tr><th scope=row>5</th><td>E11.630</td><td>Type 2 diabetes mellitus with periodontal disease          </td><td>250.2</td><td>Type 2 diabetes</td><td>249-250.99</td><td>endocrine/metabolic</td><td>0</td><td>1</td></tr>\n",
       "\t<tr><th scope=row>6</th><td>E11.69 </td><td>Type 2 diabetes mellitus with other specified complication </td><td>250.2</td><td>Type 2 diabetes</td><td>249-250.99</td><td>endocrine/metabolic</td><td>0</td><td>1</td></tr>\n",
       "</tbody>\n",
       "</table>\n"
      ],
      "text/latex": [
       "A data.frame: 6 × 8\n",
       "\\begin{tabular}{r|llllllll}\n",
       "  & icd10cm & icd10cm\\_str & phecode & phecode\\_str & exclude\\_range & exclude\\_name & leaf & rollup\\\\\n",
       "  & <chr> & <chr> & <dbl> & <chr> & <chr> & <chr> & <int> & <int>\\\\\n",
       "\\hline\n",
       "\t1 & E11.6   & Type 2 diabetes mellitus with other specified complications & 250.2 & Type 2 diabetes & 249-250.99 & endocrine/metabolic & 0 & 1\\\\\n",
       "\t2 & E11.64  & Type 2 diabetes mellitus with hypoglycemia                  & 250.2 & Type 2 diabetes & 249-250.99 & endocrine/metabolic & 0 & 1\\\\\n",
       "\t3 & E11.649 & Type 2 diabetes mellitus with hypoglycemia without coma     & 250.2 & Type 2 diabetes & 249-250.99 & endocrine/metabolic & 0 & 1\\\\\n",
       "\t4 & E11.641 & Type 2 diabetes mellitus with hypoglycemia with coma        & 250.2 & Type 2 diabetes & 249-250.99 & endocrine/metabolic & 0 & 1\\\\\n",
       "\t5 & E11.630 & Type 2 diabetes mellitus with periodontal disease           & 250.2 & Type 2 diabetes & 249-250.99 & endocrine/metabolic & 0 & 1\\\\\n",
       "\t6 & E11.69  & Type 2 diabetes mellitus with other specified complication  & 250.2 & Type 2 diabetes & 249-250.99 & endocrine/metabolic & 0 & 1\\\\\n",
       "\\end{tabular}\n"
      ],
      "text/markdown": [
       "\n",
       "A data.frame: 6 × 8\n",
       "\n",
       "| <!--/--> | icd10cm &lt;chr&gt; | icd10cm_str &lt;chr&gt; | phecode &lt;dbl&gt; | phecode_str &lt;chr&gt; | exclude_range &lt;chr&gt; | exclude_name &lt;chr&gt; | leaf &lt;int&gt; | rollup &lt;int&gt; |\n",
       "|---|---|---|---|---|---|---|---|---|\n",
       "| 1 | E11.6   | Type 2 diabetes mellitus with other specified complications | 250.2 | Type 2 diabetes | 249-250.99 | endocrine/metabolic | 0 | 1 |\n",
       "| 2 | E11.64  | Type 2 diabetes mellitus with hypoglycemia                  | 250.2 | Type 2 diabetes | 249-250.99 | endocrine/metabolic | 0 | 1 |\n",
       "| 3 | E11.649 | Type 2 diabetes mellitus with hypoglycemia without coma     | 250.2 | Type 2 diabetes | 249-250.99 | endocrine/metabolic | 0 | 1 |\n",
       "| 4 | E11.641 | Type 2 diabetes mellitus with hypoglycemia with coma        | 250.2 | Type 2 diabetes | 249-250.99 | endocrine/metabolic | 0 | 1 |\n",
       "| 5 | E11.630 | Type 2 diabetes mellitus with periodontal disease           | 250.2 | Type 2 diabetes | 249-250.99 | endocrine/metabolic | 0 | 1 |\n",
       "| 6 | E11.69  | Type 2 diabetes mellitus with other specified complication  | 250.2 | Type 2 diabetes | 249-250.99 | endocrine/metabolic | 0 | 1 |\n",
       "\n"
      ],
      "text/plain": [
       "  icd10cm icd10cm_str                                                 phecode\n",
       "1 E11.6   Type 2 diabetes mellitus with other specified complications 250.2  \n",
       "2 E11.64  Type 2 diabetes mellitus with hypoglycemia                  250.2  \n",
       "3 E11.649 Type 2 diabetes mellitus with hypoglycemia without coma     250.2  \n",
       "4 E11.641 Type 2 diabetes mellitus with hypoglycemia with coma        250.2  \n",
       "5 E11.630 Type 2 diabetes mellitus with periodontal disease           250.2  \n",
       "6 E11.69  Type 2 diabetes mellitus with other specified complication  250.2  \n",
       "  phecode_str     exclude_range exclude_name        leaf rollup\n",
       "1 Type 2 diabetes 249-250.99    endocrine/metabolic 0    1     \n",
       "2 Type 2 diabetes 249-250.99    endocrine/metabolic 0    1     \n",
       "3 Type 2 diabetes 249-250.99    endocrine/metabolic 0    1     \n",
       "4 Type 2 diabetes 249-250.99    endocrine/metabolic 0    1     \n",
       "5 Type 2 diabetes 249-250.99    endocrine/metabolic 0    1     \n",
       "6 Type 2 diabetes 249-250.99    endocrine/metabolic 0    1     "
      ]
     },
     "metadata": {},
     "output_type": "display_data"
    }
   ],
   "source": [
    "# Extract the IDC10CM codes for our disease of interest: Type 2 Diabetes.\n",
    "phecode_map_t2d = phecode_map %>% filter(phecode_str == \"Type 2 diabetes\")\n",
    "dim(phecode_map_t2d)\n",
    "head(phecode_map_t2d)"
   ]
  },
  {
   "cell_type": "code",
   "execution_count": 12,
   "id": "d146bf5b-e48d-4c78-bbb1-a785bdbd1850",
   "metadata": {
    "tags": []
   },
   "outputs": [
    {
     "data": {
      "text/html": [
       "<style>\n",
       ".list-inline {list-style: none; margin:0; padding: 0}\n",
       ".list-inline>li {display: inline-block}\n",
       ".list-inline>li:not(:last-child)::after {content: \"\\00b7\"; padding: 0 .5ex}\n",
       "</style>\n",
       "<ol class=list-inline><li>499870</li><li>3</li></ol>\n"
      ],
      "text/latex": [
       "\\begin{enumerate*}\n",
       "\\item 499870\n",
       "\\item 3\n",
       "\\end{enumerate*}\n"
      ],
      "text/markdown": [
       "1. 499870\n",
       "2. 3\n",
       "\n",
       "\n"
      ],
      "text/plain": [
       "[1] 499870      3"
      ]
     },
     "metadata": {},
     "output_type": "display_data"
    },
    {
     "data": {
      "text/html": [
       "<table class=\"dataframe\">\n",
       "<caption>A data.frame: 6 × 3</caption>\n",
       "<thead>\n",
       "\t<tr><th></th><th scope=col>ParticipantID</th><th scope=col>ICD10CM</th><th scope=col>T2D_Code</th></tr>\n",
       "\t<tr><th></th><th scope=col>&lt;int&gt;</th><th scope=col>&lt;chr&gt;</th><th scope=col>&lt;dbl&gt;</th></tr>\n",
       "</thead>\n",
       "<tbody>\n",
       "\t<tr><th scope=row>1</th><td>72855012</td><td>D46.C   </td><td>0</td></tr>\n",
       "\t<tr><th scope=row>2</th><td>72855012</td><td>S27.421 </td><td>0</td></tr>\n",
       "\t<tr><th scope=row>3</th><td>72855012</td><td>S72.022A</td><td>0</td></tr>\n",
       "\t<tr><th scope=row>4</th><td>72855012</td><td>S82.892S</td><td>0</td></tr>\n",
       "\t<tr><th scope=row>5</th><td>72855012</td><td>M96.840 </td><td>0</td></tr>\n",
       "\t<tr><th scope=row>6</th><td>72855012</td><td>S56.202S</td><td>0</td></tr>\n",
       "</tbody>\n",
       "</table>\n"
      ],
      "text/latex": [
       "A data.frame: 6 × 3\n",
       "\\begin{tabular}{r|lll}\n",
       "  & ParticipantID & ICD10CM & T2D\\_Code\\\\\n",
       "  & <int> & <chr> & <dbl>\\\\\n",
       "\\hline\n",
       "\t1 & 72855012 & D46.C    & 0\\\\\n",
       "\t2 & 72855012 & S27.421  & 0\\\\\n",
       "\t3 & 72855012 & S72.022A & 0\\\\\n",
       "\t4 & 72855012 & S82.892S & 0\\\\\n",
       "\t5 & 72855012 & M96.840  & 0\\\\\n",
       "\t6 & 72855012 & S56.202S & 0\\\\\n",
       "\\end{tabular}\n"
      ],
      "text/markdown": [
       "\n",
       "A data.frame: 6 × 3\n",
       "\n",
       "| <!--/--> | ParticipantID &lt;int&gt; | ICD10CM &lt;chr&gt; | T2D_Code &lt;dbl&gt; |\n",
       "|---|---|---|---|\n",
       "| 1 | 72855012 | D46.C    | 0 |\n",
       "| 2 | 72855012 | S27.421  | 0 |\n",
       "| 3 | 72855012 | S72.022A | 0 |\n",
       "| 4 | 72855012 | S82.892S | 0 |\n",
       "| 5 | 72855012 | M96.840  | 0 |\n",
       "| 6 | 72855012 | S56.202S | 0 |\n",
       "\n"
      ],
      "text/plain": [
       "  ParticipantID ICD10CM  T2D_Code\n",
       "1 72855012      D46.C    0       \n",
       "2 72855012      S27.421  0       \n",
       "3 72855012      S72.022A 0       \n",
       "4 72855012      S82.892S 0       \n",
       "5 72855012      M96.840  0       \n",
       "6 72855012      S56.202S 0       "
      ]
     },
     "metadata": {},
     "output_type": "display_data"
    }
   ],
   "source": [
    "#Label if an EHR entry is for T2D or not.\n",
    "ehr_records = ehr_records %>% mutate(T2D_Code = case_when(ICD10CM %in% phecode_map_t2d$icd10cm ~ 1, .default = 0))\n",
    "dim(ehr_records)\n",
    "head(ehr_records)"
   ]
  },
  {
   "cell_type": "code",
   "execution_count": 13,
   "id": "1b3bc8c4-5b4a-465b-91e8-de2c313c81fa",
   "metadata": {
    "tags": []
   },
   "outputs": [
    {
     "data": {
      "text/html": [
       "<style>\n",
       ".list-inline {list-style: none; margin:0; padding: 0}\n",
       ".list-inline>li {display: inline-block}\n",
       ".list-inline>li:not(:last-child)::after {content: \"\\00b7\"; padding: 0 .5ex}\n",
       "</style>\n",
       "<ol class=list-inline><li>50000</li><li>2</li></ol>\n"
      ],
      "text/latex": [
       "\\begin{enumerate*}\n",
       "\\item 50000\n",
       "\\item 2\n",
       "\\end{enumerate*}\n"
      ],
      "text/markdown": [
       "1. 50000\n",
       "2. 2\n",
       "\n",
       "\n"
      ],
      "text/plain": [
       "[1] 50000     2"
      ]
     },
     "metadata": {},
     "output_type": "display_data"
    },
    {
     "data": {
      "text/html": [
       "<table class=\"dataframe\">\n",
       "<caption>A data.frame: 6 × 2</caption>\n",
       "<thead>\n",
       "\t<tr><th></th><th scope=col>ParticipantID</th><th scope=col>T2DStatus</th></tr>\n",
       "\t<tr><th></th><th scope=col>&lt;int&gt;</th><th scope=col>&lt;dbl&gt;</th></tr>\n",
       "</thead>\n",
       "<tbody>\n",
       "\t<tr><th scope=row>1</th><td>10001701</td><td>0</td></tr>\n",
       "\t<tr><th scope=row>2</th><td>10004576</td><td>0</td></tr>\n",
       "\t<tr><th scope=row>3</th><td>10006792</td><td>0</td></tr>\n",
       "\t<tr><th scope=row>4</th><td>10007268</td><td>0</td></tr>\n",
       "\t<tr><th scope=row>5</th><td>10008364</td><td>0</td></tr>\n",
       "\t<tr><th scope=row>6</th><td>10008475</td><td>1</td></tr>\n",
       "</tbody>\n",
       "</table>\n"
      ],
      "text/latex": [
       "A data.frame: 6 × 2\n",
       "\\begin{tabular}{r|ll}\n",
       "  & ParticipantID & T2DStatus\\\\\n",
       "  & <int> & <dbl>\\\\\n",
       "\\hline\n",
       "\t1 & 10001701 & 0\\\\\n",
       "\t2 & 10004576 & 0\\\\\n",
       "\t3 & 10006792 & 0\\\\\n",
       "\t4 & 10007268 & 0\\\\\n",
       "\t5 & 10008364 & 0\\\\\n",
       "\t6 & 10008475 & 1\\\\\n",
       "\\end{tabular}\n"
      ],
      "text/markdown": [
       "\n",
       "A data.frame: 6 × 2\n",
       "\n",
       "| <!--/--> | ParticipantID &lt;int&gt; | T2DStatus &lt;dbl&gt; |\n",
       "|---|---|---|\n",
       "| 1 | 10001701 | 0 |\n",
       "| 2 | 10004576 | 0 |\n",
       "| 3 | 10006792 | 0 |\n",
       "| 4 | 10007268 | 0 |\n",
       "| 5 | 10008364 | 0 |\n",
       "| 6 | 10008475 | 1 |\n",
       "\n"
      ],
      "text/plain": [
       "  ParticipantID T2DStatus\n",
       "1 10001701      0        \n",
       "2 10004576      0        \n",
       "3 10006792      0        \n",
       "4 10007268      0        \n",
       "5 10008364      0        \n",
       "6 10008475      1        "
      ]
     },
     "metadata": {},
     "output_type": "display_data"
    }
   ],
   "source": [
    "# If a participant has at least 1 T2D code, then they are a case, otherwise they are a control.\n",
    "case_control_cohort <- ehr_records %>%\n",
    "                        group_by(ParticipantID) %>%\n",
    "                        summarize(T2DStatus = max(T2D_Code)) %>%\n",
    "                        as.data.frame()\n",
    "\n",
    "dim(case_control_cohort)\n",
    "head(case_control_cohort)"
   ]
  },
  {
   "cell_type": "code",
   "execution_count": 14,
   "id": "c4587908-aa82-4439-bda4-d63dfe414977",
   "metadata": {
    "tags": []
   },
   "outputs": [
    {
     "data": {
      "text/html": [
       "<style>\n",
       ".list-inline {list-style: none; margin:0; padding: 0}\n",
       ".list-inline>li {display: inline-block}\n",
       ".list-inline>li:not(:last-child)::after {content: \"\\00b7\"; padding: 0 .5ex}\n",
       "</style>\n",
       "<ol class=list-inline><li>50000</li><li>5</li></ol>\n"
      ],
      "text/latex": [
       "\\begin{enumerate*}\n",
       "\\item 50000\n",
       "\\item 5\n",
       "\\end{enumerate*}\n"
      ],
      "text/markdown": [
       "1. 50000\n",
       "2. 5\n",
       "\n",
       "\n"
      ],
      "text/plain": [
       "[1] 50000     5"
      ]
     },
     "metadata": {},
     "output_type": "display_data"
    },
    {
     "data": {
      "text/html": [
       "<table class=\"dataframe\">\n",
       "<caption>A data.frame: 6 × 5</caption>\n",
       "<thead>\n",
       "\t<tr><th></th><th scope=col>ParticipantID</th><th scope=col>T2DStatus</th><th scope=col>Age</th><th scope=col>Sex</th><th scope=col>SIRE</th></tr>\n",
       "\t<tr><th></th><th scope=col>&lt;int&gt;</th><th scope=col>&lt;dbl&gt;</th><th scope=col>&lt;dbl&gt;</th><th scope=col>&lt;chr&gt;</th><th scope=col>&lt;chr&gt;</th></tr>\n",
       "</thead>\n",
       "<tbody>\n",
       "\t<tr><th scope=row>1</th><td>10001701</td><td>0</td><td>50.73368</td><td>M</td><td>White   </td></tr>\n",
       "\t<tr><th scope=row>2</th><td>10004576</td><td>0</td><td>57.51144</td><td>F</td><td>Black   </td></tr>\n",
       "\t<tr><th scope=row>3</th><td>10006792</td><td>0</td><td>52.70796</td><td>F</td><td>White   </td></tr>\n",
       "\t<tr><th scope=row>4</th><td>10007268</td><td>0</td><td>49.73393</td><td>F</td><td>Hispanic</td></tr>\n",
       "\t<tr><th scope=row>5</th><td>10008364</td><td>0</td><td>43.61219</td><td>F</td><td>White   </td></tr>\n",
       "\t<tr><th scope=row>6</th><td>10008475</td><td>1</td><td>66.53269</td><td>M</td><td>Hispanic</td></tr>\n",
       "</tbody>\n",
       "</table>\n"
      ],
      "text/latex": [
       "A data.frame: 6 × 5\n",
       "\\begin{tabular}{r|lllll}\n",
       "  & ParticipantID & T2DStatus & Age & Sex & SIRE\\\\\n",
       "  & <int> & <dbl> & <dbl> & <chr> & <chr>\\\\\n",
       "\\hline\n",
       "\t1 & 10001701 & 0 & 50.73368 & M & White   \\\\\n",
       "\t2 & 10004576 & 0 & 57.51144 & F & Black   \\\\\n",
       "\t3 & 10006792 & 0 & 52.70796 & F & White   \\\\\n",
       "\t4 & 10007268 & 0 & 49.73393 & F & Hispanic\\\\\n",
       "\t5 & 10008364 & 0 & 43.61219 & F & White   \\\\\n",
       "\t6 & 10008475 & 1 & 66.53269 & M & Hispanic\\\\\n",
       "\\end{tabular}\n"
      ],
      "text/markdown": [
       "\n",
       "A data.frame: 6 × 5\n",
       "\n",
       "| <!--/--> | ParticipantID &lt;int&gt; | T2DStatus &lt;dbl&gt; | Age &lt;dbl&gt; | Sex &lt;chr&gt; | SIRE &lt;chr&gt; |\n",
       "|---|---|---|---|---|---|\n",
       "| 1 | 10001701 | 0 | 50.73368 | M | White    |\n",
       "| 2 | 10004576 | 0 | 57.51144 | F | Black    |\n",
       "| 3 | 10006792 | 0 | 52.70796 | F | White    |\n",
       "| 4 | 10007268 | 0 | 49.73393 | F | Hispanic |\n",
       "| 5 | 10008364 | 0 | 43.61219 | F | White    |\n",
       "| 6 | 10008475 | 1 | 66.53269 | M | Hispanic |\n",
       "\n"
      ],
      "text/plain": [
       "  ParticipantID T2DStatus Age      Sex SIRE    \n",
       "1 10001701      0         50.73368 M   White   \n",
       "2 10004576      0         57.51144 F   Black   \n",
       "3 10006792      0         52.70796 F   White   \n",
       "4 10007268      0         49.73393 F   Hispanic\n",
       "5 10008364      0         43.61219 F   White   \n",
       "6 10008475      1         66.53269 M   Hispanic"
      ]
     },
     "metadata": {},
     "output_type": "display_data"
    }
   ],
   "source": [
    "case_control_cohort = merge(case_control_cohort, cohort, by = \"ParticipantID\")\n",
    "dim(case_control_cohort)\n",
    "head(case_control_cohort)"
   ]
  },
  {
   "cell_type": "code",
   "execution_count": 15,
   "id": "54b63d1d-0a69-4514-abaa-14f852986d44",
   "metadata": {
    "tags": []
   },
   "outputs": [
    {
     "data": {
      "text/html": [
       "<table class=\"dataframe\">\n",
       "<caption>A grouped_df: 12 × 4</caption>\n",
       "<thead>\n",
       "\t<tr><th scope=col>SIRE</th><th scope=col>Sex</th><th scope=col>T2DStatus</th><th scope=col>n</th></tr>\n",
       "\t<tr><th scope=col>&lt;chr&gt;</th><th scope=col>&lt;chr&gt;</th><th scope=col>&lt;dbl&gt;</th><th scope=col>&lt;int&gt;</th></tr>\n",
       "</thead>\n",
       "<tbody>\n",
       "\t<tr><td>Black   </td><td>F</td><td>0</td><td> 3629</td></tr>\n",
       "\t<tr><td>Black   </td><td>F</td><td>1</td><td> 1041</td></tr>\n",
       "\t<tr><td>Black   </td><td>M</td><td>0</td><td> 2077</td></tr>\n",
       "\t<tr><td>Black   </td><td>M</td><td>1</td><td>  682</td></tr>\n",
       "\t<tr><td>Hispanic</td><td>F</td><td>0</td><td> 5545</td></tr>\n",
       "\t<tr><td>Hispanic</td><td>F</td><td>1</td><td> 1891</td></tr>\n",
       "\t<tr><td>Hispanic</td><td>M</td><td>0</td><td> 2080</td></tr>\n",
       "\t<tr><td>Hispanic</td><td>M</td><td>1</td><td>  910</td></tr>\n",
       "\t<tr><td>White   </td><td>F</td><td>0</td><td>18156</td></tr>\n",
       "\t<tr><td>White   </td><td>F</td><td>1</td><td> 2158</td></tr>\n",
       "\t<tr><td>White   </td><td>M</td><td>0</td><td>10404</td></tr>\n",
       "\t<tr><td>White   </td><td>M</td><td>1</td><td> 1427</td></tr>\n",
       "</tbody>\n",
       "</table>\n"
      ],
      "text/latex": [
       "A grouped\\_df: 12 × 4\n",
       "\\begin{tabular}{llll}\n",
       " SIRE & Sex & T2DStatus & n\\\\\n",
       " <chr> & <chr> & <dbl> & <int>\\\\\n",
       "\\hline\n",
       "\t Black    & F & 0 &  3629\\\\\n",
       "\t Black    & F & 1 &  1041\\\\\n",
       "\t Black    & M & 0 &  2077\\\\\n",
       "\t Black    & M & 1 &   682\\\\\n",
       "\t Hispanic & F & 0 &  5545\\\\\n",
       "\t Hispanic & F & 1 &  1891\\\\\n",
       "\t Hispanic & M & 0 &  2080\\\\\n",
       "\t Hispanic & M & 1 &   910\\\\\n",
       "\t White    & F & 0 & 18156\\\\\n",
       "\t White    & F & 1 &  2158\\\\\n",
       "\t White    & M & 0 & 10404\\\\\n",
       "\t White    & M & 1 &  1427\\\\\n",
       "\\end{tabular}\n"
      ],
      "text/markdown": [
       "\n",
       "A grouped_df: 12 × 4\n",
       "\n",
       "| SIRE &lt;chr&gt; | Sex &lt;chr&gt; | T2DStatus &lt;dbl&gt; | n &lt;int&gt; |\n",
       "|---|---|---|---|\n",
       "| Black    | F | 0 |  3629 |\n",
       "| Black    | F | 1 |  1041 |\n",
       "| Black    | M | 0 |  2077 |\n",
       "| Black    | M | 1 |   682 |\n",
       "| Hispanic | F | 0 |  5545 |\n",
       "| Hispanic | F | 1 |  1891 |\n",
       "| Hispanic | M | 0 |  2080 |\n",
       "| Hispanic | M | 1 |   910 |\n",
       "| White    | F | 0 | 18156 |\n",
       "| White    | F | 1 |  2158 |\n",
       "| White    | M | 0 | 10404 |\n",
       "| White    | M | 1 |  1427 |\n",
       "\n"
      ],
      "text/plain": [
       "   SIRE     Sex T2DStatus n    \n",
       "1  Black    F   0          3629\n",
       "2  Black    F   1          1041\n",
       "3  Black    M   0          2077\n",
       "4  Black    M   1           682\n",
       "5  Hispanic F   0          5545\n",
       "6  Hispanic F   1          1891\n",
       "7  Hispanic M   0          2080\n",
       "8  Hispanic M   1           910\n",
       "9  White    F   0         18156\n",
       "10 White    F   1          2158\n",
       "11 White    M   0         10404\n",
       "12 White    M   1          1427"
      ]
     },
     "metadata": {},
     "output_type": "display_data"
    }
   ],
   "source": [
    "case_control_cohort %>% group_by(SIRE, Sex) %>% count(T2DStatus)"
   ]
  },
  {
   "cell_type": "code",
   "execution_count": null,
   "id": "e81a61f6-2f25-42d6-b408-0a154f0aff4c",
   "metadata": {},
   "outputs": [],
   "source": [
    "# Save the results to a TSV file.\n",
    "write.table(x = case_control_cohort %>% dplyr::select(ParticipantID, T2DStatus),\n",
    "                file = \"../Data//Session2/ParticipantT2DStatus.tsv\",\n",
    "                quote = F,\n",
    "                sep = \"\\t\",\n",
    "                row.names = F)"
   ]
  },
  {
   "cell_type": "code",
   "execution_count": 28,
   "id": "f9a2ea64-0e5e-4b26-9978-156048e5bb0c",
   "metadata": {
    "tags": []
   },
   "outputs": [],
   "source": [
    "# Save the results to a TSV file for Session4 as well.\n",
    "write.table(x = case_control_cohort %>% dplyr::select(ParticipantID, T2DStatus),\n",
    "                file = \"../Data//Session4/ParticipantT2DStatus.tsv\",\n",
    "                quote = F,\n",
    "                sep = \"\\t\",\n",
    "                row.names = F)"
   ]
  },
  {
   "cell_type": "markdown",
   "id": "e1416bbc-0f68-4073-9254-fe963731a325",
   "metadata": {},
   "source": [
    "## Section 3 - Calculate age & sex adjusted prevalences"
   ]
  },
  {
   "cell_type": "markdown",
   "id": "53ff7aaf",
   "metadata": {},
   "source": [
    "The goal of this section is to calculate race-specific prevalence estimates of type 2 diabetes in our cohort. A paper published in the journal Clinical Diabetes provides national estimates for race-specific type 2 diabetes prevalence: https://www.ncbi.nlm.nih.gov/pmc/articles/PMC5241767/#:~:text=The%20prevalence%20of%20diagnosed%20type,non%2DHispanic%20whites%207.6%25. Furthermore, CDC estimates suggest that the nationwide prevalence for type 2 diabetes is roughly 10.74%: https://www.uptodate.com/contents/type-2-diabetes-mellitus-prevalence-and-risk-factors/print#:~:text=Other%20national%20databases%2C%20such%20as,undiagnosed%2C%20and%2095%20percent%20of. These figures give an idea of how type 2 diabetes cases may be patterned in our cohort. To get a better sense of what these national estimates convey, we can plot them as a bar plot. We begin by formatting the paper's type 2 diabetes estimates for Black, Hispanic, and White individuals as a tibble:"
   ]
  },
  {
   "cell_type": "code",
   "execution_count": 13,
   "id": "b6fcd989",
   "metadata": {},
   "outputs": [
    {
     "data": {
      "text/html": [
       "<table class=\"dataframe\">\n",
       "<caption>A tibble: 4 × 2</caption>\n",
       "<thead>\n",
       "\t<tr><th scope=col>SIRE</th><th scope=col>Prevalence</th></tr>\n",
       "\t<tr><th scope=col>&lt;fct&gt;</th><th scope=col>&lt;dbl&gt;</th></tr>\n",
       "</thead>\n",
       "<tbody>\n",
       "\t<tr><td>Black   </td><td>13.20</td></tr>\n",
       "\t<tr><td>Hispanic</td><td>12.80</td></tr>\n",
       "\t<tr><td>White   </td><td> 7.60</td></tr>\n",
       "\t<tr><td>Overall </td><td>10.74</td></tr>\n",
       "</tbody>\n",
       "</table>\n"
      ],
      "text/latex": [
       "A tibble: 4 × 2\n",
       "\\begin{tabular}{ll}\n",
       " SIRE & Prevalence\\\\\n",
       " <fct> & <dbl>\\\\\n",
       "\\hline\n",
       "\t Black    & 13.20\\\\\n",
       "\t Hispanic & 12.80\\\\\n",
       "\t White    &  7.60\\\\\n",
       "\t Overall  & 10.74\\\\\n",
       "\\end{tabular}\n"
      ],
      "text/markdown": [
       "\n",
       "A tibble: 4 × 2\n",
       "\n",
       "| SIRE &lt;fct&gt; | Prevalence &lt;dbl&gt; |\n",
       "|---|---|\n",
       "| Black    | 13.20 |\n",
       "| Hispanic | 12.80 |\n",
       "| White    |  7.60 |\n",
       "| Overall  | 10.74 |\n",
       "\n"
      ],
      "text/plain": [
       "  SIRE     Prevalence\n",
       "1 Black    13.20     \n",
       "2 Hispanic 12.80     \n",
       "3 White     7.60     \n",
       "4 Overall  10.74     "
      ]
     },
     "metadata": {},
     "output_type": "display_data"
    }
   ],
   "source": [
    "# Creating table of national estimates to be plotted\n",
    "SIRE_col = factor(c('Black','Hispanic','White', 'Overall'), levels = c('Black','Hispanic','White', 'Overall'))\n",
    "prev_col = c(13.2, 12.8, 7.6, 10.74)\n",
    "nat_est_df = tibble(SIRE = SIRE_col, Prevalence = prev_col)\n",
    "nat_est_df"
   ]
  },
  {
   "cell_type": "markdown",
   "id": "81ddac80",
   "metadata": {},
   "source": [
    "After this, we can plot the tibble with SIRE on the x-axis and prevalence estimates on the y-axis:"
   ]
  },
  {
   "cell_type": "code",
   "execution_count": 14,
   "id": "4a5e4125",
   "metadata": {},
   "outputs": [
    {
     "data": {
      "image/png": "[encoded data removed]",
      "text/plain": [
       "plot without title"
      ]
     },
     "metadata": {
      "image/png": {
       "height": 720,
       "width": 720
      }
     },
     "output_type": "display_data"
    }
   ],
   "source": [
    "# Plotting table of national estimates\n",
    "ggplot(data = nat_est_df, mapping = aes(x = SIRE, y = Prevalence)) +\n",
    "geom_bar(stat = 'identity') +\n",
    "theme_bw()"
   ]
  },
  {
   "cell_type": "markdown",
   "id": "0328a905",
   "metadata": {},
   "source": [
    "National estimates for type 2 diabetes prevalence clearly show that Black and Hispanic individuals have a disproportionately high type 2 diabetes burden relative to their White counterparts. Is the same true for our cohort? We can apply the same plotting steps to our own data. Let's have a look at how our data is structured:"
   ]
  },
  {
   "cell_type": "code",
   "execution_count": 60,
   "id": "2ab89d83",
   "metadata": {},
   "outputs": [
    {
     "name": "stderr",
     "output_type": "stream",
     "text": [
      "\u001b[1mRows: \u001b[22m\u001b[34m50000\u001b[39m \u001b[1mColumns: \u001b[22m\u001b[34m4\u001b[39m\n",
      "\u001b[36m──\u001b[39m \u001b[1mColumn specification\u001b[22m \u001b[36m────────────────────────────────────────────────────────\u001b[39m\n",
      "\u001b[1mDelimiter:\u001b[22m \"\\t\"\n",
      "\u001b[31mchr\u001b[39m (2): Sex, SIRE\n",
      "\u001b[32mdbl\u001b[39m (2): ParticipantID, Age\n",
      "\n",
      "\u001b[36mℹ\u001b[39m Use `spec()` to retrieve the full column specification for this data.\n",
      "\u001b[36mℹ\u001b[39m Specify the column types or set `show_col_types = FALSE` to quiet this message.\n"
     ]
    },
    {
     "data": {
      "text/html": [
       "<table class=\"dataframe\">\n",
       "<caption>A data.frame: 6 × 4</caption>\n",
       "<thead>\n",
       "\t<tr><th></th><th scope=col>ParticipantID</th><th scope=col>Age</th><th scope=col>Sex</th><th scope=col>SIRE</th></tr>\n",
       "\t<tr><th></th><th scope=col>&lt;int&gt;</th><th scope=col>&lt;dbl&gt;</th><th scope=col>&lt;chr&gt;</th><th scope=col>&lt;chr&gt;</th></tr>\n",
       "</thead>\n",
       "<tbody>\n",
       "\t<tr><th scope=row>1</th><td>72855012</td><td>18.50098</td><td>F</td><td>Black</td></tr>\n",
       "\t<tr><th scope=row>2</th><td>60709423</td><td>18.00000</td><td>F</td><td>Black</td></tr>\n",
       "\t<tr><th scope=row>3</th><td>30963548</td><td>21.44716</td><td>F</td><td>Black</td></tr>\n",
       "\t<tr><th scope=row>4</th><td>76818295</td><td>24.45020</td><td>F</td><td>Black</td></tr>\n",
       "\t<tr><th scope=row>5</th><td>68693481</td><td>20.64606</td><td>F</td><td>Black</td></tr>\n",
       "\t<tr><th scope=row>6</th><td>61809284</td><td>23.00696</td><td>F</td><td>Black</td></tr>\n",
       "</tbody>\n",
       "</table>\n"
      ],
      "text/latex": [
       "A data.frame: 6 × 4\n",
       "\\begin{tabular}{r|llll}\n",
       "  & ParticipantID & Age & Sex & SIRE\\\\\n",
       "  & <int> & <dbl> & <chr> & <chr>\\\\\n",
       "\\hline\n",
       "\t1 & 72855012 & 18.50098 & F & Black\\\\\n",
       "\t2 & 60709423 & 18.00000 & F & Black\\\\\n",
       "\t3 & 30963548 & 21.44716 & F & Black\\\\\n",
       "\t4 & 76818295 & 24.45020 & F & Black\\\\\n",
       "\t5 & 68693481 & 20.64606 & F & Black\\\\\n",
       "\t6 & 61809284 & 23.00696 & F & Black\\\\\n",
       "\\end{tabular}\n"
      ],
      "text/markdown": [
       "\n",
       "A data.frame: 6 × 4\n",
       "\n",
       "| <!--/--> | ParticipantID &lt;int&gt; | Age &lt;dbl&gt; | Sex &lt;chr&gt; | SIRE &lt;chr&gt; |\n",
       "|---|---|---|---|---|\n",
       "| 1 | 72855012 | 18.50098 | F | Black |\n",
       "| 2 | 60709423 | 18.00000 | F | Black |\n",
       "| 3 | 30963548 | 21.44716 | F | Black |\n",
       "| 4 | 76818295 | 24.45020 | F | Black |\n",
       "| 5 | 68693481 | 20.64606 | F | Black |\n",
       "| 6 | 61809284 | 23.00696 | F | Black |\n",
       "\n"
      ],
      "text/plain": [
       "  ParticipantID Age      Sex SIRE \n",
       "1 72855012      18.50098 F   Black\n",
       "2 60709423      18.00000 F   Black\n",
       "3 30963548      21.44716 F   Black\n",
       "4 76818295      24.45020 F   Black\n",
       "5 68693481      20.64606 F   Black\n",
       "6 61809284      23.00696 F   Black"
      ]
     },
     "metadata": {},
     "output_type": "display_data"
    }
   ],
   "source": [
    "# Loading in our cohort data\n",
    "cohort_df = as.data.frame(fread(\"../Data/Session2/ParticipantCohort.tsv\"))\n",
    "# Viewing the first few rows of our cohort\n",
    "head(cohort_df)"
   ]
  },
  {
   "cell_type": "code",
   "execution_count": 61,
   "id": "24a43259",
   "metadata": {},
   "outputs": [
    {
     "name": "stderr",
     "output_type": "stream",
     "text": [
      "\u001b[1mRows: \u001b[22m\u001b[34m50000\u001b[39m \u001b[1mColumns: \u001b[22m\u001b[34m2\u001b[39m\n",
      "\u001b[36m──\u001b[39m \u001b[1mColumn specification\u001b[22m \u001b[36m────────────────────────────────────────────────────────\u001b[39m\n",
      "\u001b[1mDelimiter:\u001b[22m \"\\t\"\n",
      "\u001b[32mdbl\u001b[39m (2): ParticipantID, T2DStatus\n",
      "\n",
      "\u001b[36mℹ\u001b[39m Use `spec()` to retrieve the full column specification for this data.\n",
      "\u001b[36mℹ\u001b[39m Specify the column types or set `show_col_types = FALSE` to quiet this message.\n"
     ]
    },
    {
     "data": {
      "text/html": [
       "<table class=\"dataframe\">\n",
       "<caption>A data.frame: 6 × 2</caption>\n",
       "<thead>\n",
       "\t<tr><th></th><th scope=col>ParticipantID</th><th scope=col>T2DStatus</th></tr>\n",
       "\t<tr><th></th><th scope=col>&lt;int&gt;</th><th scope=col>&lt;int&gt;</th></tr>\n",
       "</thead>\n",
       "<tbody>\n",
       "\t<tr><th scope=row>1</th><td>10001701</td><td>0</td></tr>\n",
       "\t<tr><th scope=row>2</th><td>10004576</td><td>0</td></tr>\n",
       "\t<tr><th scope=row>3</th><td>10006792</td><td>0</td></tr>\n",
       "\t<tr><th scope=row>4</th><td>10007268</td><td>0</td></tr>\n",
       "\t<tr><th scope=row>5</th><td>10008364</td><td>0</td></tr>\n",
       "\t<tr><th scope=row>6</th><td>10008475</td><td>1</td></tr>\n",
       "</tbody>\n",
       "</table>\n"
      ],
      "text/latex": [
       "A data.frame: 6 × 2\n",
       "\\begin{tabular}{r|ll}\n",
       "  & ParticipantID & T2DStatus\\\\\n",
       "  & <int> & <int>\\\\\n",
       "\\hline\n",
       "\t1 & 10001701 & 0\\\\\n",
       "\t2 & 10004576 & 0\\\\\n",
       "\t3 & 10006792 & 0\\\\\n",
       "\t4 & 10007268 & 0\\\\\n",
       "\t5 & 10008364 & 0\\\\\n",
       "\t6 & 10008475 & 1\\\\\n",
       "\\end{tabular}\n"
      ],
      "text/markdown": [
       "\n",
       "A data.frame: 6 × 2\n",
       "\n",
       "| <!--/--> | ParticipantID &lt;int&gt; | T2DStatus &lt;int&gt; |\n",
       "|---|---|---|\n",
       "| 1 | 10001701 | 0 |\n",
       "| 2 | 10004576 | 0 |\n",
       "| 3 | 10006792 | 0 |\n",
       "| 4 | 10007268 | 0 |\n",
       "| 5 | 10008364 | 0 |\n",
       "| 6 | 10008475 | 1 |\n",
       "\n"
      ],
      "text/plain": [
       "  ParticipantID T2DStatus\n",
       "1 10001701      0        \n",
       "2 10004576      0        \n",
       "3 10006792      0        \n",
       "4 10007268      0        \n",
       "5 10008364      0        \n",
       "6 10008475      1        "
      ]
     },
     "metadata": {},
     "output_type": "display_data"
    }
   ],
   "source": [
    "# Loading in our T2D status data\n",
    "t2d_df = as.data.frame(fread(\"../Data/Session2/ParticipantT2DStatus.tsv\"))\n",
    "# Viewing the first few rows of our cohort\n",
    "head(t2d_df)"
   ]
  },
  {
   "cell_type": "code",
   "execution_count": 62,
   "id": "daa5675e",
   "metadata": {},
   "outputs": [
    {
     "data": {
      "text/html": [
       "<table class=\"dataframe\">\n",
       "<caption>A data.frame: 6 × 5</caption>\n",
       "<thead>\n",
       "\t<tr><th></th><th scope=col>ParticipantID</th><th scope=col>Age</th><th scope=col>Sex</th><th scope=col>SIRE</th><th scope=col>t2d</th></tr>\n",
       "\t<tr><th></th><th scope=col>&lt;int&gt;</th><th scope=col>&lt;dbl&gt;</th><th scope=col>&lt;chr&gt;</th><th scope=col>&lt;chr&gt;</th><th scope=col>&lt;int&gt;</th></tr>\n",
       "</thead>\n",
       "<tbody>\n",
       "\t<tr><th scope=row>1</th><td>10001701</td><td>50.73368</td><td>M</td><td>White   </td><td>0</td></tr>\n",
       "\t<tr><th scope=row>2</th><td>10004576</td><td>57.51144</td><td>F</td><td>Black   </td><td>0</td></tr>\n",
       "\t<tr><th scope=row>3</th><td>10006792</td><td>52.70796</td><td>F</td><td>White   </td><td>0</td></tr>\n",
       "\t<tr><th scope=row>4</th><td>10007268</td><td>49.73393</td><td>F</td><td>Hispanic</td><td>0</td></tr>\n",
       "\t<tr><th scope=row>5</th><td>10008364</td><td>43.61219</td><td>F</td><td>White   </td><td>0</td></tr>\n",
       "\t<tr><th scope=row>6</th><td>10008475</td><td>66.53269</td><td>M</td><td>Hispanic</td><td>1</td></tr>\n",
       "</tbody>\n",
       "</table>\n"
      ],
      "text/latex": [
       "A data.frame: 6 × 5\n",
       "\\begin{tabular}{r|lllll}\n",
       "  & ParticipantID & Age & Sex & SIRE & t2d\\\\\n",
       "  & <int> & <dbl> & <chr> & <chr> & <int>\\\\\n",
       "\\hline\n",
       "\t1 & 10001701 & 50.73368 & M & White    & 0\\\\\n",
       "\t2 & 10004576 & 57.51144 & F & Black    & 0\\\\\n",
       "\t3 & 10006792 & 52.70796 & F & White    & 0\\\\\n",
       "\t4 & 10007268 & 49.73393 & F & Hispanic & 0\\\\\n",
       "\t5 & 10008364 & 43.61219 & F & White    & 0\\\\\n",
       "\t6 & 10008475 & 66.53269 & M & Hispanic & 1\\\\\n",
       "\\end{tabular}\n"
      ],
      "text/markdown": [
       "\n",
       "A data.frame: 6 × 5\n",
       "\n",
       "| <!--/--> | ParticipantID &lt;int&gt; | Age &lt;dbl&gt; | Sex &lt;chr&gt; | SIRE &lt;chr&gt; | t2d &lt;int&gt; |\n",
       "|---|---|---|---|---|---|\n",
       "| 1 | 10001701 | 50.73368 | M | White    | 0 |\n",
       "| 2 | 10004576 | 57.51144 | F | Black    | 0 |\n",
       "| 3 | 10006792 | 52.70796 | F | White    | 0 |\n",
       "| 4 | 10007268 | 49.73393 | F | Hispanic | 0 |\n",
       "| 5 | 10008364 | 43.61219 | F | White    | 0 |\n",
       "| 6 | 10008475 | 66.53269 | M | Hispanic | 1 |\n",
       "\n"
      ],
      "text/plain": [
       "  ParticipantID Age      Sex SIRE     t2d\n",
       "1 10001701      50.73368 M   White    0  \n",
       "2 10004576      57.51144 F   Black    0  \n",
       "3 10006792      52.70796 F   White    0  \n",
       "4 10007268      49.73393 F   Hispanic 0  \n",
       "5 10008364      43.61219 F   White    0  \n",
       "6 10008475      66.53269 M   Hispanic 1  "
      ]
     },
     "metadata": {},
     "output_type": "display_data"
    }
   ],
   "source": [
    "# Adding type 2 diabetes case data to cohort tibble\n",
    "cohort_df = merge(cohort_df, t2d_df)\n",
    "# Renaming status column\n",
    "colnames(cohort_df)[5] = 't2d'\n",
    "# Viewing merged table\n",
    "head(cohort_df)"
   ]
  },
  {
   "cell_type": "markdown",
   "id": "e26d659d",
   "metadata": {},
   "source": [
    "The 't2d' column can be used to calculate raw type 2 diabetes prevalence estimates for each of our three SIRE groups. In this column, 1s represent individuals with type 2 diabetes (cases), and 0s represent individuals without type 2 diabetes (controls). Taking raw prevalence to be equal to (# of cases in group) / (# of people in group), we can get # of cases in each SIRE group by summing the 1s in the 't2d' column for each SIRE group:"
   ]
  },
  {
   "cell_type": "code",
   "execution_count": 63,
   "id": "a1feb0a9",
   "metadata": {},
   "outputs": [
    {
     "data": {
      "text/html": [
       "<table class=\"dataframe\">\n",
       "<caption>A tibble: 4 × 2</caption>\n",
       "<thead>\n",
       "\t<tr><th scope=col>SIRE</th><th scope=col>cases</th></tr>\n",
       "\t<tr><th scope=col>&lt;chr&gt;</th><th scope=col>&lt;int&gt;</th></tr>\n",
       "</thead>\n",
       "<tbody>\n",
       "\t<tr><td>Black   </td><td>1723</td></tr>\n",
       "\t<tr><td>Hispanic</td><td>2801</td></tr>\n",
       "\t<tr><td>White   </td><td>3585</td></tr>\n",
       "\t<tr><td>Overall </td><td>8109</td></tr>\n",
       "</tbody>\n",
       "</table>\n"
      ],
      "text/latex": [
       "A tibble: 4 × 2\n",
       "\\begin{tabular}{ll}\n",
       " SIRE & cases\\\\\n",
       " <chr> & <int>\\\\\n",
       "\\hline\n",
       "\t Black    & 1723\\\\\n",
       "\t Hispanic & 2801\\\\\n",
       "\t White    & 3585\\\\\n",
       "\t Overall  & 8109\\\\\n",
       "\\end{tabular}\n"
      ],
      "text/markdown": [
       "\n",
       "A tibble: 4 × 2\n",
       "\n",
       "| SIRE &lt;chr&gt; | cases &lt;int&gt; |\n",
       "|---|---|\n",
       "| Black    | 1723 |\n",
       "| Hispanic | 2801 |\n",
       "| White    | 3585 |\n",
       "| Overall  | 8109 |\n",
       "\n"
      ],
      "text/plain": [
       "  SIRE     cases\n",
       "1 Black    1723 \n",
       "2 Hispanic 2801 \n",
       "3 White    3585 \n",
       "4 Overall  8109 "
      ]
     },
     "metadata": {},
     "output_type": "display_data"
    }
   ],
   "source": [
    "# Creating a tibble with sums of the 't2d' column for each distinct SIRE group in our cohort\n",
    "cohort_raw_prev_df = cohort_df %>%\n",
    "  group_by(SIRE) %>%\n",
    "  summarize(cases = sum(t2d))\n",
    "# Adding a row with the sum of type 2 diabetes cases across all SIRE groups\n",
    "cohort_raw_prev_df = rbind(cohort_raw_prev_df, tibble(SIRE = 'Overall',cases = sum(cohort_raw_prev_df$cases)))\n",
    "# Viewing tibble\n",
    "cohort_raw_prev_df"
   ]
  },
  {
   "cell_type": "markdown",
   "id": "751c4705",
   "metadata": {},
   "source": [
    "The 'count' function can be used to obtain the number of people within each SIRE group:"
   ]
  },
  {
   "cell_type": "code",
   "execution_count": 64,
   "id": "c30f4248",
   "metadata": {},
   "outputs": [
    {
     "data": {
      "text/html": [
       "<table class=\"dataframe\">\n",
       "<caption>A data.frame: 4 × 2</caption>\n",
       "<thead>\n",
       "\t<tr><th scope=col>SIRE</th><th scope=col>n</th></tr>\n",
       "\t<tr><th scope=col>&lt;chr&gt;</th><th scope=col>&lt;int&gt;</th></tr>\n",
       "</thead>\n",
       "<tbody>\n",
       "\t<tr><td>Black   </td><td> 7429</td></tr>\n",
       "\t<tr><td>Hispanic</td><td>10426</td></tr>\n",
       "\t<tr><td>White   </td><td>32145</td></tr>\n",
       "\t<tr><td>Overall </td><td>50000</td></tr>\n",
       "</tbody>\n",
       "</table>\n"
      ],
      "text/latex": [
       "A data.frame: 4 × 2\n",
       "\\begin{tabular}{ll}\n",
       " SIRE & n\\\\\n",
       " <chr> & <int>\\\\\n",
       "\\hline\n",
       "\t Black    &  7429\\\\\n",
       "\t Hispanic & 10426\\\\\n",
       "\t White    & 32145\\\\\n",
       "\t Overall  & 50000\\\\\n",
       "\\end{tabular}\n"
      ],
      "text/markdown": [
       "\n",
       "A data.frame: 4 × 2\n",
       "\n",
       "| SIRE &lt;chr&gt; | n &lt;int&gt; |\n",
       "|---|---|\n",
       "| Black    |  7429 |\n",
       "| Hispanic | 10426 |\n",
       "| White    | 32145 |\n",
       "| Overall  | 50000 |\n",
       "\n"
      ],
      "text/plain": [
       "  SIRE     n    \n",
       "1 Black     7429\n",
       "2 Hispanic 10426\n",
       "3 White    32145\n",
       "4 Overall  50000"
      ]
     },
     "metadata": {},
     "output_type": "display_data"
    }
   ],
   "source": [
    "# Counting the number of individuals by SIRE label in our cohort\n",
    "count_df = count(cohort_df, SIRE)\n",
    "# Adding a row with the sum of individuals across the entire cohort\n",
    "count_df = rbind(count_df, tibble(SIRE = 'Overall',n = nrow(cohort_df)))\n",
    "# View table\n",
    "count_df"
   ]
  },
  {
   "cell_type": "markdown",
   "id": "f5fb51e9",
   "metadata": {},
   "source": [
    "After appending the 'n' column to our original cohort_raw_prev_df tibble, we can simply divide the number of cases by 'n' to get our raw prevalence estimate for each group. Multiplying these results by 100 gives us these results as percentages. "
   ]
  },
  {
   "cell_type": "code",
   "execution_count": 65,
   "id": "b7d95fa3",
   "metadata": {},
   "outputs": [
    {
     "data": {
      "text/html": [
       "<table class=\"dataframe\">\n",
       "<caption>A tibble: 4 × 3</caption>\n",
       "<thead>\n",
       "\t<tr><th scope=col>SIRE</th><th scope=col>cases</th><th scope=col>n</th></tr>\n",
       "\t<tr><th scope=col>&lt;chr&gt;</th><th scope=col>&lt;int&gt;</th><th scope=col>&lt;int&gt;</th></tr>\n",
       "</thead>\n",
       "<tbody>\n",
       "\t<tr><td>Black   </td><td>1723</td><td> 7429</td></tr>\n",
       "\t<tr><td>Hispanic</td><td>2801</td><td>10426</td></tr>\n",
       "\t<tr><td>White   </td><td>3585</td><td>32145</td></tr>\n",
       "\t<tr><td>Overall </td><td>8109</td><td>50000</td></tr>\n",
       "</tbody>\n",
       "</table>\n"
      ],
      "text/latex": [
       "A tibble: 4 × 3\n",
       "\\begin{tabular}{lll}\n",
       " SIRE & cases & n\\\\\n",
       " <chr> & <int> & <int>\\\\\n",
       "\\hline\n",
       "\t Black    & 1723 &  7429\\\\\n",
       "\t Hispanic & 2801 & 10426\\\\\n",
       "\t White    & 3585 & 32145\\\\\n",
       "\t Overall  & 8109 & 50000\\\\\n",
       "\\end{tabular}\n"
      ],
      "text/markdown": [
       "\n",
       "A tibble: 4 × 3\n",
       "\n",
       "| SIRE &lt;chr&gt; | cases &lt;int&gt; | n &lt;int&gt; |\n",
       "|---|---|---|\n",
       "| Black    | 1723 |  7429 |\n",
       "| Hispanic | 2801 | 10426 |\n",
       "| White    | 3585 | 32145 |\n",
       "| Overall  | 8109 | 50000 |\n",
       "\n"
      ],
      "text/plain": [
       "  SIRE     cases n    \n",
       "1 Black    1723   7429\n",
       "2 Hispanic 2801  10426\n",
       "3 White    3585  32145\n",
       "4 Overall  8109  50000"
      ]
     },
     "metadata": {},
     "output_type": "display_data"
    }
   ],
   "source": [
    "# Appending the 'n' column to our original cohort_raw_prev_df tibble\n",
    "cohort_raw_prev_df$n = count_df$n\n",
    "# Showing the updated tibble\n",
    "cohort_raw_prev_df"
   ]
  },
  {
   "cell_type": "code",
   "execution_count": 66,
   "id": "93ce0911",
   "metadata": {},
   "outputs": [
    {
     "data": {
      "text/html": [
       "<table class=\"dataframe\">\n",
       "<caption>A tibble: 4 × 4</caption>\n",
       "<thead>\n",
       "\t<tr><th scope=col>SIRE</th><th scope=col>cases</th><th scope=col>n</th><th scope=col>Prevalence</th></tr>\n",
       "\t<tr><th scope=col>&lt;chr&gt;</th><th scope=col>&lt;int&gt;</th><th scope=col>&lt;int&gt;</th><th scope=col>&lt;dbl&gt;</th></tr>\n",
       "</thead>\n",
       "<tbody>\n",
       "\t<tr><td>Black   </td><td>1723</td><td> 7429</td><td>23.19289</td></tr>\n",
       "\t<tr><td>Hispanic</td><td>2801</td><td>10426</td><td>26.86553</td></tr>\n",
       "\t<tr><td>White   </td><td>3585</td><td>32145</td><td>11.15259</td></tr>\n",
       "\t<tr><td>Overall </td><td>8109</td><td>50000</td><td>16.21800</td></tr>\n",
       "</tbody>\n",
       "</table>\n"
      ],
      "text/latex": [
       "A tibble: 4 × 4\n",
       "\\begin{tabular}{llll}\n",
       " SIRE & cases & n & Prevalence\\\\\n",
       " <chr> & <int> & <int> & <dbl>\\\\\n",
       "\\hline\n",
       "\t Black    & 1723 &  7429 & 23.19289\\\\\n",
       "\t Hispanic & 2801 & 10426 & 26.86553\\\\\n",
       "\t White    & 3585 & 32145 & 11.15259\\\\\n",
       "\t Overall  & 8109 & 50000 & 16.21800\\\\\n",
       "\\end{tabular}\n"
      ],
      "text/markdown": [
       "\n",
       "A tibble: 4 × 4\n",
       "\n",
       "| SIRE &lt;chr&gt; | cases &lt;int&gt; | n &lt;int&gt; | Prevalence &lt;dbl&gt; |\n",
       "|---|---|---|---|\n",
       "| Black    | 1723 |  7429 | 23.19289 |\n",
       "| Hispanic | 2801 | 10426 | 26.86553 |\n",
       "| White    | 3585 | 32145 | 11.15259 |\n",
       "| Overall  | 8109 | 50000 | 16.21800 |\n",
       "\n"
      ],
      "text/plain": [
       "  SIRE     cases n     Prevalence\n",
       "1 Black    1723   7429 23.19289  \n",
       "2 Hispanic 2801  10426 26.86553  \n",
       "3 White    3585  32145 11.15259  \n",
       "4 Overall  8109  50000 16.21800  "
      ]
     },
     "metadata": {},
     "output_type": "display_data"
    }
   ],
   "source": [
    "# Calculating raw type 2 diabetes prevalence estimates\n",
    "cohort_raw_prev_df$Prevalence = (cohort_raw_prev_df$cases/cohort_raw_prev_df$n)*100\n",
    "# Showing the updated tibble\n",
    "cohort_raw_prev_df"
   ]
  },
  {
   "cell_type": "markdown",
   "id": "f2126a7d",
   "metadata": {},
   "source": [
    "Let's visualize the raw prevalence estimates we've just calculated:"
   ]
  },
  {
   "cell_type": "code",
   "execution_count": 67,
   "id": "6e172d3c",
   "metadata": {},
   "outputs": [
    {
     "data": {
      "image/png": "[encoded data removed]",
      "text/plain": [
       "plot without title"
      ]
     },
     "metadata": {
      "image/png": {
       "height": 720,
       "width": 720
      }
     },
     "output_type": "display_data"
    }
   ],
   "source": [
    "# Coding SIRE column so that SIRE categories are plotted in alphabetical order\n",
    "cohort_raw_prev_df$SIRE = factor(cohort_raw_prev_df$SIRE, levels = cohort_raw_prev_df$SIRE)\n",
    "# Plotting table of raw prevalence estimates\n",
    "ggplot(data = cohort_raw_prev_df, mapping = aes(x = SIRE, y = Prevalence)) +\n",
    "geom_bar(stat = 'identity') +\n",
    "theme_bw()"
   ]
  },
  {
   "cell_type": "markdown",
   "id": "c80295ae",
   "metadata": {},
   "source": [
    "The type 2 diabetes prevalence estimates we calculated for our cohort appear to be patterned the same way as the race-specific national estimates we saw before. Burden for type 2 diabetes appears to be higher among Black and Hispanic individuals than in White individuals. To make this comparison easier, we can plot the estimates we calculated and the national estimates for type 2 diabetes prevalence side-by-side using a grouped bar plot. We begin by combining our two estimate tibbles into one:"
   ]
  },
  {
   "cell_type": "code",
   "execution_count": 68,
   "id": "4e2690f6",
   "metadata": {},
   "outputs": [],
   "source": [
    "# Adding \"National\" and \"Cohort\" labels, allowing us to tell whether each prevalence estimate is a national estimate \n",
    "# or an estimate calculated from our cohort\n",
    "nat_est_df$Estimate = 'National'\n",
    "cohort_raw_prev_df$Estimate = 'Cohort'"
   ]
  },
  {
   "cell_type": "code",
   "execution_count": 69,
   "id": "f79bbb53",
   "metadata": {},
   "outputs": [
    {
     "data": {
      "text/html": [
       "<table class=\"dataframe\">\n",
       "<caption>A tibble: 8 × 3</caption>\n",
       "<thead>\n",
       "\t<tr><th scope=col>SIRE</th><th scope=col>Prevalence</th><th scope=col>Estimate</th></tr>\n",
       "\t<tr><th scope=col>&lt;fct&gt;</th><th scope=col>&lt;dbl&gt;</th><th scope=col>&lt;chr&gt;</th></tr>\n",
       "</thead>\n",
       "<tbody>\n",
       "\t<tr><td>Black   </td><td>13.20000</td><td>National</td></tr>\n",
       "\t<tr><td>Hispanic</td><td>12.80000</td><td>National</td></tr>\n",
       "\t<tr><td>White   </td><td> 7.60000</td><td>National</td></tr>\n",
       "\t<tr><td>Overall </td><td>10.74000</td><td>National</td></tr>\n",
       "\t<tr><td>Black   </td><td>23.19289</td><td>Cohort  </td></tr>\n",
       "\t<tr><td>Hispanic</td><td>26.86553</td><td>Cohort  </td></tr>\n",
       "\t<tr><td>White   </td><td>11.15259</td><td>Cohort  </td></tr>\n",
       "\t<tr><td>Overall </td><td>16.21800</td><td>Cohort  </td></tr>\n",
       "</tbody>\n",
       "</table>\n"
      ],
      "text/latex": [
       "A tibble: 8 × 3\n",
       "\\begin{tabular}{lll}\n",
       " SIRE & Prevalence & Estimate\\\\\n",
       " <fct> & <dbl> & <chr>\\\\\n",
       "\\hline\n",
       "\t Black    & 13.20000 & National\\\\\n",
       "\t Hispanic & 12.80000 & National\\\\\n",
       "\t White    &  7.60000 & National\\\\\n",
       "\t Overall  & 10.74000 & National\\\\\n",
       "\t Black    & 23.19289 & Cohort  \\\\\n",
       "\t Hispanic & 26.86553 & Cohort  \\\\\n",
       "\t White    & 11.15259 & Cohort  \\\\\n",
       "\t Overall  & 16.21800 & Cohort  \\\\\n",
       "\\end{tabular}\n"
      ],
      "text/markdown": [
       "\n",
       "A tibble: 8 × 3\n",
       "\n",
       "| SIRE &lt;fct&gt; | Prevalence &lt;dbl&gt; | Estimate &lt;chr&gt; |\n",
       "|---|---|---|\n",
       "| Black    | 13.20000 | National |\n",
       "| Hispanic | 12.80000 | National |\n",
       "| White    |  7.60000 | National |\n",
       "| Overall  | 10.74000 | National |\n",
       "| Black    | 23.19289 | Cohort   |\n",
       "| Hispanic | 26.86553 | Cohort   |\n",
       "| White    | 11.15259 | Cohort   |\n",
       "| Overall  | 16.21800 | Cohort   |\n",
       "\n"
      ],
      "text/plain": [
       "  SIRE     Prevalence Estimate\n",
       "1 Black    13.20000   National\n",
       "2 Hispanic 12.80000   National\n",
       "3 White     7.60000   National\n",
       "4 Overall  10.74000   National\n",
       "5 Black    23.19289   Cohort  \n",
       "6 Hispanic 26.86553   Cohort  \n",
       "7 White    11.15259   Cohort  \n",
       "8 Overall  16.21800   Cohort  "
      ]
     },
     "metadata": {},
     "output_type": "display_data"
    }
   ],
   "source": [
    "# Combining prevalence estimate tibbles, keeping only columns common to both datasets\n",
    "combined_df = rbind(nat_est_df, cohort_raw_prev_df[c('SIRE','Prevalence','Estimate')])\n",
    "# Viewing combined tibbles\n",
    "combined_df"
   ]
  },
  {
   "cell_type": "markdown",
   "id": "a3285855",
   "metadata": {},
   "source": [
    "With our combined tibble ready, let's plot both sets of estimates in a single plot:"
   ]
  },
  {
   "cell_type": "code",
   "execution_count": 70,
   "id": "884334f7",
   "metadata": {},
   "outputs": [
    {
     "data": {
      "image/png": "[encoded data removed]",
      "text/plain": [
       "plot without title"
      ]
     },
     "metadata": {
      "image/png": {
       "height": 720,
       "width": 720
      }
     },
     "output_type": "display_data"
    }
   ],
   "source": [
    "# Plotting table of raw prevalence estimates\n",
    "ggplot(data = combined_df, mapping = aes(x = SIRE, y = Prevalence, fill = Estimate)) +\n",
    "# Specify that we'd like a grouped bar plot using the argument 'position = 'dodge''\n",
    "geom_bar(stat = 'identity', position = 'dodge') +\n",
    "theme_bw()"
   ]
  },
  {
   "cell_type": "markdown",
   "id": "9cb9600d",
   "metadata": {},
   "source": [
    "This bar plot shows our cohort prevalence estimates to be almost double the figures seen in national estimates. How can this be? While the national estimates are nationally representative, our cohort represents a volunteer sample. It is likely that volunteer bias caused our prevalence estimates to deviate from the actual prevalence of diabetes in the U.S. population. To investigate how our cohort may be different from the general U.S. population, let's take another look at our cohort:"
   ]
  },
  {
   "cell_type": "code",
   "execution_count": 71,
   "id": "74f10e51",
   "metadata": {},
   "outputs": [
    {
     "data": {
      "text/html": [
       "<table class=\"dataframe\">\n",
       "<caption>A data.frame: 6 × 5</caption>\n",
       "<thead>\n",
       "\t<tr><th></th><th scope=col>ParticipantID</th><th scope=col>Age</th><th scope=col>Sex</th><th scope=col>SIRE</th><th scope=col>t2d</th></tr>\n",
       "\t<tr><th></th><th scope=col>&lt;int&gt;</th><th scope=col>&lt;dbl&gt;</th><th scope=col>&lt;chr&gt;</th><th scope=col>&lt;chr&gt;</th><th scope=col>&lt;int&gt;</th></tr>\n",
       "</thead>\n",
       "<tbody>\n",
       "\t<tr><th scope=row>1</th><td>10001701</td><td>50.73368</td><td>M</td><td>White   </td><td>0</td></tr>\n",
       "\t<tr><th scope=row>2</th><td>10004576</td><td>57.51144</td><td>F</td><td>Black   </td><td>0</td></tr>\n",
       "\t<tr><th scope=row>3</th><td>10006792</td><td>52.70796</td><td>F</td><td>White   </td><td>0</td></tr>\n",
       "\t<tr><th scope=row>4</th><td>10007268</td><td>49.73393</td><td>F</td><td>Hispanic</td><td>0</td></tr>\n",
       "\t<tr><th scope=row>5</th><td>10008364</td><td>43.61219</td><td>F</td><td>White   </td><td>0</td></tr>\n",
       "\t<tr><th scope=row>6</th><td>10008475</td><td>66.53269</td><td>M</td><td>Hispanic</td><td>1</td></tr>\n",
       "</tbody>\n",
       "</table>\n"
      ],
      "text/latex": [
       "A data.frame: 6 × 5\n",
       "\\begin{tabular}{r|lllll}\n",
       "  & ParticipantID & Age & Sex & SIRE & t2d\\\\\n",
       "  & <int> & <dbl> & <chr> & <chr> & <int>\\\\\n",
       "\\hline\n",
       "\t1 & 10001701 & 50.73368 & M & White    & 0\\\\\n",
       "\t2 & 10004576 & 57.51144 & F & Black    & 0\\\\\n",
       "\t3 & 10006792 & 52.70796 & F & White    & 0\\\\\n",
       "\t4 & 10007268 & 49.73393 & F & Hispanic & 0\\\\\n",
       "\t5 & 10008364 & 43.61219 & F & White    & 0\\\\\n",
       "\t6 & 10008475 & 66.53269 & M & Hispanic & 1\\\\\n",
       "\\end{tabular}\n"
      ],
      "text/markdown": [
       "\n",
       "A data.frame: 6 × 5\n",
       "\n",
       "| <!--/--> | ParticipantID &lt;int&gt; | Age &lt;dbl&gt; | Sex &lt;chr&gt; | SIRE &lt;chr&gt; | t2d &lt;int&gt; |\n",
       "|---|---|---|---|---|---|\n",
       "| 1 | 10001701 | 50.73368 | M | White    | 0 |\n",
       "| 2 | 10004576 | 57.51144 | F | Black    | 0 |\n",
       "| 3 | 10006792 | 52.70796 | F | White    | 0 |\n",
       "| 4 | 10007268 | 49.73393 | F | Hispanic | 0 |\n",
       "| 5 | 10008364 | 43.61219 | F | White    | 0 |\n",
       "| 6 | 10008475 | 66.53269 | M | Hispanic | 1 |\n",
       "\n"
      ],
      "text/plain": [
       "  ParticipantID Age      Sex SIRE     t2d\n",
       "1 10001701      50.73368 M   White    0  \n",
       "2 10004576      57.51144 F   Black    0  \n",
       "3 10006792      52.70796 F   White    0  \n",
       "4 10007268      49.73393 F   Hispanic 0  \n",
       "5 10008364      43.61219 F   White    0  \n",
       "6 10008475      66.53269 M   Hispanic 1  "
      ]
     },
     "metadata": {},
     "output_type": "display_data"
    }
   ],
   "source": [
    "# Viewing first few rows of our cohort\n",
    "head(cohort_df)"
   ]
  },
  {
   "cell_type": "markdown",
   "id": "ffdccf72",
   "metadata": {},
   "source": [
    "Aside from SIRE and type 2 diabetes status, we're also given the age and sex of each participant. The median age of the U.S. in 2022 was 38.5, and the ratio of men to women is roughly 50:50. How does this compare to our cohort?"
   ]
  },
  {
   "cell_type": "code",
   "execution_count": 72,
   "id": "d0b15375",
   "metadata": {},
   "outputs": [
    {
     "name": "stdout",
     "output_type": "stream",
     "text": [
      "[1] \"Median age of cohort:\" \"47.31\"                \n"
     ]
    }
   ],
   "source": [
    "# Caclulating median age for our cohort\n",
    "median_age = round(median(cohort_df$Age), digits = 2)\n",
    "# Displaying result\n",
    "print(c('Median age of cohort:', median_age))"
   ]
  },
  {
   "cell_type": "code",
   "execution_count": 73,
   "id": "e3604972",
   "metadata": {},
   "outputs": [
    {
     "data": {
      "text/html": [
       "<table class=\"dataframe\">\n",
       "<caption>A tibble: 2 × 2</caption>\n",
       "<thead>\n",
       "\t<tr><th scope=col>Sex</th><th scope=col>Percent</th></tr>\n",
       "\t<tr><th scope=col>&lt;chr&gt;</th><th scope=col>&lt;dbl&gt;</th></tr>\n",
       "</thead>\n",
       "<tbody>\n",
       "\t<tr><td>Female</td><td>64.84</td></tr>\n",
       "\t<tr><td>Male  </td><td>35.16</td></tr>\n",
       "</tbody>\n",
       "</table>\n"
      ],
      "text/latex": [
       "A tibble: 2 × 2\n",
       "\\begin{tabular}{ll}\n",
       " Sex & Percent\\\\\n",
       " <chr> & <dbl>\\\\\n",
       "\\hline\n",
       "\t Female & 64.84\\\\\n",
       "\t Male   & 35.16\\\\\n",
       "\\end{tabular}\n"
      ],
      "text/markdown": [
       "\n",
       "A tibble: 2 × 2\n",
       "\n",
       "| Sex &lt;chr&gt; | Percent &lt;dbl&gt; |\n",
       "|---|---|\n",
       "| Female | 64.84 |\n",
       "| Male   | 35.16 |\n",
       "\n"
      ],
      "text/plain": [
       "  Sex    Percent\n",
       "1 Female 64.84  \n",
       "2 Male   35.16  "
      ]
     },
     "metadata": {},
     "output_type": "display_data"
    }
   ],
   "source": [
    "# Getting pecrentages of male and female participants\n",
    "percentages = count(cohort_df, Sex)$n/nrow(cohort_df)*100\n",
    "# Assembling tibble of male and female percent makeup\n",
    "sex_df = tibble(Sex = c('Female','Male'), Percent = percentages)\n",
    "# Viewing tibble\n",
    "sex_df"
   ]
  },
  {
   "cell_type": "markdown",
   "id": "81401008",
   "metadata": {},
   "source": [
    "As seen above, the average participant in our cohort is more likely to be female and older than the general population. This has a reasonable chance of introducing bias to our prevalence estimations. As such, it is advisable to adjust for both age and sex in our prevalence calculations. This can be accomplished by using representative age and sex-specific population counts to apply weights to our cohort data. Here, we will be using data from the U.S. census: https://data.census.gov/table/ACSDT1Y2021.B01001?text=B01001. These data represents 2021 population estimates from the American Community Survey, which are broken down by race, age, and sex. In the following code, we load this data and examine its contents:"
   ]
  },
  {
   "cell_type": "code",
   "execution_count": 117,
   "id": "6c03db09",
   "metadata": {},
   "outputs": [],
   "source": [
    "# Loading SIRE-specific and overall census counts\n",
    "white_census_data_df = as.data.frame(fread(\"../Data/Session2/white_census_data_df.csv\"))\n",
    "black_census_data_df = as.data.frame(fread(\"../Data/Session2/black_census_data_df.csv\"))\n",
    "hispanic_census_data_df = as.data.frame(fread(\"../Data/Session2/hispanic_census_data_df.csv\"))\n",
    "all_census_data_df = as.data.frame(fread(\"../Data/Session2/all_census_data_df.csv\"))"
   ]
  },
  {
   "cell_type": "code",
   "execution_count": 118,
   "id": "fe684ffc",
   "metadata": {},
   "outputs": [
    {
     "data": {
      "text/html": [
       "<table class=\"dataframe\">\n",
       "<caption>A data.frame: 6 × 3</caption>\n",
       "<thead>\n",
       "\t<tr><th></th><th scope=col>Sex</th><th scope=col>Age</th><th scope=col>Population</th></tr>\n",
       "\t<tr><th></th><th scope=col>&lt;chr&gt;</th><th scope=col>&lt;chr&gt;</th><th scope=col>&lt;int&gt;</th></tr>\n",
       "</thead>\n",
       "<tbody>\n",
       "\t<tr><th scope=row>1</th><td>Male</td><td>        18 and 19 years</td><td> 2484647</td></tr>\n",
       "\t<tr><th scope=row>2</th><td>Male</td><td>        20 to 24 years </td><td> 6441972</td></tr>\n",
       "\t<tr><th scope=row>3</th><td>Male</td><td>        25 to 29 years </td><td> 6378227</td></tr>\n",
       "\t<tr><th scope=row>4</th><td>Male</td><td>        30 to 34 years </td><td> 6692310</td></tr>\n",
       "\t<tr><th scope=row>5</th><td>Male</td><td>        35 to 44 years </td><td>12984013</td></tr>\n",
       "\t<tr><th scope=row>6</th><td>Male</td><td>        45 to 54 years </td><td>12410422</td></tr>\n",
       "</tbody>\n",
       "</table>\n"
      ],
      "text/latex": [
       "A data.frame: 6 × 3\n",
       "\\begin{tabular}{r|lll}\n",
       "  & Sex & Age & Population\\\\\n",
       "  & <chr> & <chr> & <int>\\\\\n",
       "\\hline\n",
       "\t1 & Male &         18 and 19 years &  2484647\\\\\n",
       "\t2 & Male &         20 to 24 years  &  6441972\\\\\n",
       "\t3 & Male &         25 to 29 years  &  6378227\\\\\n",
       "\t4 & Male &         30 to 34 years  &  6692310\\\\\n",
       "\t5 & Male &         35 to 44 years  & 12984013\\\\\n",
       "\t6 & Male &         45 to 54 years  & 12410422\\\\\n",
       "\\end{tabular}\n"
      ],
      "text/markdown": [
       "\n",
       "A data.frame: 6 × 3\n",
       "\n",
       "| <!--/--> | Sex &lt;chr&gt; | Age &lt;chr&gt; | Population &lt;int&gt; |\n",
       "|---|---|---|---|\n",
       "| 1 | Male |         18 and 19 years |  2484647 |\n",
       "| 2 | Male |         20 to 24 years  |  6441972 |\n",
       "| 3 | Male |         25 to 29 years  |  6378227 |\n",
       "| 4 | Male |         30 to 34 years  |  6692310 |\n",
       "| 5 | Male |         35 to 44 years  | 12984013 |\n",
       "| 6 | Male |         45 to 54 years  | 12410422 |\n",
       "\n"
      ],
      "text/plain": [
       "  Sex  Age                     Population\n",
       "1 Male         18 and 19 years  2484647  \n",
       "2 Male         20 to 24 years   6441972  \n",
       "3 Male         25 to 29 years   6378227  \n",
       "4 Male         30 to 34 years   6692310  \n",
       "5 Male         35 to 44 years  12984013  \n",
       "6 Male         45 to 54 years  12410422  "
      ]
     },
     "metadata": {},
     "output_type": "display_data"
    }
   ],
   "source": [
    "# Examining contents of census data\n",
    "head(white_census_data_df)"
   ]
  },
  {
   "cell_type": "markdown",
   "id": "0e9135f5",
   "metadata": {},
   "source": [
    "Each of these four census data tables have three columns specifying 1. Sex and 2. Age groups as well as the number of individuals of each sex/age/SIRE combination in the 3. Population. Notice that age is expressed as ranges. As we will be using this data to adjust prevalence values for our cohort, let's compare the structure of the census tables with our cohort table:"
   ]
  },
  {
   "cell_type": "code",
   "execution_count": 119,
   "id": "393de163",
   "metadata": {},
   "outputs": [
    {
     "data": {
      "text/html": [
       "<table class=\"dataframe\">\n",
       "<caption>A data.frame: 6 × 5</caption>\n",
       "<thead>\n",
       "\t<tr><th></th><th scope=col>ParticipantID</th><th scope=col>Age</th><th scope=col>Sex</th><th scope=col>SIRE</th><th scope=col>t2d</th></tr>\n",
       "\t<tr><th></th><th scope=col>&lt;int&gt;</th><th scope=col>&lt;dbl&gt;</th><th scope=col>&lt;chr&gt;</th><th scope=col>&lt;chr&gt;</th><th scope=col>&lt;int&gt;</th></tr>\n",
       "</thead>\n",
       "<tbody>\n",
       "\t<tr><th scope=row>1</th><td>10001701</td><td>50.73368</td><td>M</td><td>White   </td><td>0</td></tr>\n",
       "\t<tr><th scope=row>2</th><td>10004576</td><td>57.51144</td><td>F</td><td>Black   </td><td>0</td></tr>\n",
       "\t<tr><th scope=row>3</th><td>10006792</td><td>52.70796</td><td>F</td><td>White   </td><td>0</td></tr>\n",
       "\t<tr><th scope=row>4</th><td>10007268</td><td>49.73393</td><td>F</td><td>Hispanic</td><td>0</td></tr>\n",
       "\t<tr><th scope=row>5</th><td>10008364</td><td>43.61219</td><td>F</td><td>White   </td><td>0</td></tr>\n",
       "\t<tr><th scope=row>6</th><td>10008475</td><td>66.53269</td><td>M</td><td>Hispanic</td><td>1</td></tr>\n",
       "</tbody>\n",
       "</table>\n"
      ],
      "text/latex": [
       "A data.frame: 6 × 5\n",
       "\\begin{tabular}{r|lllll}\n",
       "  & ParticipantID & Age & Sex & SIRE & t2d\\\\\n",
       "  & <int> & <dbl> & <chr> & <chr> & <int>\\\\\n",
       "\\hline\n",
       "\t1 & 10001701 & 50.73368 & M & White    & 0\\\\\n",
       "\t2 & 10004576 & 57.51144 & F & Black    & 0\\\\\n",
       "\t3 & 10006792 & 52.70796 & F & White    & 0\\\\\n",
       "\t4 & 10007268 & 49.73393 & F & Hispanic & 0\\\\\n",
       "\t5 & 10008364 & 43.61219 & F & White    & 0\\\\\n",
       "\t6 & 10008475 & 66.53269 & M & Hispanic & 1\\\\\n",
       "\\end{tabular}\n"
      ],
      "text/markdown": [
       "\n",
       "A data.frame: 6 × 5\n",
       "\n",
       "| <!--/--> | ParticipantID &lt;int&gt; | Age &lt;dbl&gt; | Sex &lt;chr&gt; | SIRE &lt;chr&gt; | t2d &lt;int&gt; |\n",
       "|---|---|---|---|---|---|\n",
       "| 1 | 10001701 | 50.73368 | M | White    | 0 |\n",
       "| 2 | 10004576 | 57.51144 | F | Black    | 0 |\n",
       "| 3 | 10006792 | 52.70796 | F | White    | 0 |\n",
       "| 4 | 10007268 | 49.73393 | F | Hispanic | 0 |\n",
       "| 5 | 10008364 | 43.61219 | F | White    | 0 |\n",
       "| 6 | 10008475 | 66.53269 | M | Hispanic | 1 |\n",
       "\n"
      ],
      "text/plain": [
       "  ParticipantID Age      Sex SIRE     t2d\n",
       "1 10001701      50.73368 M   White    0  \n",
       "2 10004576      57.51144 F   Black    0  \n",
       "3 10006792      52.70796 F   White    0  \n",
       "4 10007268      49.73393 F   Hispanic 0  \n",
       "5 10008364      43.61219 F   White    0  \n",
       "6 10008475      66.53269 M   Hispanic 1  "
      ]
     },
     "metadata": {},
     "output_type": "display_data"
    }
   ],
   "source": [
    "# Examining structure of our cohort data (Are there any columns in the census data that aren't present here?)\n",
    "head(cohort_df)"
   ]
  },
  {
   "cell_type": "markdown",
   "id": "87a7def0",
   "metadata": {},
   "source": [
    "In our cohort table, age is expressed as individual continuous values. To make this data more compatible with our census tables, let's annotate our cohort table with age ranges using its 'Age' column. This step may take a minute or two to complete:"
   ]
  },
  {
   "cell_type": "code",
   "execution_count": 120,
   "id": "edf94e38",
   "metadata": {},
   "outputs": [
    {
     "data": {
      "text/html": [
       "<table class=\"dataframe\">\n",
       "<caption>A data.frame: 6 × 6</caption>\n",
       "<thead>\n",
       "\t<tr><th></th><th scope=col>ParticipantID</th><th scope=col>Age</th><th scope=col>Sex</th><th scope=col>SIRE</th><th scope=col>t2d</th><th scope=col>age_group</th></tr>\n",
       "\t<tr><th></th><th scope=col>&lt;int&gt;</th><th scope=col>&lt;dbl&gt;</th><th scope=col>&lt;chr&gt;</th><th scope=col>&lt;chr&gt;</th><th scope=col>&lt;int&gt;</th><th scope=col>&lt;chr&gt;</th></tr>\n",
       "</thead>\n",
       "<tbody>\n",
       "\t<tr><th scope=row>1</th><td>10001701</td><td>50.73368</td><td>M</td><td>White   </td><td>0</td><td>        45 to 54 years</td></tr>\n",
       "\t<tr><th scope=row>2</th><td>10004576</td><td>57.51144</td><td>F</td><td>Black   </td><td>0</td><td>        55 to 64 years</td></tr>\n",
       "\t<tr><th scope=row>3</th><td>10006792</td><td>52.70796</td><td>F</td><td>White   </td><td>0</td><td>        45 to 54 years</td></tr>\n",
       "\t<tr><th scope=row>4</th><td>10007268</td><td>49.73393</td><td>F</td><td>Hispanic</td><td>0</td><td>        45 to 54 years</td></tr>\n",
       "\t<tr><th scope=row>5</th><td>10008364</td><td>43.61219</td><td>F</td><td>White   </td><td>0</td><td>        35 to 44 years</td></tr>\n",
       "\t<tr><th scope=row>6</th><td>10008475</td><td>66.53269</td><td>M</td><td>Hispanic</td><td>1</td><td>        65 to 74 years</td></tr>\n",
       "</tbody>\n",
       "</table>\n"
      ],
      "text/latex": [
       "A data.frame: 6 × 6\n",
       "\\begin{tabular}{r|llllll}\n",
       "  & ParticipantID & Age & Sex & SIRE & t2d & age\\_group\\\\\n",
       "  & <int> & <dbl> & <chr> & <chr> & <int> & <chr>\\\\\n",
       "\\hline\n",
       "\t1 & 10001701 & 50.73368 & M & White    & 0 &         45 to 54 years\\\\\n",
       "\t2 & 10004576 & 57.51144 & F & Black    & 0 &         55 to 64 years\\\\\n",
       "\t3 & 10006792 & 52.70796 & F & White    & 0 &         45 to 54 years\\\\\n",
       "\t4 & 10007268 & 49.73393 & F & Hispanic & 0 &         45 to 54 years\\\\\n",
       "\t5 & 10008364 & 43.61219 & F & White    & 0 &         35 to 44 years\\\\\n",
       "\t6 & 10008475 & 66.53269 & M & Hispanic & 1 &         65 to 74 years\\\\\n",
       "\\end{tabular}\n"
      ],
      "text/markdown": [
       "\n",
       "A data.frame: 6 × 6\n",
       "\n",
       "| <!--/--> | ParticipantID &lt;int&gt; | Age &lt;dbl&gt; | Sex &lt;chr&gt; | SIRE &lt;chr&gt; | t2d &lt;int&gt; | age_group &lt;chr&gt; |\n",
       "|---|---|---|---|---|---|---|\n",
       "| 1 | 10001701 | 50.73368 | M | White    | 0 |         45 to 54 years |\n",
       "| 2 | 10004576 | 57.51144 | F | Black    | 0 |         55 to 64 years |\n",
       "| 3 | 10006792 | 52.70796 | F | White    | 0 |         45 to 54 years |\n",
       "| 4 | 10007268 | 49.73393 | F | Hispanic | 0 |         45 to 54 years |\n",
       "| 5 | 10008364 | 43.61219 | F | White    | 0 |         35 to 44 years |\n",
       "| 6 | 10008475 | 66.53269 | M | Hispanic | 1 |         65 to 74 years |\n",
       "\n"
      ],
      "text/plain": [
       "  ParticipantID Age      Sex SIRE     t2d age_group             \n",
       "1 10001701      50.73368 M   White    0           45 to 54 years\n",
       "2 10004576      57.51144 F   Black    0           55 to 64 years\n",
       "3 10006792      52.70796 F   White    0           45 to 54 years\n",
       "4 10007268      49.73393 F   Hispanic 0           45 to 54 years\n",
       "5 10008364      43.61219 F   White    0           35 to 44 years\n",
       "6 10008475      66.53269 M   Hispanic 1           65 to 74 years"
      ]
     },
     "metadata": {},
     "output_type": "display_data"
    }
   ],
   "source": [
    "# Assigning each participant in our cohort one of the age ranges seen in the census data\n",
    "age_group = c()\n",
    "for (a in cohort_df$Age) {\n",
    "    for (g in unique(white_census_data_df$Age)[1:9]) {\n",
    "        if ((round(a) >= str_extract_all(g, \"\\\\d+\")[[1]][1]) & (round(a) <= str_extract_all(g, \"\\\\d+\")[[1]][2])) {\n",
    "            age_group = append(age_group, g)\n",
    "        } else {\n",
    "            next\n",
    "        }\n",
    "        }\n",
    "    }\n",
    "cohort_df$age_group = age_group\n",
    "# Viewing updated cohort tibble\n",
    "head(cohort_df)"
   ]
  },
  {
   "cell_type": "markdown",
   "id": "b1929aac",
   "metadata": {},
   "source": [
    "Since the demographic makeup of each SIRE group may differ, our next step in preparing for age/sex adjustments is creating three subsets of our study cohort exclusively consisting of exclusively Black, Hispanic, or White individuals. "
   ]
  },
  {
   "cell_type": "code",
   "execution_count": 121,
   "id": "ae77a523",
   "metadata": {},
   "outputs": [],
   "source": [
    "# Creating SIRE-specific subsets\n",
    "cohort_df_b = cohort_df[cohort_df$SIRE == 'Black',]\n",
    "cohort_df_h = cohort_df[cohort_df$SIRE == 'Hispanic',]\n",
    "cohort_df_w = cohort_df[cohort_df$SIRE == 'White',]"
   ]
  },
  {
   "cell_type": "code",
   "execution_count": 122,
   "id": "398c75ab",
   "metadata": {},
   "outputs": [
    {
     "data": {
      "text/html": [
       "<table class=\"dataframe\">\n",
       "<caption>A data.frame: 7429 × 6</caption>\n",
       "<thead>\n",
       "\t<tr><th></th><th scope=col>ParticipantID</th><th scope=col>Age</th><th scope=col>Sex</th><th scope=col>SIRE</th><th scope=col>t2d</th><th scope=col>age_group</th></tr>\n",
       "\t<tr><th></th><th scope=col>&lt;int&gt;</th><th scope=col>&lt;dbl&gt;</th><th scope=col>&lt;chr&gt;</th><th scope=col>&lt;chr&gt;</th><th scope=col>&lt;int&gt;</th><th scope=col>&lt;chr&gt;</th></tr>\n",
       "</thead>\n",
       "<tbody>\n",
       "\t<tr><th scope=row>2</th><td>10004576</td><td>57.51144</td><td>F</td><td>Black</td><td>0</td><td>        55 to 64 years</td></tr>\n",
       "\t<tr><th scope=row>12</th><td>10020259</td><td>43.93185</td><td>M</td><td>Black</td><td>0</td><td>        35 to 44 years</td></tr>\n",
       "\t<tr><th scope=row>20</th><td>10029965</td><td>55.08394</td><td>F</td><td>Black</td><td>0</td><td>        55 to 64 years</td></tr>\n",
       "\t<tr><th scope=row>23</th><td>10034687</td><td>52.02795</td><td>M</td><td>Black</td><td>0</td><td>        45 to 54 years</td></tr>\n",
       "\t<tr><th scope=row>25</th><td>10036961</td><td>41.41383</td><td>F</td><td>Black</td><td>0</td><td>        35 to 44 years</td></tr>\n",
       "\t<tr><th scope=row>41</th><td>10061741</td><td>26.59202</td><td>F</td><td>Black</td><td>1</td><td>        25 to 29 years</td></tr>\n",
       "\t<tr><th scope=row>53</th><td>10077612</td><td>52.51057</td><td>F</td><td>Black</td><td>0</td><td>        45 to 54 years</td></tr>\n",
       "\t<tr><th scope=row>55</th><td>10078035</td><td>42.42702</td><td>F</td><td>Black</td><td>0</td><td>        35 to 44 years</td></tr>\n",
       "\t<tr><th scope=row>61</th><td>10081256</td><td>48.09043</td><td>F</td><td>Black</td><td>1</td><td>        45 to 54 years</td></tr>\n",
       "\t<tr><th scope=row>62</th><td>10081293</td><td>43.10512</td><td>F</td><td>Black</td><td>0</td><td>        35 to 44 years</td></tr>\n",
       "\t<tr><th scope=row>71</th><td>10095002</td><td>61.26796</td><td>F</td><td>Black</td><td>0</td><td>        55 to 64 years</td></tr>\n",
       "\t<tr><th scope=row>88</th><td>10135346</td><td>42.54443</td><td>F</td><td>Black</td><td>0</td><td>        35 to 44 years</td></tr>\n",
       "\t<tr><th scope=row>92</th><td>10141309</td><td>46.08986</td><td>F</td><td>Black</td><td>0</td><td>        45 to 54 years</td></tr>\n",
       "\t<tr><th scope=row>93</th><td>10141878</td><td>49.33949</td><td>M</td><td>Black</td><td>0</td><td>        45 to 54 years</td></tr>\n",
       "\t<tr><th scope=row>97</th><td>10147306</td><td>35.02645</td><td>F</td><td>Black</td><td>1</td><td>        35 to 44 years</td></tr>\n",
       "\t<tr><th scope=row>105</th><td>10167124</td><td>44.19408</td><td>F</td><td>Black</td><td>0</td><td>        35 to 44 years</td></tr>\n",
       "\t<tr><th scope=row>108</th><td>10171065</td><td>46.16135</td><td>M</td><td>Black</td><td>0</td><td>        45 to 54 years</td></tr>\n",
       "\t<tr><th scope=row>127</th><td>10200023</td><td>54.74052</td><td>M</td><td>Black</td><td>1</td><td>        55 to 64 years</td></tr>\n",
       "\t<tr><th scope=row>130</th><td>10206095</td><td>50.64482</td><td>F</td><td>Black</td><td>0</td><td>        45 to 54 years</td></tr>\n",
       "\t<tr><th scope=row>139</th><td>10222934</td><td>42.85918</td><td>M</td><td>Black</td><td>0</td><td>        35 to 44 years</td></tr>\n",
       "\t<tr><th scope=row>141</th><td>10225456</td><td>58.39021</td><td>F</td><td>Black</td><td>1</td><td>        55 to 64 years</td></tr>\n",
       "\t<tr><th scope=row>154</th><td>10244222</td><td>52.26732</td><td>F</td><td>Black</td><td>0</td><td>        45 to 54 years</td></tr>\n",
       "\t<tr><th scope=row>194</th><td>10317048</td><td>52.94339</td><td>M</td><td>Black</td><td>1</td><td>        45 to 54 years</td></tr>\n",
       "\t<tr><th scope=row>200</th><td>10332266</td><td>63.10231</td><td>F</td><td>Black</td><td>0</td><td>        55 to 64 years</td></tr>\n",
       "\t<tr><th scope=row>202</th><td>10337602</td><td>48.37925</td><td>F</td><td>Black</td><td>1</td><td>        45 to 54 years</td></tr>\n",
       "\t<tr><th scope=row>211</th><td>10355130</td><td>46.62936</td><td>F</td><td>Black</td><td>0</td><td>        45 to 54 years</td></tr>\n",
       "\t<tr><th scope=row>216</th><td>10359791</td><td>39.64662</td><td>F</td><td>Black</td><td>0</td><td>        35 to 44 years</td></tr>\n",
       "\t<tr><th scope=row>222</th><td>10376343</td><td>44.10065</td><td>F</td><td>Black</td><td>1</td><td>        35 to 44 years</td></tr>\n",
       "\t<tr><th scope=row>238</th><td>10405051</td><td>39.05442</td><td>M</td><td>Black</td><td>0</td><td>        35 to 44 years</td></tr>\n",
       "\t<tr><th scope=row>239</th><td>10405055</td><td>56.78858</td><td>F</td><td>Black</td><td>0</td><td>        55 to 64 years</td></tr>\n",
       "\t<tr><th scope=row>243</th><td>10410023</td><td>45.73187</td><td>M</td><td>Black</td><td>0</td><td>        45 to 54 years</td></tr>\n",
       "\t<tr><th scope=row>256</th><td>10436931</td><td>45.37512</td><td>F</td><td>Black</td><td>0</td><td>        45 to 54 years</td></tr>\n",
       "\t<tr><th scope=row>267</th><td>10460498</td><td>51.46397</td><td>F</td><td>Black</td><td>0</td><td>        45 to 54 years</td></tr>\n",
       "\t<tr><th scope=row>278</th><td>10476827</td><td>48.47577</td><td>F</td><td>Black</td><td>1</td><td>        45 to 54 years</td></tr>\n",
       "\t<tr><th scope=row>280</th><td>10481392</td><td>40.61249</td><td>M</td><td>Black</td><td>0</td><td>        35 to 44 years</td></tr>\n",
       "\t<tr><th scope=row>286</th><td>10492093</td><td>46.20515</td><td>M</td><td>Black</td><td>1</td><td>        45 to 54 years</td></tr>\n",
       "\t<tr><th scope=row>289</th><td>10498565</td><td>49.43839</td><td>M</td><td>Black</td><td>0</td><td>        45 to 54 years</td></tr>\n",
       "\t<tr><th scope=row>292</th><td>10502540</td><td>56.14741</td><td>M</td><td>Black</td><td>1</td><td>        55 to 64 years</td></tr>\n",
       "\t<tr><th scope=row>294</th><td>10502933</td><td>53.49860</td><td>M</td><td>Black</td><td>0</td><td>        45 to 54 years</td></tr>\n",
       "\t<tr><th scope=row>300</th><td>10508369</td><td>59.42408</td><td>F</td><td>Black</td><td>0</td><td>        55 to 64 years</td></tr>\n",
       "\t<tr><th scope=row>307</th><td>10524915</td><td>50.67855</td><td>M</td><td>Black</td><td>0</td><td>        45 to 54 years</td></tr>\n",
       "\t<tr><th scope=row>308</th><td>10525312</td><td>62.82224</td><td>F</td><td>Black</td><td>1</td><td>        55 to 64 years</td></tr>\n",
       "\t<tr><th scope=row>310</th><td>10531477</td><td>51.04247</td><td>F</td><td>Black</td><td>0</td><td>        45 to 54 years</td></tr>\n",
       "\t<tr><th scope=row>324</th><td>10560232</td><td>58.16172</td><td>M</td><td>Black</td><td>0</td><td>        55 to 64 years</td></tr>\n",
       "\t<tr><th scope=row>329</th><td>10565656</td><td>47.24575</td><td>F</td><td>Black</td><td>1</td><td>        45 to 54 years</td></tr>\n",
       "\t<tr><th scope=row>341</th><td>10584437</td><td>35.35529</td><td>M</td><td>Black</td><td>0</td><td>        35 to 44 years</td></tr>\n",
       "\t<tr><th scope=row>344</th><td>10590549</td><td>54.88637</td><td>F</td><td>Black</td><td>0</td><td>        55 to 64 years</td></tr>\n",
       "\t<tr><th scope=row>349</th><td>10598356</td><td>44.75264</td><td>M</td><td>Black</td><td>0</td><td>        45 to 54 years</td></tr>\n",
       "\t<tr><th scope=row>357</th><td>10606728</td><td>64.49561</td><td>M</td><td>Black</td><td>1</td><td>        55 to 64 years</td></tr>\n",
       "\t<tr><th scope=row>362</th><td>10618379</td><td>48.34394</td><td>F</td><td>Black</td><td>0</td><td>        45 to 54 years</td></tr>\n",
       "\t<tr><th scope=row>⋮</th><td>⋮</td><td>⋮</td><td>⋮</td><td>⋮</td><td>⋮</td><td>⋮</td></tr>\n",
       "\t<tr><th scope=row>49588</th><td>99292208</td><td>42.56288</td><td>F</td><td>Black</td><td>1</td><td>        35 to 44 years</td></tr>\n",
       "\t<tr><th scope=row>49592</th><td>99296983</td><td>46.14830</td><td>F</td><td>Black</td><td>1</td><td>        45 to 54 years</td></tr>\n",
       "\t<tr><th scope=row>49593</th><td>99298654</td><td>58.70753</td><td>F</td><td>Black</td><td>1</td><td>        55 to 64 years</td></tr>\n",
       "\t<tr><th scope=row>49595</th><td>99302684</td><td>43.46054</td><td>M</td><td>Black</td><td>0</td><td>        35 to 44 years</td></tr>\n",
       "\t<tr><th scope=row>49615</th><td>99322602</td><td>49.39237</td><td>F</td><td>Black</td><td>0</td><td>        45 to 54 years</td></tr>\n",
       "\t<tr><th scope=row>49622</th><td>99329511</td><td>58.73983</td><td>M</td><td>Black</td><td>0</td><td>        55 to 64 years</td></tr>\n",
       "\t<tr><th scope=row>49623</th><td>99330774</td><td>47.01245</td><td>M</td><td>Black</td><td>0</td><td>        45 to 54 years</td></tr>\n",
       "\t<tr><th scope=row>49628</th><td>99338548</td><td>51.05648</td><td>M</td><td>Black</td><td>0</td><td>        45 to 54 years</td></tr>\n",
       "\t<tr><th scope=row>49632</th><td>99347565</td><td>46.73099</td><td>F</td><td>Black</td><td>0</td><td>        45 to 54 years</td></tr>\n",
       "\t<tr><th scope=row>49660</th><td>99409694</td><td>41.80040</td><td>F</td><td>Black</td><td>0</td><td>        35 to 44 years</td></tr>\n",
       "\t<tr><th scope=row>49680</th><td>99443516</td><td>46.03238</td><td>M</td><td>Black</td><td>0</td><td>        45 to 54 years</td></tr>\n",
       "\t<tr><th scope=row>49683</th><td>99449049</td><td>40.88945</td><td>M</td><td>Black</td><td>1</td><td>        35 to 44 years</td></tr>\n",
       "\t<tr><th scope=row>49691</th><td>99458820</td><td>49.94868</td><td>M</td><td>Black</td><td>0</td><td>        45 to 54 years</td></tr>\n",
       "\t<tr><th scope=row>49702</th><td>99479129</td><td>50.24600</td><td>M</td><td>Black</td><td>0</td><td>        45 to 54 years</td></tr>\n",
       "\t<tr><th scope=row>49704</th><td>99482978</td><td>34.93785</td><td>M</td><td>Black</td><td>0</td><td>        35 to 44 years</td></tr>\n",
       "\t<tr><th scope=row>49709</th><td>99491594</td><td>58.84526</td><td>M</td><td>Black</td><td>0</td><td>        55 to 64 years</td></tr>\n",
       "\t<tr><th scope=row>49711</th><td>99496514</td><td>69.37865</td><td>F</td><td>Black</td><td>0</td><td>        65 to 74 years</td></tr>\n",
       "\t<tr><th scope=row>49715</th><td>99501760</td><td>32.20146</td><td>M</td><td>Black</td><td>0</td><td>        30 to 34 years</td></tr>\n",
       "\t<tr><th scope=row>49717</th><td>99504227</td><td>41.86937</td><td>F</td><td>Black</td><td>1</td><td>        35 to 44 years</td></tr>\n",
       "\t<tr><th scope=row>49718</th><td>99505217</td><td>43.04704</td><td>M</td><td>Black</td><td>1</td><td>        35 to 44 years</td></tr>\n",
       "\t<tr><th scope=row>49721</th><td>99510816</td><td>44.09588</td><td>F</td><td>Black</td><td>0</td><td>        35 to 44 years</td></tr>\n",
       "\t<tr><th scope=row>49722</th><td>99511550</td><td>42.73914</td><td>F</td><td>Black</td><td>0</td><td>        35 to 44 years</td></tr>\n",
       "\t<tr><th scope=row>49746</th><td>99539744</td><td>43.81637</td><td>F</td><td>Black</td><td>0</td><td>        35 to 44 years</td></tr>\n",
       "\t<tr><th scope=row>49756</th><td>99559840</td><td>42.86224</td><td>F</td><td>Black</td><td>0</td><td>        35 to 44 years</td></tr>\n",
       "\t<tr><th scope=row>49757</th><td>99560120</td><td>43.71979</td><td>M</td><td>Black</td><td>0</td><td>        35 to 44 years</td></tr>\n",
       "\t<tr><th scope=row>49784</th><td>99625585</td><td>34.81398</td><td>F</td><td>Black</td><td>0</td><td>        35 to 44 years</td></tr>\n",
       "\t<tr><th scope=row>49812</th><td>99676003</td><td>47.68828</td><td>F</td><td>Black</td><td>1</td><td>        45 to 54 years</td></tr>\n",
       "\t<tr><th scope=row>49817</th><td>99682635</td><td>53.65536</td><td>F</td><td>Black</td><td>0</td><td>        45 to 54 years</td></tr>\n",
       "\t<tr><th scope=row>49824</th><td>99691747</td><td>43.33319</td><td>F</td><td>Black</td><td>1</td><td>        35 to 44 years</td></tr>\n",
       "\t<tr><th scope=row>49837</th><td>99712629</td><td>55.36690</td><td>F</td><td>Black</td><td>0</td><td>        55 to 64 years</td></tr>\n",
       "\t<tr><th scope=row>49854</th><td>99744744</td><td>29.88684</td><td>M</td><td>Black</td><td>0</td><td>        30 to 34 years</td></tr>\n",
       "\t<tr><th scope=row>49869</th><td>99768533</td><td>40.23013</td><td>M</td><td>Black</td><td>1</td><td>        35 to 44 years</td></tr>\n",
       "\t<tr><th scope=row>49877</th><td>99780732</td><td>67.37903</td><td>F</td><td>Black</td><td>0</td><td>        65 to 74 years</td></tr>\n",
       "\t<tr><th scope=row>49878</th><td>99780775</td><td>47.66300</td><td>F</td><td>Black</td><td>1</td><td>        45 to 54 years</td></tr>\n",
       "\t<tr><th scope=row>49881</th><td>99785701</td><td>56.05795</td><td>M</td><td>Black</td><td>0</td><td>        55 to 64 years</td></tr>\n",
       "\t<tr><th scope=row>49887</th><td>99792625</td><td>45.81589</td><td>F</td><td>Black</td><td>0</td><td>        45 to 54 years</td></tr>\n",
       "\t<tr><th scope=row>49897</th><td>99808815</td><td>42.37224</td><td>F</td><td>Black</td><td>0</td><td>        35 to 44 years</td></tr>\n",
       "\t<tr><th scope=row>49898</th><td>99809435</td><td>59.79012</td><td>F</td><td>Black</td><td>1</td><td>        55 to 64 years</td></tr>\n",
       "\t<tr><th scope=row>49913</th><td>99834233</td><td>55.02852</td><td>F</td><td>Black</td><td>0</td><td>        55 to 64 years</td></tr>\n",
       "\t<tr><th scope=row>49923</th><td>99854422</td><td>39.86237</td><td>M</td><td>Black</td><td>0</td><td>        35 to 44 years</td></tr>\n",
       "\t<tr><th scope=row>49924</th><td>99858726</td><td>50.14442</td><td>F</td><td>Black</td><td>0</td><td>        45 to 54 years</td></tr>\n",
       "\t<tr><th scope=row>49942</th><td>99885482</td><td>46.74875</td><td>F</td><td>Black</td><td>0</td><td>        45 to 54 years</td></tr>\n",
       "\t<tr><th scope=row>49956</th><td>99905991</td><td>47.62246</td><td>M</td><td>Black</td><td>0</td><td>        45 to 54 years</td></tr>\n",
       "\t<tr><th scope=row>49959</th><td>99908887</td><td>47.27473</td><td>F</td><td>Black</td><td>1</td><td>        45 to 54 years</td></tr>\n",
       "\t<tr><th scope=row>49962</th><td>99912080</td><td>48.94870</td><td>F</td><td>Black</td><td>0</td><td>        45 to 54 years</td></tr>\n",
       "\t<tr><th scope=row>49967</th><td>99921586</td><td>40.46612</td><td>M</td><td>Black</td><td>1</td><td>        35 to 44 years</td></tr>\n",
       "\t<tr><th scope=row>49974</th><td>99940838</td><td>56.77931</td><td>F</td><td>Black</td><td>0</td><td>        55 to 64 years</td></tr>\n",
       "\t<tr><th scope=row>49981</th><td>99958034</td><td>48.68415</td><td>F</td><td>Black</td><td>1</td><td>        45 to 54 years</td></tr>\n",
       "\t<tr><th scope=row>49982</th><td>99958284</td><td>51.31697</td><td>M</td><td>Black</td><td>0</td><td>        45 to 54 years</td></tr>\n",
       "\t<tr><th scope=row>49994</th><td>99988760</td><td>49.68780</td><td>F</td><td>Black</td><td>0</td><td>        45 to 54 years</td></tr>\n",
       "</tbody>\n",
       "</table>\n"
      ],
      "text/latex": [
       "A data.frame: 7429 × 6\n",
       "\\begin{tabular}{r|llllll}\n",
       "  & ParticipantID & Age & Sex & SIRE & t2d & age\\_group\\\\\n",
       "  & <int> & <dbl> & <chr> & <chr> & <int> & <chr>\\\\\n",
       "\\hline\n",
       "\t2 & 10004576 & 57.51144 & F & Black & 0 &         55 to 64 years\\\\\n",
       "\t12 & 10020259 & 43.93185 & M & Black & 0 &         35 to 44 years\\\\\n",
       "\t20 & 10029965 & 55.08394 & F & Black & 0 &         55 to 64 years\\\\\n",
       "\t23 & 10034687 & 52.02795 & M & Black & 0 &         45 to 54 years\\\\\n",
       "\t25 & 10036961 & 41.41383 & F & Black & 0 &         35 to 44 years\\\\\n",
       "\t41 & 10061741 & 26.59202 & F & Black & 1 &         25 to 29 years\\\\\n",
       "\t53 & 10077612 & 52.51057 & F & Black & 0 &         45 to 54 years\\\\\n",
       "\t55 & 10078035 & 42.42702 & F & Black & 0 &         35 to 44 years\\\\\n",
       "\t61 & 10081256 & 48.09043 & F & Black & 1 &         45 to 54 years\\\\\n",
       "\t62 & 10081293 & 43.10512 & F & Black & 0 &         35 to 44 years\\\\\n",
       "\t71 & 10095002 & 61.26796 & F & Black & 0 &         55 to 64 years\\\\\n",
       "\t88 & 10135346 & 42.54443 & F & Black & 0 &         35 to 44 years\\\\\n",
       "\t92 & 10141309 & 46.08986 & F & Black & 0 &         45 to 54 years\\\\\n",
       "\t93 & 10141878 & 49.33949 & M & Black & 0 &         45 to 54 years\\\\\n",
       "\t97 & 10147306 & 35.02645 & F & Black & 1 &         35 to 44 years\\\\\n",
       "\t105 & 10167124 & 44.19408 & F & Black & 0 &         35 to 44 years\\\\\n",
       "\t108 & 10171065 & 46.16135 & M & Black & 0 &         45 to 54 years\\\\\n",
       "\t127 & 10200023 & 54.74052 & M & Black & 1 &         55 to 64 years\\\\\n",
       "\t130 & 10206095 & 50.64482 & F & Black & 0 &         45 to 54 years\\\\\n",
       "\t139 & 10222934 & 42.85918 & M & Black & 0 &         35 to 44 years\\\\\n",
       "\t141 & 10225456 & 58.39021 & F & Black & 1 &         55 to 64 years\\\\\n",
       "\t154 & 10244222 & 52.26732 & F & Black & 0 &         45 to 54 years\\\\\n",
       "\t194 & 10317048 & 52.94339 & M & Black & 1 &         45 to 54 years\\\\\n",
       "\t200 & 10332266 & 63.10231 & F & Black & 0 &         55 to 64 years\\\\\n",
       "\t202 & 10337602 & 48.37925 & F & Black & 1 &         45 to 54 years\\\\\n",
       "\t211 & 10355130 & 46.62936 & F & Black & 0 &         45 to 54 years\\\\\n",
       "\t216 & 10359791 & 39.64662 & F & Black & 0 &         35 to 44 years\\\\\n",
       "\t222 & 10376343 & 44.10065 & F & Black & 1 &         35 to 44 years\\\\\n",
       "\t238 & 10405051 & 39.05442 & M & Black & 0 &         35 to 44 years\\\\\n",
       "\t239 & 10405055 & 56.78858 & F & Black & 0 &         55 to 64 years\\\\\n",
       "\t243 & 10410023 & 45.73187 & M & Black & 0 &         45 to 54 years\\\\\n",
       "\t256 & 10436931 & 45.37512 & F & Black & 0 &         45 to 54 years\\\\\n",
       "\t267 & 10460498 & 51.46397 & F & Black & 0 &         45 to 54 years\\\\\n",
       "\t278 & 10476827 & 48.47577 & F & Black & 1 &         45 to 54 years\\\\\n",
       "\t280 & 10481392 & 40.61249 & M & Black & 0 &         35 to 44 years\\\\\n",
       "\t286 & 10492093 & 46.20515 & M & Black & 1 &         45 to 54 years\\\\\n",
       "\t289 & 10498565 & 49.43839 & M & Black & 0 &         45 to 54 years\\\\\n",
       "\t292 & 10502540 & 56.14741 & M & Black & 1 &         55 to 64 years\\\\\n",
       "\t294 & 10502933 & 53.49860 & M & Black & 0 &         45 to 54 years\\\\\n",
       "\t300 & 10508369 & 59.42408 & F & Black & 0 &         55 to 64 years\\\\\n",
       "\t307 & 10524915 & 50.67855 & M & Black & 0 &         45 to 54 years\\\\\n",
       "\t308 & 10525312 & 62.82224 & F & Black & 1 &         55 to 64 years\\\\\n",
       "\t310 & 10531477 & 51.04247 & F & Black & 0 &         45 to 54 years\\\\\n",
       "\t324 & 10560232 & 58.16172 & M & Black & 0 &         55 to 64 years\\\\\n",
       "\t329 & 10565656 & 47.24575 & F & Black & 1 &         45 to 54 years\\\\\n",
       "\t341 & 10584437 & 35.35529 & M & Black & 0 &         35 to 44 years\\\\\n",
       "\t344 & 10590549 & 54.88637 & F & Black & 0 &         55 to 64 years\\\\\n",
       "\t349 & 10598356 & 44.75264 & M & Black & 0 &         45 to 54 years\\\\\n",
       "\t357 & 10606728 & 64.49561 & M & Black & 1 &         55 to 64 years\\\\\n",
       "\t362 & 10618379 & 48.34394 & F & Black & 0 &         45 to 54 years\\\\\n",
       "\t⋮ & ⋮ & ⋮ & ⋮ & ⋮ & ⋮ & ⋮\\\\\n",
       "\t49588 & 99292208 & 42.56288 & F & Black & 1 &         35 to 44 years\\\\\n",
       "\t49592 & 99296983 & 46.14830 & F & Black & 1 &         45 to 54 years\\\\\n",
       "\t49593 & 99298654 & 58.70753 & F & Black & 1 &         55 to 64 years\\\\\n",
       "\t49595 & 99302684 & 43.46054 & M & Black & 0 &         35 to 44 years\\\\\n",
       "\t49615 & 99322602 & 49.39237 & F & Black & 0 &         45 to 54 years\\\\\n",
       "\t49622 & 99329511 & 58.73983 & M & Black & 0 &         55 to 64 years\\\\\n",
       "\t49623 & 99330774 & 47.01245 & M & Black & 0 &         45 to 54 years\\\\\n",
       "\t49628 & 99338548 & 51.05648 & M & Black & 0 &         45 to 54 years\\\\\n",
       "\t49632 & 99347565 & 46.73099 & F & Black & 0 &         45 to 54 years\\\\\n",
       "\t49660 & 99409694 & 41.80040 & F & Black & 0 &         35 to 44 years\\\\\n",
       "\t49680 & 99443516 & 46.03238 & M & Black & 0 &         45 to 54 years\\\\\n",
       "\t49683 & 99449049 & 40.88945 & M & Black & 1 &         35 to 44 years\\\\\n",
       "\t49691 & 99458820 & 49.94868 & M & Black & 0 &         45 to 54 years\\\\\n",
       "\t49702 & 99479129 & 50.24600 & M & Black & 0 &         45 to 54 years\\\\\n",
       "\t49704 & 99482978 & 34.93785 & M & Black & 0 &         35 to 44 years\\\\\n",
       "\t49709 & 99491594 & 58.84526 & M & Black & 0 &         55 to 64 years\\\\\n",
       "\t49711 & 99496514 & 69.37865 & F & Black & 0 &         65 to 74 years\\\\\n",
       "\t49715 & 99501760 & 32.20146 & M & Black & 0 &         30 to 34 years\\\\\n",
       "\t49717 & 99504227 & 41.86937 & F & Black & 1 &         35 to 44 years\\\\\n",
       "\t49718 & 99505217 & 43.04704 & M & Black & 1 &         35 to 44 years\\\\\n",
       "\t49721 & 99510816 & 44.09588 & F & Black & 0 &         35 to 44 years\\\\\n",
       "\t49722 & 99511550 & 42.73914 & F & Black & 0 &         35 to 44 years\\\\\n",
       "\t49746 & 99539744 & 43.81637 & F & Black & 0 &         35 to 44 years\\\\\n",
       "\t49756 & 99559840 & 42.86224 & F & Black & 0 &         35 to 44 years\\\\\n",
       "\t49757 & 99560120 & 43.71979 & M & Black & 0 &         35 to 44 years\\\\\n",
       "\t49784 & 99625585 & 34.81398 & F & Black & 0 &         35 to 44 years\\\\\n",
       "\t49812 & 99676003 & 47.68828 & F & Black & 1 &         45 to 54 years\\\\\n",
       "\t49817 & 99682635 & 53.65536 & F & Black & 0 &         45 to 54 years\\\\\n",
       "\t49824 & 99691747 & 43.33319 & F & Black & 1 &         35 to 44 years\\\\\n",
       "\t49837 & 99712629 & 55.36690 & F & Black & 0 &         55 to 64 years\\\\\n",
       "\t49854 & 99744744 & 29.88684 & M & Black & 0 &         30 to 34 years\\\\\n",
       "\t49869 & 99768533 & 40.23013 & M & Black & 1 &         35 to 44 years\\\\\n",
       "\t49877 & 99780732 & 67.37903 & F & Black & 0 &         65 to 74 years\\\\\n",
       "\t49878 & 99780775 & 47.66300 & F & Black & 1 &         45 to 54 years\\\\\n",
       "\t49881 & 99785701 & 56.05795 & M & Black & 0 &         55 to 64 years\\\\\n",
       "\t49887 & 99792625 & 45.81589 & F & Black & 0 &         45 to 54 years\\\\\n",
       "\t49897 & 99808815 & 42.37224 & F & Black & 0 &         35 to 44 years\\\\\n",
       "\t49898 & 99809435 & 59.79012 & F & Black & 1 &         55 to 64 years\\\\\n",
       "\t49913 & 99834233 & 55.02852 & F & Black & 0 &         55 to 64 years\\\\\n",
       "\t49923 & 99854422 & 39.86237 & M & Black & 0 &         35 to 44 years\\\\\n",
       "\t49924 & 99858726 & 50.14442 & F & Black & 0 &         45 to 54 years\\\\\n",
       "\t49942 & 99885482 & 46.74875 & F & Black & 0 &         45 to 54 years\\\\\n",
       "\t49956 & 99905991 & 47.62246 & M & Black & 0 &         45 to 54 years\\\\\n",
       "\t49959 & 99908887 & 47.27473 & F & Black & 1 &         45 to 54 years\\\\\n",
       "\t49962 & 99912080 & 48.94870 & F & Black & 0 &         45 to 54 years\\\\\n",
       "\t49967 & 99921586 & 40.46612 & M & Black & 1 &         35 to 44 years\\\\\n",
       "\t49974 & 99940838 & 56.77931 & F & Black & 0 &         55 to 64 years\\\\\n",
       "\t49981 & 99958034 & 48.68415 & F & Black & 1 &         45 to 54 years\\\\\n",
       "\t49982 & 99958284 & 51.31697 & M & Black & 0 &         45 to 54 years\\\\\n",
       "\t49994 & 99988760 & 49.68780 & F & Black & 0 &         45 to 54 years\\\\\n",
       "\\end{tabular}\n"
      ],
      "text/markdown": [
       "\n",
       "A data.frame: 7429 × 6\n",
       "\n",
       "| <!--/--> | ParticipantID &lt;int&gt; | Age &lt;dbl&gt; | Sex &lt;chr&gt; | SIRE &lt;chr&gt; | t2d &lt;int&gt; | age_group &lt;chr&gt; |\n",
       "|---|---|---|---|---|---|---|\n",
       "| 2 | 10004576 | 57.51144 | F | Black | 0 |         55 to 64 years |\n",
       "| 12 | 10020259 | 43.93185 | M | Black | 0 |         35 to 44 years |\n",
       "| 20 | 10029965 | 55.08394 | F | Black | 0 |         55 to 64 years |\n",
       "| 23 | 10034687 | 52.02795 | M | Black | 0 |         45 to 54 years |\n",
       "| 25 | 10036961 | 41.41383 | F | Black | 0 |         35 to 44 years |\n",
       "| 41 | 10061741 | 26.59202 | F | Black | 1 |         25 to 29 years |\n",
       "| 53 | 10077612 | 52.51057 | F | Black | 0 |         45 to 54 years |\n",
       "| 55 | 10078035 | 42.42702 | F | Black | 0 |         35 to 44 years |\n",
       "| 61 | 10081256 | 48.09043 | F | Black | 1 |         45 to 54 years |\n",
       "| 62 | 10081293 | 43.10512 | F | Black | 0 |         35 to 44 years |\n",
       "| 71 | 10095002 | 61.26796 | F | Black | 0 |         55 to 64 years |\n",
       "| 88 | 10135346 | 42.54443 | F | Black | 0 |         35 to 44 years |\n",
       "| 92 | 10141309 | 46.08986 | F | Black | 0 |         45 to 54 years |\n",
       "| 93 | 10141878 | 49.33949 | M | Black | 0 |         45 to 54 years |\n",
       "| 97 | 10147306 | 35.02645 | F | Black | 1 |         35 to 44 years |\n",
       "| 105 | 10167124 | 44.19408 | F | Black | 0 |         35 to 44 years |\n",
       "| 108 | 10171065 | 46.16135 | M | Black | 0 |         45 to 54 years |\n",
       "| 127 | 10200023 | 54.74052 | M | Black | 1 |         55 to 64 years |\n",
       "| 130 | 10206095 | 50.64482 | F | Black | 0 |         45 to 54 years |\n",
       "| 139 | 10222934 | 42.85918 | M | Black | 0 |         35 to 44 years |\n",
       "| 141 | 10225456 | 58.39021 | F | Black | 1 |         55 to 64 years |\n",
       "| 154 | 10244222 | 52.26732 | F | Black | 0 |         45 to 54 years |\n",
       "| 194 | 10317048 | 52.94339 | M | Black | 1 |         45 to 54 years |\n",
       "| 200 | 10332266 | 63.10231 | F | Black | 0 |         55 to 64 years |\n",
       "| 202 | 10337602 | 48.37925 | F | Black | 1 |         45 to 54 years |\n",
       "| 211 | 10355130 | 46.62936 | F | Black | 0 |         45 to 54 years |\n",
       "| 216 | 10359791 | 39.64662 | F | Black | 0 |         35 to 44 years |\n",
       "| 222 | 10376343 | 44.10065 | F | Black | 1 |         35 to 44 years |\n",
       "| 238 | 10405051 | 39.05442 | M | Black | 0 |         35 to 44 years |\n",
       "| 239 | 10405055 | 56.78858 | F | Black | 0 |         55 to 64 years |\n",
       "| 243 | 10410023 | 45.73187 | M | Black | 0 |         45 to 54 years |\n",
       "| 256 | 10436931 | 45.37512 | F | Black | 0 |         45 to 54 years |\n",
       "| 267 | 10460498 | 51.46397 | F | Black | 0 |         45 to 54 years |\n",
       "| 278 | 10476827 | 48.47577 | F | Black | 1 |         45 to 54 years |\n",
       "| 280 | 10481392 | 40.61249 | M | Black | 0 |         35 to 44 years |\n",
       "| 286 | 10492093 | 46.20515 | M | Black | 1 |         45 to 54 years |\n",
       "| 289 | 10498565 | 49.43839 | M | Black | 0 |         45 to 54 years |\n",
       "| 292 | 10502540 | 56.14741 | M | Black | 1 |         55 to 64 years |\n",
       "| 294 | 10502933 | 53.49860 | M | Black | 0 |         45 to 54 years |\n",
       "| 300 | 10508369 | 59.42408 | F | Black | 0 |         55 to 64 years |\n",
       "| 307 | 10524915 | 50.67855 | M | Black | 0 |         45 to 54 years |\n",
       "| 308 | 10525312 | 62.82224 | F | Black | 1 |         55 to 64 years |\n",
       "| 310 | 10531477 | 51.04247 | F | Black | 0 |         45 to 54 years |\n",
       "| 324 | 10560232 | 58.16172 | M | Black | 0 |         55 to 64 years |\n",
       "| 329 | 10565656 | 47.24575 | F | Black | 1 |         45 to 54 years |\n",
       "| 341 | 10584437 | 35.35529 | M | Black | 0 |         35 to 44 years |\n",
       "| 344 | 10590549 | 54.88637 | F | Black | 0 |         55 to 64 years |\n",
       "| 349 | 10598356 | 44.75264 | M | Black | 0 |         45 to 54 years |\n",
       "| 357 | 10606728 | 64.49561 | M | Black | 1 |         55 to 64 years |\n",
       "| 362 | 10618379 | 48.34394 | F | Black | 0 |         45 to 54 years |\n",
       "| ⋮ | ⋮ | ⋮ | ⋮ | ⋮ | ⋮ | ⋮ |\n",
       "| 49588 | 99292208 | 42.56288 | F | Black | 1 |         35 to 44 years |\n",
       "| 49592 | 99296983 | 46.14830 | F | Black | 1 |         45 to 54 years |\n",
       "| 49593 | 99298654 | 58.70753 | F | Black | 1 |         55 to 64 years |\n",
       "| 49595 | 99302684 | 43.46054 | M | Black | 0 |         35 to 44 years |\n",
       "| 49615 | 99322602 | 49.39237 | F | Black | 0 |         45 to 54 years |\n",
       "| 49622 | 99329511 | 58.73983 | M | Black | 0 |         55 to 64 years |\n",
       "| 49623 | 99330774 | 47.01245 | M | Black | 0 |         45 to 54 years |\n",
       "| 49628 | 99338548 | 51.05648 | M | Black | 0 |         45 to 54 years |\n",
       "| 49632 | 99347565 | 46.73099 | F | Black | 0 |         45 to 54 years |\n",
       "| 49660 | 99409694 | 41.80040 | F | Black | 0 |         35 to 44 years |\n",
       "| 49680 | 99443516 | 46.03238 | M | Black | 0 |         45 to 54 years |\n",
       "| 49683 | 99449049 | 40.88945 | M | Black | 1 |         35 to 44 years |\n",
       "| 49691 | 99458820 | 49.94868 | M | Black | 0 |         45 to 54 years |\n",
       "| 49702 | 99479129 | 50.24600 | M | Black | 0 |         45 to 54 years |\n",
       "| 49704 | 99482978 | 34.93785 | M | Black | 0 |         35 to 44 years |\n",
       "| 49709 | 99491594 | 58.84526 | M | Black | 0 |         55 to 64 years |\n",
       "| 49711 | 99496514 | 69.37865 | F | Black | 0 |         65 to 74 years |\n",
       "| 49715 | 99501760 | 32.20146 | M | Black | 0 |         30 to 34 years |\n",
       "| 49717 | 99504227 | 41.86937 | F | Black | 1 |         35 to 44 years |\n",
       "| 49718 | 99505217 | 43.04704 | M | Black | 1 |         35 to 44 years |\n",
       "| 49721 | 99510816 | 44.09588 | F | Black | 0 |         35 to 44 years |\n",
       "| 49722 | 99511550 | 42.73914 | F | Black | 0 |         35 to 44 years |\n",
       "| 49746 | 99539744 | 43.81637 | F | Black | 0 |         35 to 44 years |\n",
       "| 49756 | 99559840 | 42.86224 | F | Black | 0 |         35 to 44 years |\n",
       "| 49757 | 99560120 | 43.71979 | M | Black | 0 |         35 to 44 years |\n",
       "| 49784 | 99625585 | 34.81398 | F | Black | 0 |         35 to 44 years |\n",
       "| 49812 | 99676003 | 47.68828 | F | Black | 1 |         45 to 54 years |\n",
       "| 49817 | 99682635 | 53.65536 | F | Black | 0 |         45 to 54 years |\n",
       "| 49824 | 99691747 | 43.33319 | F | Black | 1 |         35 to 44 years |\n",
       "| 49837 | 99712629 | 55.36690 | F | Black | 0 |         55 to 64 years |\n",
       "| 49854 | 99744744 | 29.88684 | M | Black | 0 |         30 to 34 years |\n",
       "| 49869 | 99768533 | 40.23013 | M | Black | 1 |         35 to 44 years |\n",
       "| 49877 | 99780732 | 67.37903 | F | Black | 0 |         65 to 74 years |\n",
       "| 49878 | 99780775 | 47.66300 | F | Black | 1 |         45 to 54 years |\n",
       "| 49881 | 99785701 | 56.05795 | M | Black | 0 |         55 to 64 years |\n",
       "| 49887 | 99792625 | 45.81589 | F | Black | 0 |         45 to 54 years |\n",
       "| 49897 | 99808815 | 42.37224 | F | Black | 0 |         35 to 44 years |\n",
       "| 49898 | 99809435 | 59.79012 | F | Black | 1 |         55 to 64 years |\n",
       "| 49913 | 99834233 | 55.02852 | F | Black | 0 |         55 to 64 years |\n",
       "| 49923 | 99854422 | 39.86237 | M | Black | 0 |         35 to 44 years |\n",
       "| 49924 | 99858726 | 50.14442 | F | Black | 0 |         45 to 54 years |\n",
       "| 49942 | 99885482 | 46.74875 | F | Black | 0 |         45 to 54 years |\n",
       "| 49956 | 99905991 | 47.62246 | M | Black | 0 |         45 to 54 years |\n",
       "| 49959 | 99908887 | 47.27473 | F | Black | 1 |         45 to 54 years |\n",
       "| 49962 | 99912080 | 48.94870 | F | Black | 0 |         45 to 54 years |\n",
       "| 49967 | 99921586 | 40.46612 | M | Black | 1 |         35 to 44 years |\n",
       "| 49974 | 99940838 | 56.77931 | F | Black | 0 |         55 to 64 years |\n",
       "| 49981 | 99958034 | 48.68415 | F | Black | 1 |         45 to 54 years |\n",
       "| 49982 | 99958284 | 51.31697 | M | Black | 0 |         45 to 54 years |\n",
       "| 49994 | 99988760 | 49.68780 | F | Black | 0 |         45 to 54 years |\n",
       "\n"
      ],
      "text/plain": [
       "      ParticipantID Age      Sex SIRE  t2d age_group             \n",
       "2     10004576      57.51144 F   Black 0           55 to 64 years\n",
       "12    10020259      43.93185 M   Black 0           35 to 44 years\n",
       "20    10029965      55.08394 F   Black 0           55 to 64 years\n",
       "23    10034687      52.02795 M   Black 0           45 to 54 years\n",
       "25    10036961      41.41383 F   Black 0           35 to 44 years\n",
       "41    10061741      26.59202 F   Black 1           25 to 29 years\n",
       "53    10077612      52.51057 F   Black 0           45 to 54 years\n",
       "55    10078035      42.42702 F   Black 0           35 to 44 years\n",
       "61    10081256      48.09043 F   Black 1           45 to 54 years\n",
       "62    10081293      43.10512 F   Black 0           35 to 44 years\n",
       "71    10095002      61.26796 F   Black 0           55 to 64 years\n",
       "88    10135346      42.54443 F   Black 0           35 to 44 years\n",
       "92    10141309      46.08986 F   Black 0           45 to 54 years\n",
       "93    10141878      49.33949 M   Black 0           45 to 54 years\n",
       "97    10147306      35.02645 F   Black 1           35 to 44 years\n",
       "105   10167124      44.19408 F   Black 0           35 to 44 years\n",
       "108   10171065      46.16135 M   Black 0           45 to 54 years\n",
       "127   10200023      54.74052 M   Black 1           55 to 64 years\n",
       "130   10206095      50.64482 F   Black 0           45 to 54 years\n",
       "139   10222934      42.85918 M   Black 0           35 to 44 years\n",
       "141   10225456      58.39021 F   Black 1           55 to 64 years\n",
       "154   10244222      52.26732 F   Black 0           45 to 54 years\n",
       "194   10317048      52.94339 M   Black 1           45 to 54 years\n",
       "200   10332266      63.10231 F   Black 0           55 to 64 years\n",
       "202   10337602      48.37925 F   Black 1           45 to 54 years\n",
       "211   10355130      46.62936 F   Black 0           45 to 54 years\n",
       "216   10359791      39.64662 F   Black 0           35 to 44 years\n",
       "222   10376343      44.10065 F   Black 1           35 to 44 years\n",
       "238   10405051      39.05442 M   Black 0           35 to 44 years\n",
       "239   10405055      56.78858 F   Black 0           55 to 64 years\n",
       "243   10410023      45.73187 M   Black 0           45 to 54 years\n",
       "256   10436931      45.37512 F   Black 0           45 to 54 years\n",
       "267   10460498      51.46397 F   Black 0           45 to 54 years\n",
       "278   10476827      48.47577 F   Black 1           45 to 54 years\n",
       "280   10481392      40.61249 M   Black 0           35 to 44 years\n",
       "286   10492093      46.20515 M   Black 1           45 to 54 years\n",
       "289   10498565      49.43839 M   Black 0           45 to 54 years\n",
       "292   10502540      56.14741 M   Black 1           55 to 64 years\n",
       "294   10502933      53.49860 M   Black 0           45 to 54 years\n",
       "300   10508369      59.42408 F   Black 0           55 to 64 years\n",
       "307   10524915      50.67855 M   Black 0           45 to 54 years\n",
       "308   10525312      62.82224 F   Black 1           55 to 64 years\n",
       "310   10531477      51.04247 F   Black 0           45 to 54 years\n",
       "324   10560232      58.16172 M   Black 0           55 to 64 years\n",
       "329   10565656      47.24575 F   Black 1           45 to 54 years\n",
       "341   10584437      35.35529 M   Black 0           35 to 44 years\n",
       "344   10590549      54.88637 F   Black 0           55 to 64 years\n",
       "349   10598356      44.75264 M   Black 0           45 to 54 years\n",
       "357   10606728      64.49561 M   Black 1           55 to 64 years\n",
       "362   10618379      48.34394 F   Black 0           45 to 54 years\n",
       "⋮     ⋮             ⋮        ⋮   ⋮     ⋮   ⋮                     \n",
       "49588 99292208      42.56288 F   Black 1           35 to 44 years\n",
       "49592 99296983      46.14830 F   Black 1           45 to 54 years\n",
       "49593 99298654      58.70753 F   Black 1           55 to 64 years\n",
       "49595 99302684      43.46054 M   Black 0           35 to 44 years\n",
       "49615 99322602      49.39237 F   Black 0           45 to 54 years\n",
       "49622 99329511      58.73983 M   Black 0           55 to 64 years\n",
       "49623 99330774      47.01245 M   Black 0           45 to 54 years\n",
       "49628 99338548      51.05648 M   Black 0           45 to 54 years\n",
       "49632 99347565      46.73099 F   Black 0           45 to 54 years\n",
       "49660 99409694      41.80040 F   Black 0           35 to 44 years\n",
       "49680 99443516      46.03238 M   Black 0           45 to 54 years\n",
       "49683 99449049      40.88945 M   Black 1           35 to 44 years\n",
       "49691 99458820      49.94868 M   Black 0           45 to 54 years\n",
       "49702 99479129      50.24600 M   Black 0           45 to 54 years\n",
       "49704 99482978      34.93785 M   Black 0           35 to 44 years\n",
       "49709 99491594      58.84526 M   Black 0           55 to 64 years\n",
       "49711 99496514      69.37865 F   Black 0           65 to 74 years\n",
       "49715 99501760      32.20146 M   Black 0           30 to 34 years\n",
       "49717 99504227      41.86937 F   Black 1           35 to 44 years\n",
       "49718 99505217      43.04704 M   Black 1           35 to 44 years\n",
       "49721 99510816      44.09588 F   Black 0           35 to 44 years\n",
       "49722 99511550      42.73914 F   Black 0           35 to 44 years\n",
       "49746 99539744      43.81637 F   Black 0           35 to 44 years\n",
       "49756 99559840      42.86224 F   Black 0           35 to 44 years\n",
       "49757 99560120      43.71979 M   Black 0           35 to 44 years\n",
       "49784 99625585      34.81398 F   Black 0           35 to 44 years\n",
       "49812 99676003      47.68828 F   Black 1           45 to 54 years\n",
       "49817 99682635      53.65536 F   Black 0           45 to 54 years\n",
       "49824 99691747      43.33319 F   Black 1           35 to 44 years\n",
       "49837 99712629      55.36690 F   Black 0           55 to 64 years\n",
       "49854 99744744      29.88684 M   Black 0           30 to 34 years\n",
       "49869 99768533      40.23013 M   Black 1           35 to 44 years\n",
       "49877 99780732      67.37903 F   Black 0           65 to 74 years\n",
       "49878 99780775      47.66300 F   Black 1           45 to 54 years\n",
       "49881 99785701      56.05795 M   Black 0           55 to 64 years\n",
       "49887 99792625      45.81589 F   Black 0           45 to 54 years\n",
       "49897 99808815      42.37224 F   Black 0           35 to 44 years\n",
       "49898 99809435      59.79012 F   Black 1           55 to 64 years\n",
       "49913 99834233      55.02852 F   Black 0           55 to 64 years\n",
       "49923 99854422      39.86237 M   Black 0           35 to 44 years\n",
       "49924 99858726      50.14442 F   Black 0           45 to 54 years\n",
       "49942 99885482      46.74875 F   Black 0           45 to 54 years\n",
       "49956 99905991      47.62246 M   Black 0           45 to 54 years\n",
       "49959 99908887      47.27473 F   Black 1           45 to 54 years\n",
       "49962 99912080      48.94870 F   Black 0           45 to 54 years\n",
       "49967 99921586      40.46612 M   Black 1           35 to 44 years\n",
       "49974 99940838      56.77931 F   Black 0           55 to 64 years\n",
       "49981 99958034      48.68415 F   Black 1           45 to 54 years\n",
       "49982 99958284      51.31697 M   Black 0           45 to 54 years\n",
       "49994 99988760      49.68780 F   Black 0           45 to 54 years"
      ]
     },
     "metadata": {},
     "output_type": "display_data"
    }
   ],
   "source": [
    "cohort_df_b"
   ]
  },
  {
   "cell_type": "markdown",
   "id": "ead6a9ac",
   "metadata": {},
   "source": [
    "Now we're ready to perform age/sex adjustment. We'll begin by building a calculation tibble for the Black SIRE cohort. To start, we'll obtain the number of type 2 diabetes cases for each sex/age group combination in the cohort. We'll create a tibble column for these values called 'cases':"
   ]
  },
  {
   "cell_type": "code",
   "execution_count": 123,
   "id": "67741fb1",
   "metadata": {},
   "outputs": [
    {
     "name": "stderr",
     "output_type": "stream",
     "text": [
      "\u001b[1m\u001b[22m`summarise()` has grouped output by 'age_group'. You can override using the\n",
      "`.groups` argument.\n"
     ]
    },
    {
     "data": {
      "text/html": [
       "<table class=\"dataframe\">\n",
       "<caption>A grouped_df: 6 × 3</caption>\n",
       "<thead>\n",
       "\t<tr><th scope=col>age_group</th><th scope=col>Sex</th><th scope=col>cases</th></tr>\n",
       "\t<tr><th scope=col>&lt;chr&gt;</th><th scope=col>&lt;chr&gt;</th><th scope=col>&lt;int&gt;</th></tr>\n",
       "</thead>\n",
       "<tbody>\n",
       "\t<tr><td>        18 and 19 years</td><td>F</td><td> 0</td></tr>\n",
       "\t<tr><td>        20 to 24 years </td><td>F</td><td> 0</td></tr>\n",
       "\t<tr><td>        20 to 24 years </td><td>M</td><td> 0</td></tr>\n",
       "\t<tr><td>        25 to 29 years </td><td>F</td><td> 6</td></tr>\n",
       "\t<tr><td>        25 to 29 years </td><td>M</td><td> 2</td></tr>\n",
       "\t<tr><td>        30 to 34 years </td><td>F</td><td>29</td></tr>\n",
       "</tbody>\n",
       "</table>\n"
      ],
      "text/latex": [
       "A grouped\\_df: 6 × 3\n",
       "\\begin{tabular}{lll}\n",
       " age\\_group & Sex & cases\\\\\n",
       " <chr> & <chr> & <int>\\\\\n",
       "\\hline\n",
       "\t         18 and 19 years & F &  0\\\\\n",
       "\t         20 to 24 years  & F &  0\\\\\n",
       "\t         20 to 24 years  & M &  0\\\\\n",
       "\t         25 to 29 years  & F &  6\\\\\n",
       "\t         25 to 29 years  & M &  2\\\\\n",
       "\t         30 to 34 years  & F & 29\\\\\n",
       "\\end{tabular}\n"
      ],
      "text/markdown": [
       "\n",
       "A grouped_df: 6 × 3\n",
       "\n",
       "| age_group &lt;chr&gt; | Sex &lt;chr&gt; | cases &lt;int&gt; |\n",
       "|---|---|---|\n",
       "|         18 and 19 years | F |  0 |\n",
       "|         20 to 24 years  | F |  0 |\n",
       "|         20 to 24 years  | M |  0 |\n",
       "|         25 to 29 years  | F |  6 |\n",
       "|         25 to 29 years  | M |  2 |\n",
       "|         30 to 34 years  | F | 29 |\n",
       "\n"
      ],
      "text/plain": [
       "  age_group               Sex cases\n",
       "1         18 and 19 years F    0   \n",
       "2         20 to 24 years  F    0   \n",
       "3         20 to 24 years  M    0   \n",
       "4         25 to 29 years  F    6   \n",
       "5         25 to 29 years  M    2   \n",
       "6         30 to 34 years  F   29   "
      ]
     },
     "metadata": {},
     "output_type": "display_data"
    }
   ],
   "source": [
    "# Create table with case counts for each age-sex combination\n",
    "adjust_calc_df_b = cohort_df_b %>%\n",
    "  group_by(age_group, Sex) %>%\n",
    "  summarize(cases = sum(t2d))\n",
    "# Display counts\n",
    "head(adjust_calc_df_b)"
   ]
  },
  {
   "cell_type": "markdown",
   "id": "42d39542",
   "metadata": {},
   "source": [
    "Next, we'll add another column to this new table with the number of individuals belonging to each sex/age group population in the Black SIRE cohort. We'll call this column 'count':"
   ]
  },
  {
   "cell_type": "code",
   "execution_count": 124,
   "id": "6d24e7bc",
   "metadata": {},
   "outputs": [
    {
     "name": "stderr",
     "output_type": "stream",
     "text": [
      "\u001b[1m\u001b[22m`summarise()` has grouped output by 'age_group'. You can override using the\n",
      "`.groups` argument.\n"
     ]
    },
    {
     "data": {
      "text/html": [
       "<table class=\"dataframe\">\n",
       "<caption>A grouped_df: 6 × 4</caption>\n",
       "<thead>\n",
       "\t<tr><th scope=col>age_group</th><th scope=col>Sex</th><th scope=col>cases</th><th scope=col>count</th></tr>\n",
       "\t<tr><th scope=col>&lt;chr&gt;</th><th scope=col>&lt;chr&gt;</th><th scope=col>&lt;int&gt;</th><th scope=col>&lt;int&gt;</th></tr>\n",
       "</thead>\n",
       "<tbody>\n",
       "\t<tr><td>        18 and 19 years</td><td>F</td><td> 0</td><td>  2</td></tr>\n",
       "\t<tr><td>        20 to 24 years </td><td>F</td><td> 0</td><td>  6</td></tr>\n",
       "\t<tr><td>        20 to 24 years </td><td>M</td><td> 0</td><td>  8</td></tr>\n",
       "\t<tr><td>        25 to 29 years </td><td>F</td><td> 6</td><td> 54</td></tr>\n",
       "\t<tr><td>        25 to 29 years </td><td>M</td><td> 2</td><td> 31</td></tr>\n",
       "\t<tr><td>        30 to 34 years </td><td>F</td><td>29</td><td>230</td></tr>\n",
       "</tbody>\n",
       "</table>\n"
      ],
      "text/latex": [
       "A grouped\\_df: 6 × 4\n",
       "\\begin{tabular}{llll}\n",
       " age\\_group & Sex & cases & count\\\\\n",
       " <chr> & <chr> & <int> & <int>\\\\\n",
       "\\hline\n",
       "\t         18 and 19 years & F &  0 &   2\\\\\n",
       "\t         20 to 24 years  & F &  0 &   6\\\\\n",
       "\t         20 to 24 years  & M &  0 &   8\\\\\n",
       "\t         25 to 29 years  & F &  6 &  54\\\\\n",
       "\t         25 to 29 years  & M &  2 &  31\\\\\n",
       "\t         30 to 34 years  & F & 29 & 230\\\\\n",
       "\\end{tabular}\n"
      ],
      "text/markdown": [
       "\n",
       "A grouped_df: 6 × 4\n",
       "\n",
       "| age_group &lt;chr&gt; | Sex &lt;chr&gt; | cases &lt;int&gt; | count &lt;int&gt; |\n",
       "|---|---|---|---|\n",
       "|         18 and 19 years | F |  0 |   2 |\n",
       "|         20 to 24 years  | F |  0 |   6 |\n",
       "|         20 to 24 years  | M |  0 |   8 |\n",
       "|         25 to 29 years  | F |  6 |  54 |\n",
       "|         25 to 29 years  | M |  2 |  31 |\n",
       "|         30 to 34 years  | F | 29 | 230 |\n",
       "\n"
      ],
      "text/plain": [
       "  age_group               Sex cases count\n",
       "1         18 and 19 years F    0      2  \n",
       "2         20 to 24 years  F    0      6  \n",
       "3         20 to 24 years  M    0      8  \n",
       "4         25 to 29 years  F    6     54  \n",
       "5         25 to 29 years  M    2     31  \n",
       "6         30 to 34 years  F   29    230  "
      ]
     },
     "metadata": {},
     "output_type": "display_data"
    }
   ],
   "source": [
    "# Counting number of individuals in each age-sex group combination and adding it to tibble\n",
    "adjust_calc_df_b$count = (cohort_df_b %>%\n",
    "  group_by(age_group, Sex) %>%\n",
    "  summarize(count = n()))$count\n",
    "# Displaying new tibble\n",
    "head(adjust_calc_df_b)"
   ]
  },
  {
   "cell_type": "markdown",
   "id": "09bccdab",
   "metadata": {},
   "source": [
    "Now that we have the number of indviduals and type 2 diabetes cases for each age-sex group, we can calculate the crude rate of type 2 diabetes for each such group. Crude rates will be calculated as (# of cases) / (# of individuals). This is the same way we calculated SIRE-specific raw prevalence estimates earlier in this section, though these values will represent the raw prevalence for each age-sex group. We'll call our new column of crude rates 'crude_rate':"
   ]
  },
  {
   "cell_type": "code",
   "execution_count": 125,
   "id": "a05dd3a9",
   "metadata": {},
   "outputs": [
    {
     "data": {
      "text/html": [
       "<table class=\"dataframe\">\n",
       "<caption>A grouped_df: 6 × 5</caption>\n",
       "<thead>\n",
       "\t<tr><th scope=col>age_group</th><th scope=col>Sex</th><th scope=col>cases</th><th scope=col>count</th><th scope=col>crude_rate</th></tr>\n",
       "\t<tr><th scope=col>&lt;chr&gt;</th><th scope=col>&lt;chr&gt;</th><th scope=col>&lt;int&gt;</th><th scope=col>&lt;int&gt;</th><th scope=col>&lt;dbl&gt;</th></tr>\n",
       "</thead>\n",
       "<tbody>\n",
       "\t<tr><td>        18 and 19 years</td><td>F</td><td> 0</td><td>  2</td><td>0.00000000</td></tr>\n",
       "\t<tr><td>        20 to 24 years </td><td>F</td><td> 0</td><td>  6</td><td>0.00000000</td></tr>\n",
       "\t<tr><td>        20 to 24 years </td><td>M</td><td> 0</td><td>  8</td><td>0.00000000</td></tr>\n",
       "\t<tr><td>        25 to 29 years </td><td>F</td><td> 6</td><td> 54</td><td>0.11111111</td></tr>\n",
       "\t<tr><td>        25 to 29 years </td><td>M</td><td> 2</td><td> 31</td><td>0.06451613</td></tr>\n",
       "\t<tr><td>        30 to 34 years </td><td>F</td><td>29</td><td>230</td><td>0.12608696</td></tr>\n",
       "</tbody>\n",
       "</table>\n"
      ],
      "text/latex": [
       "A grouped\\_df: 6 × 5\n",
       "\\begin{tabular}{lllll}\n",
       " age\\_group & Sex & cases & count & crude\\_rate\\\\\n",
       " <chr> & <chr> & <int> & <int> & <dbl>\\\\\n",
       "\\hline\n",
       "\t         18 and 19 years & F &  0 &   2 & 0.00000000\\\\\n",
       "\t         20 to 24 years  & F &  0 &   6 & 0.00000000\\\\\n",
       "\t         20 to 24 years  & M &  0 &   8 & 0.00000000\\\\\n",
       "\t         25 to 29 years  & F &  6 &  54 & 0.11111111\\\\\n",
       "\t         25 to 29 years  & M &  2 &  31 & 0.06451613\\\\\n",
       "\t         30 to 34 years  & F & 29 & 230 & 0.12608696\\\\\n",
       "\\end{tabular}\n"
      ],
      "text/markdown": [
       "\n",
       "A grouped_df: 6 × 5\n",
       "\n",
       "| age_group &lt;chr&gt; | Sex &lt;chr&gt; | cases &lt;int&gt; | count &lt;int&gt; | crude_rate &lt;dbl&gt; |\n",
       "|---|---|---|---|---|\n",
       "|         18 and 19 years | F |  0 |   2 | 0.00000000 |\n",
       "|         20 to 24 years  | F |  0 |   6 | 0.00000000 |\n",
       "|         20 to 24 years  | M |  0 |   8 | 0.00000000 |\n",
       "|         25 to 29 years  | F |  6 |  54 | 0.11111111 |\n",
       "|         25 to 29 years  | M |  2 |  31 | 0.06451613 |\n",
       "|         30 to 34 years  | F | 29 | 230 | 0.12608696 |\n",
       "\n"
      ],
      "text/plain": [
       "  age_group               Sex cases count crude_rate\n",
       "1         18 and 19 years F    0      2   0.00000000\n",
       "2         20 to 24 years  F    0      6   0.00000000\n",
       "3         20 to 24 years  M    0      8   0.00000000\n",
       "4         25 to 29 years  F    6     54   0.11111111\n",
       "5         25 to 29 years  M    2     31   0.06451613\n",
       "6         30 to 34 years  F   29    230   0.12608696"
      ]
     },
     "metadata": {},
     "output_type": "display_data"
    }
   ],
   "source": [
    "# Calculating crude rates for each age-sex group and adding them as a new tibble column\n",
    "adjust_calc_df_b$crude_rate = adjust_calc_df_b$cases / adjust_calc_df_b$count\n",
    "# Viewing updated table\n",
    "head(adjust_calc_df_b)"
   ]
  },
  {
   "cell_type": "markdown",
   "id": "5221f7bc",
   "metadata": {},
   "source": [
    "For the next step in our age-sex adjustment, we'll start adding data from our census tables. Using the Black census data table, we'll annotate our calculation tibble with actual population counts for each age-sex group. We'll call this new annotation column 'Population':"
   ]
  },
  {
   "cell_type": "code",
   "execution_count": 126,
   "id": "05de019c",
   "metadata": {},
   "outputs": [],
   "source": [
    "# Renaming the 'Age' column in our census data tables to 'age_group' to allow merging with our calculation tibble\n",
    "colnames(white_census_data_df)[2] = 'age_group'\n",
    "colnames(black_census_data_df)[2] = 'age_group'\n",
    "colnames(hispanic_census_data_df)[2] = 'age_group'\n",
    "colnames(all_census_data_df)[2] = 'age_group'"
   ]
  },
  {
   "cell_type": "code",
   "execution_count": 127,
   "id": "c7ad615d",
   "metadata": {},
   "outputs": [
    {
     "data": {
      "text/html": [
       "<table class=\"dataframe\">\n",
       "<caption>A data.frame: 6 × 6</caption>\n",
       "<thead>\n",
       "\t<tr><th></th><th scope=col>age_group</th><th scope=col>Sex</th><th scope=col>cases</th><th scope=col>count</th><th scope=col>crude_rate</th><th scope=col>Population</th></tr>\n",
       "\t<tr><th></th><th scope=col>&lt;chr&gt;</th><th scope=col>&lt;chr&gt;</th><th scope=col>&lt;int&gt;</th><th scope=col>&lt;int&gt;</th><th scope=col>&lt;dbl&gt;</th><th scope=col>&lt;int&gt;</th></tr>\n",
       "</thead>\n",
       "<tbody>\n",
       "\t<tr><th scope=row>1</th><td>        18 and 19 years</td><td>F</td><td> 0</td><td>  2</td><td>0.00000000</td><td> 576679</td></tr>\n",
       "\t<tr><th scope=row>2</th><td>        20 to 24 years </td><td>F</td><td> 0</td><td>  6</td><td>0.00000000</td><td>1509814</td></tr>\n",
       "\t<tr><th scope=row>3</th><td>        20 to 24 years </td><td>M</td><td> 0</td><td>  8</td><td>0.00000000</td><td>1542188</td></tr>\n",
       "\t<tr><th scope=row>4</th><td>        25 to 29 years </td><td>F</td><td> 6</td><td> 54</td><td>0.11111111</td><td>1488805</td></tr>\n",
       "\t<tr><th scope=row>5</th><td>        25 to 29 years </td><td>M</td><td> 2</td><td> 31</td><td>0.06451613</td><td>1494379</td></tr>\n",
       "\t<tr><th scope=row>6</th><td>        30 to 34 years </td><td>F</td><td>29</td><td>230</td><td>0.12608696</td><td>1617188</td></tr>\n",
       "</tbody>\n",
       "</table>\n"
      ],
      "text/latex": [
       "A data.frame: 6 × 6\n",
       "\\begin{tabular}{r|llllll}\n",
       "  & age\\_group & Sex & cases & count & crude\\_rate & Population\\\\\n",
       "  & <chr> & <chr> & <int> & <int> & <dbl> & <int>\\\\\n",
       "\\hline\n",
       "\t1 &         18 and 19 years & F &  0 &   2 & 0.00000000 &  576679\\\\\n",
       "\t2 &         20 to 24 years  & F &  0 &   6 & 0.00000000 & 1509814\\\\\n",
       "\t3 &         20 to 24 years  & M &  0 &   8 & 0.00000000 & 1542188\\\\\n",
       "\t4 &         25 to 29 years  & F &  6 &  54 & 0.11111111 & 1488805\\\\\n",
       "\t5 &         25 to 29 years  & M &  2 &  31 & 0.06451613 & 1494379\\\\\n",
       "\t6 &         30 to 34 years  & F & 29 & 230 & 0.12608696 & 1617188\\\\\n",
       "\\end{tabular}\n"
      ],
      "text/markdown": [
       "\n",
       "A data.frame: 6 × 6\n",
       "\n",
       "| <!--/--> | age_group &lt;chr&gt; | Sex &lt;chr&gt; | cases &lt;int&gt; | count &lt;int&gt; | crude_rate &lt;dbl&gt; | Population &lt;int&gt; |\n",
       "|---|---|---|---|---|---|---|\n",
       "| 1 |         18 and 19 years | F |  0 |   2 | 0.00000000 |  576679 |\n",
       "| 2 |         20 to 24 years  | F |  0 |   6 | 0.00000000 | 1509814 |\n",
       "| 3 |         20 to 24 years  | M |  0 |   8 | 0.00000000 | 1542188 |\n",
       "| 4 |         25 to 29 years  | F |  6 |  54 | 0.11111111 | 1488805 |\n",
       "| 5 |         25 to 29 years  | M |  2 |  31 | 0.06451613 | 1494379 |\n",
       "| 6 |         30 to 34 years  | F | 29 | 230 | 0.12608696 | 1617188 |\n",
       "\n"
      ],
      "text/plain": [
       "  age_group               Sex cases count crude_rate Population\n",
       "1         18 and 19 years F    0      2   0.00000000  576679   \n",
       "2         20 to 24 years  F    0      6   0.00000000 1509814   \n",
       "3         20 to 24 years  M    0      8   0.00000000 1542188   \n",
       "4         25 to 29 years  F    6     54   0.11111111 1488805   \n",
       "5         25 to 29 years  M    2     31   0.06451613 1494379   \n",
       "6         30 to 34 years  F   29    230   0.12608696 1617188   "
      ]
     },
     "metadata": {},
     "output_type": "display_data"
    }
   ],
   "source": [
    "# Merging Black census data table with calculation tibble\n",
    "adjust_calc_df_b = merge(adjust_calc_df_b, mutate(black_census_data_df, Sex = recode(Sex, 'Male' = 'M', 'Female' = 'F')))\n",
    "# Viewing updated tibble\n",
    "head(adjust_calc_df_b)"
   ]
  },
  {
   "cell_type": "markdown",
   "id": "a2e90713",
   "metadata": {},
   "source": [
    "Now we'll use the population counts to calculate weights for each age-sex group. Weights are values that determine how much the crude rate for each age-sex group will factor into the final type 2 diabetes adjusted prevalence calculation. Here, we'll calculate weight as the proportion of the entire Black population each age-sex group makes up: (population of age-sex group) / (entire population count). In this way, crude rates for age-sex groups that represent a larger share of the population will be weighed more heavily than age-sex groups that represent a smaller share of the population. We'll add a new column with our calculated weights called 'weight':"
   ]
  },
  {
   "cell_type": "code",
   "execution_count": 128,
   "id": "1a2ebc9d",
   "metadata": {},
   "outputs": [
    {
     "data": {
      "text/html": [
       "<table class=\"dataframe\">\n",
       "<caption>A data.frame: 6 × 7</caption>\n",
       "<thead>\n",
       "\t<tr><th></th><th scope=col>age_group</th><th scope=col>Sex</th><th scope=col>cases</th><th scope=col>count</th><th scope=col>crude_rate</th><th scope=col>Population</th><th scope=col>weight</th></tr>\n",
       "\t<tr><th></th><th scope=col>&lt;chr&gt;</th><th scope=col>&lt;chr&gt;</th><th scope=col>&lt;int&gt;</th><th scope=col>&lt;int&gt;</th><th scope=col>&lt;dbl&gt;</th><th scope=col>&lt;int&gt;</th><th scope=col>&lt;dbl&gt;</th></tr>\n",
       "</thead>\n",
       "<tbody>\n",
       "\t<tr><th scope=row>1</th><td>        18 and 19 years</td><td>F</td><td> 0</td><td>  2</td><td>0.00000000</td><td> 576679</td><td>0.01930614</td></tr>\n",
       "\t<tr><th scope=row>2</th><td>        20 to 24 years </td><td>F</td><td> 0</td><td>  6</td><td>0.00000000</td><td>1509814</td><td>0.05054575</td></tr>\n",
       "\t<tr><th scope=row>3</th><td>        20 to 24 years </td><td>M</td><td> 0</td><td>  8</td><td>0.00000000</td><td>1542188</td><td>0.05162957</td></tr>\n",
       "\t<tr><th scope=row>4</th><td>        25 to 29 years </td><td>F</td><td> 6</td><td> 54</td><td>0.11111111</td><td>1488805</td><td>0.04984241</td></tr>\n",
       "\t<tr><th scope=row>5</th><td>        25 to 29 years </td><td>M</td><td> 2</td><td> 31</td><td>0.06451613</td><td>1494379</td><td>0.05002902</td></tr>\n",
       "\t<tr><th scope=row>6</th><td>        30 to 34 years </td><td>F</td><td>29</td><td>230</td><td>0.12608696</td><td>1617188</td><td>0.05414043</td></tr>\n",
       "</tbody>\n",
       "</table>\n"
      ],
      "text/latex": [
       "A data.frame: 6 × 7\n",
       "\\begin{tabular}{r|lllllll}\n",
       "  & age\\_group & Sex & cases & count & crude\\_rate & Population & weight\\\\\n",
       "  & <chr> & <chr> & <int> & <int> & <dbl> & <int> & <dbl>\\\\\n",
       "\\hline\n",
       "\t1 &         18 and 19 years & F &  0 &   2 & 0.00000000 &  576679 & 0.01930614\\\\\n",
       "\t2 &         20 to 24 years  & F &  0 &   6 & 0.00000000 & 1509814 & 0.05054575\\\\\n",
       "\t3 &         20 to 24 years  & M &  0 &   8 & 0.00000000 & 1542188 & 0.05162957\\\\\n",
       "\t4 &         25 to 29 years  & F &  6 &  54 & 0.11111111 & 1488805 & 0.04984241\\\\\n",
       "\t5 &         25 to 29 years  & M &  2 &  31 & 0.06451613 & 1494379 & 0.05002902\\\\\n",
       "\t6 &         30 to 34 years  & F & 29 & 230 & 0.12608696 & 1617188 & 0.05414043\\\\\n",
       "\\end{tabular}\n"
      ],
      "text/markdown": [
       "\n",
       "A data.frame: 6 × 7\n",
       "\n",
       "| <!--/--> | age_group &lt;chr&gt; | Sex &lt;chr&gt; | cases &lt;int&gt; | count &lt;int&gt; | crude_rate &lt;dbl&gt; | Population &lt;int&gt; | weight &lt;dbl&gt; |\n",
       "|---|---|---|---|---|---|---|---|\n",
       "| 1 |         18 and 19 years | F |  0 |   2 | 0.00000000 |  576679 | 0.01930614 |\n",
       "| 2 |         20 to 24 years  | F |  0 |   6 | 0.00000000 | 1509814 | 0.05054575 |\n",
       "| 3 |         20 to 24 years  | M |  0 |   8 | 0.00000000 | 1542188 | 0.05162957 |\n",
       "| 4 |         25 to 29 years  | F |  6 |  54 | 0.11111111 | 1488805 | 0.04984241 |\n",
       "| 5 |         25 to 29 years  | M |  2 |  31 | 0.06451613 | 1494379 | 0.05002902 |\n",
       "| 6 |         30 to 34 years  | F | 29 | 230 | 0.12608696 | 1617188 | 0.05414043 |\n",
       "\n"
      ],
      "text/plain": [
       "  age_group               Sex cases count crude_rate Population weight    \n",
       "1         18 and 19 years F    0      2   0.00000000  576679    0.01930614\n",
       "2         20 to 24 years  F    0      6   0.00000000 1509814    0.05054575\n",
       "3         20 to 24 years  M    0      8   0.00000000 1542188    0.05162957\n",
       "4         25 to 29 years  F    6     54   0.11111111 1488805    0.04984241\n",
       "5         25 to 29 years  M    2     31   0.06451613 1494379    0.05002902\n",
       "6         30 to 34 years  F   29    230   0.12608696 1617188    0.05414043"
      ]
     },
     "metadata": {},
     "output_type": "display_data"
    }
   ],
   "source": [
    "# Calculating weights and adding them to the calculation tibble\n",
    "adjust_calc_df_b$weight = adjust_calc_df_b$Population / sum(adjust_calc_df_b$Population)\n",
    "# Displaying updated tibble\n",
    "head(adjust_calc_df_b)"
   ]
  },
  {
   "cell_type": "markdown",
   "id": "b0390c4f",
   "metadata": {},
   "source": [
    "We now have everything we need to calculate our adjusted prevalence estimate for the Black SIRE group. To get our prevalence estimate, we'll take the sum of the products of crude rate and weight for each age-sex group. We can multiply this value by 100 to express it as a percentage:"
   ]
  },
  {
   "cell_type": "code",
   "execution_count": 129,
   "id": "ff0b7421",
   "metadata": {},
   "outputs": [
    {
     "name": "stdout",
     "output_type": "stream",
     "text": [
      "[1] \"Adjusted Type 2 Dianetes Prevalence (Black):\"\n",
      "[2] \"19.83\"                                       \n"
     ]
    }
   ],
   "source": [
    "# Calculating adjusted prevalence for the Black SIRE group\n",
    "black_adj_prev = round(sum(adjust_calc_df_b$crude_rate * adjust_calc_df_b$weight * 100), digits = 2)\n",
    "# Displaying result\n",
    "print(c('Adjusted Type 2 Dianetes Prevalence (Black):', black_adj_prev))"
   ]
  },
  {
   "cell_type": "markdown",
   "id": "8c90b733",
   "metadata": {},
   "source": [
    "We can apply the same process to obtain age-sex adjusted prevalence estimates for the other SIRE groups and for the entire cohort:"
   ]
  },
  {
   "cell_type": "code",
   "execution_count": 130,
   "id": "b929cc4a",
   "metadata": {},
   "outputs": [
    {
     "name": "stderr",
     "output_type": "stream",
     "text": [
      "\u001b[1m\u001b[22m`summarise()` has grouped output by 'age_group'. You can override using the\n",
      "`.groups` argument.\n",
      "\u001b[1m\u001b[22m`summarise()` has grouped output by 'age_group'. You can override using the\n",
      "`.groups` argument.\n"
     ]
    },
    {
     "name": "stdout",
     "output_type": "stream",
     "text": [
      "[1] \"Adjusted Type 2 Diabetes Prevalence (Hispanic):\"\n",
      "[2] \"21.81\"                                          \n"
     ]
    }
   ],
   "source": [
    "# Bulding calculation tibble\n",
    "adjust_calc_df_h = cohort_df_h %>%\n",
    "  group_by(age_group, Sex) %>%\n",
    "  summarize(cases = sum(t2d))\n",
    "\n",
    "adjust_calc_df_h$count = (cohort_df_h %>%\n",
    "  group_by(age_group, Sex) %>%\n",
    "  summarize(count = n()))$count\n",
    "\n",
    "adjust_calc_df_h$crude_rate = adjust_calc_df_h$cases / adjust_calc_df_h$count\n",
    "\n",
    "adjust_calc_df_h = merge(adjust_calc_df_h, mutate(hispanic_census_data_df, Sex = recode(Sex, 'Male' = 'M', 'Female' = 'F')))\n",
    "\n",
    "adjust_calc_df_h$weight = adjust_calc_df_h$Population / sum(adjust_calc_df_h$Population)\n",
    "\n",
    "# Calculating age-sex adjusted prevalence estimate\n",
    "hispanic_adj_prev = round(sum(adjust_calc_df_h$crude_rate * adjust_calc_df_h$weight * 100), digits = 2)\n",
    "\n",
    "# Displaying result\n",
    "print(c('Adjusted Type 2 Diabetes Prevalence (Hispanic):', hispanic_adj_prev))"
   ]
  },
  {
   "cell_type": "code",
   "execution_count": 131,
   "id": "736dcc4c",
   "metadata": {},
   "outputs": [
    {
     "name": "stderr",
     "output_type": "stream",
     "text": [
      "\u001b[1m\u001b[22m`summarise()` has grouped output by 'age_group'. You can override using the\n",
      "`.groups` argument.\n",
      "\u001b[1m\u001b[22m`summarise()` has grouped output by 'age_group'. You can override using the\n",
      "`.groups` argument.\n"
     ]
    },
    {
     "name": "stdout",
     "output_type": "stream",
     "text": [
      "[1] \"Adjusted Type 2 Diabetes Prevalence (White):\"\n",
      "[2] \"10.28\"                                       \n"
     ]
    }
   ],
   "source": [
    "# Bulding calculation tibble\n",
    "adjust_calc_df_w = cohort_df_w %>%\n",
    "  group_by(age_group, Sex) %>%\n",
    "  summarize(cases = sum(t2d))\n",
    "\n",
    "adjust_calc_df_w$count = (cohort_df_w %>%\n",
    "  group_by(age_group, Sex) %>%\n",
    "  summarize(count = n()))$count\n",
    "\n",
    "adjust_calc_df_w$crude_rate = adjust_calc_df_w$cases / adjust_calc_df_w$count\n",
    "\n",
    "adjust_calc_df_w = merge(adjust_calc_df_w, mutate(white_census_data_df, Sex = recode(Sex, 'Male' = 'M', 'Female' = 'F')))\n",
    "\n",
    "adjust_calc_df_w$weight = adjust_calc_df_w$Population / sum(adjust_calc_df_w$Population)\n",
    "\n",
    "# Calculating age-sex adjusted prevalence estimate\n",
    "white_adj_prev = round(sum(adjust_calc_df_w$crude_rate * adjust_calc_df_w$weight * 100), digits = 2)\n",
    "\n",
    "# Displaying result\n",
    "print(c('Adjusted Type 2 Diabetes Prevalence (White):', white_adj_prev))"
   ]
  },
  {
   "cell_type": "code",
   "execution_count": 132,
   "id": "085879bc",
   "metadata": {},
   "outputs": [
    {
     "name": "stderr",
     "output_type": "stream",
     "text": [
      "\u001b[1m\u001b[22m`summarise()` has grouped output by 'age_group'. You can override using the\n",
      "`.groups` argument.\n",
      "\u001b[1m\u001b[22m`summarise()` has grouped output by 'age_group'. You can override using the\n",
      "`.groups` argument.\n"
     ]
    },
    {
     "name": "stdout",
     "output_type": "stream",
     "text": [
      "[1] \"Adjusted Type 2 Diabetes Prevalence (Overall):\"\n",
      "[2] \"16.5\"                                          \n"
     ]
    }
   ],
   "source": [
    "# Bulding calculation tibble\n",
    "adjust_calc_df = cohort_df %>%\n",
    "  group_by(age_group, Sex) %>%\n",
    "  summarize(cases = sum(t2d))\n",
    "\n",
    "adjust_calc_df$count = (cohort_df %>%\n",
    "  group_by(age_group, Sex) %>%\n",
    "  summarize(count = n()))$count\n",
    "\n",
    "adjust_calc_df$crude_rate = adjust_calc_df$cases / adjust_calc_df$count\n",
    "\n",
    "adjust_calc_df = merge(adjust_calc_df, mutate(all_census_data_df, Sex = recode(Sex, 'Male' = 'M', 'Female' = 'F')))\n",
    "\n",
    "adjust_calc_df$weight = adjust_calc_df$Population / sum(adjust_calc_df$Population)\n",
    "\n",
    "# Calculating age-sex adjusted prevalence estimate\n",
    "all_adj_prev = round(sum(adjust_calc_df$crude_rate * adjust_calc_df$weight * 100), digits = 2)\n",
    "\n",
    "# Displaying result\n",
    "print(c('Adjusted Type 2 Diabetes Prevalence (Overall):', all_adj_prev))"
   ]
  },
  {
   "cell_type": "markdown",
   "id": "6c9ec520",
   "metadata": {},
   "source": [
    "Comparing these adjusted estimates with our raw prevalence estimates from earlier, we see that adjusting for age and sex lowers our SIRE-specific prevalence estimates, bringing them closer to national estimates. "
   ]
  },
  {
   "cell_type": "markdown",
   "id": "8928e50c",
   "metadata": {},
   "source": [
    "To get a sense of how precise these prevalence estimates are, we'll be calculating confidence intervals for each of our estimates. We can do so using the formula sqrt(sum((f^2/n)*(k/n)*(1-(k/n))))*1.96, where f is equal to the proportion of the population made up of people belonging to a age-sex group, n is equal to the number of people in that age-sex group in our cohort, and k is equal to the number of type 2 diabetes cases in that age-sex group in our cohort. The 1.96 multiplier gives us a 95% confidence interval. We can multiply the result by 100 to express this interval as a percent. Let's try calculating a confidence interval for our Black SIRE cohort:"
   ]
  },
  {
   "cell_type": "code",
   "execution_count": 133,
   "id": "0abc006d",
   "metadata": {},
   "outputs": [
    {
     "name": "stdout",
     "output_type": "stream",
     "text": [
      "[1] \"Bound for Black SIRE group:\" \"1.57\"                       \n"
     ]
    }
   ],
   "source": [
    "# Defining f, n, and k\n",
    "f = adjust_calc_df_b['weight']\n",
    "n = adjust_calc_df_b['count']\n",
    "k = adjust_calc_df_b['cases']\n",
    "\n",
    "# Calculating confidence interval\n",
    "bound_b = sqrt(sum((f**2/n)*(k/n)*(1-(k/n))))*100*1.96\n",
    "# Displaying confidence interval\n",
    "print(c('Bound for Black SIRE group:', round(bound_b, 2)))"
   ]
  },
  {
   "cell_type": "markdown",
   "id": "d400137f",
   "metadata": {},
   "source": [
    "This value represents our 95% confidence interval for our prevalence estimate for the Black SIRE group. 1.57 above and below the prevalence estimate represents the upper and lower bounds of the prevalence estimate. We can apply the same formula to obtain the bounds for the other SIRE groups:"
   ]
  },
  {
   "cell_type": "code",
   "execution_count": 134,
   "id": "31bc86c1",
   "metadata": {},
   "outputs": [
    {
     "name": "stdout",
     "output_type": "stream",
     "text": [
      "[1] \"Bound for Hispanic SIRE group:\" \"2.3\"                           \n"
     ]
    }
   ],
   "source": [
    "# Defining f, n, and k\n",
    "f = adjust_calc_df_h['weight']\n",
    "n = adjust_calc_df_h['count']\n",
    "k = adjust_calc_df_h['cases']\n",
    "\n",
    "# Calculating confidence interval\n",
    "bound_h = sqrt(sum((f**2/n)*(k/n)*(1-(k/n))))*100*1.96\n",
    "# Displaying confidence interval\n",
    "print(c('Bound for Hispanic SIRE group:', round(bound_h, 2)))"
   ]
  },
  {
   "cell_type": "code",
   "execution_count": 135,
   "id": "1bd41740",
   "metadata": {},
   "outputs": [
    {
     "name": "stdout",
     "output_type": "stream",
     "text": [
      "[1] \"Bound for White SIRE group:\" \"0.94\"                       \n"
     ]
    }
   ],
   "source": [
    "# Defining f, n, and k\n",
    "f = adjust_calc_df_w['weight']\n",
    "n = adjust_calc_df_w['count']\n",
    "k = adjust_calc_df_w['cases']\n",
    "\n",
    "# Calculating confidence interval\n",
    "bound_w = sqrt(sum((f**2/n)*(k/n)*(1-(k/n))))*100*1.96\n",
    "# Displaying confidence interval\n",
    "print(c('Bound for White SIRE group:', round(bound_w, 2)))"
   ]
  },
  {
   "cell_type": "code",
   "execution_count": 136,
   "id": "df882f55",
   "metadata": {},
   "outputs": [
    {
     "name": "stdout",
     "output_type": "stream",
     "text": [
      "[1] \"Bound for entire cohort:\" \"1.39\"                    \n"
     ]
    }
   ],
   "source": [
    "# Defining f, n, and k\n",
    "f = adjust_calc_df['weight']\n",
    "n = adjust_calc_df['count']\n",
    "k = adjust_calc_df['cases']\n",
    "\n",
    "# Calculating confidence interval\n",
    "bound_all = sqrt(sum((f**2/n)*(k/n)*(1-(k/n))))*100*1.96\n",
    "# Displaying confidence interval\n",
    "print(c('Bound for entire cohort:', round(bound_all, 2)))"
   ]
  },
  {
   "cell_type": "markdown",
   "id": "cc905493",
   "metadata": {},
   "source": [
    "This formula is written in such a way that larger prevalence estimates as well as prevalence estimates derived from smaller samples of individuals tend to yield larger confidence intervals. "
   ]
  },
  {
   "cell_type": "markdown",
   "id": "c0b13fa4-4f3a-40a2-99da-dfd4f9c363ba",
   "metadata": {},
   "source": [
    "## Section 4 - Visualize prevalences"
   ]
  },
  {
   "cell_type": "markdown",
   "id": "03991178",
   "metadata": {},
   "source": [
    "Now that we've calculated are age and sex-adjusted prevalence estimates and confidence intervals, we can properly visualize racial disparities in type 2 diabetes burden across our cohort. Our first step is to assemble our estimates into a tibble that can be plotted:"
   ]
  },
  {
   "cell_type": "code",
   "execution_count": 137,
   "id": "ee9bf458",
   "metadata": {},
   "outputs": [
    {
     "data": {
      "text/html": [
       "<table class=\"dataframe\">\n",
       "<caption>A tibble: 4 × 3</caption>\n",
       "<thead>\n",
       "\t<tr><th scope=col>SIRE</th><th scope=col>Prevalence</th><th scope=col>CI</th></tr>\n",
       "\t<tr><th scope=col>&lt;fct&gt;</th><th scope=col>&lt;dbl&gt;</th><th scope=col>&lt;dbl&gt;</th></tr>\n",
       "</thead>\n",
       "<tbody>\n",
       "\t<tr><td>Black   </td><td>19.83</td><td>1.5691523</td></tr>\n",
       "\t<tr><td>Hispanic</td><td>21.81</td><td>2.3012655</td></tr>\n",
       "\t<tr><td>White   </td><td>10.28</td><td>0.9422129</td></tr>\n",
       "\t<tr><td>Overall </td><td>16.50</td><td>1.3867051</td></tr>\n",
       "</tbody>\n",
       "</table>\n"
      ],
      "text/latex": [
       "A tibble: 4 × 3\n",
       "\\begin{tabular}{lll}\n",
       " SIRE & Prevalence & CI\\\\\n",
       " <fct> & <dbl> & <dbl>\\\\\n",
       "\\hline\n",
       "\t Black    & 19.83 & 1.5691523\\\\\n",
       "\t Hispanic & 21.81 & 2.3012655\\\\\n",
       "\t White    & 10.28 & 0.9422129\\\\\n",
       "\t Overall  & 16.50 & 1.3867051\\\\\n",
       "\\end{tabular}\n"
      ],
      "text/markdown": [
       "\n",
       "A tibble: 4 × 3\n",
       "\n",
       "| SIRE &lt;fct&gt; | Prevalence &lt;dbl&gt; | CI &lt;dbl&gt; |\n",
       "|---|---|---|\n",
       "| Black    | 19.83 | 1.5691523 |\n",
       "| Hispanic | 21.81 | 2.3012655 |\n",
       "| White    | 10.28 | 0.9422129 |\n",
       "| Overall  | 16.50 | 1.3867051 |\n",
       "\n"
      ],
      "text/plain": [
       "  SIRE     Prevalence CI       \n",
       "1 Black    19.83      1.5691523\n",
       "2 Hispanic 21.81      2.3012655\n",
       "3 White    10.28      0.9422129\n",
       "4 Overall  16.50      1.3867051"
      ]
     },
     "metadata": {},
     "output_type": "display_data"
    }
   ],
   "source": [
    "# Assembling three tibble columns representing SIRE, adjusted prevalence estimates, and confidence interval \n",
    "SIRE = factor(c('Black','Hispanic','White','Overall'), levels = c('Black','Hispanic','White','Overall'))\n",
    "prev = c(black_adj_prev, hispanic_adj_prev, white_adj_prev, all_adj_prev)\n",
    "ci = c(bound_b, bound_h, bound_w, bound_all)\n",
    "# Creating a plottable tibble using the three columns we've just assembled\n",
    "plot_df = tibble(SIRE = SIRE, Prevalence = prev, CI = ci)\n",
    "# Displaying contents of tibble\n",
    "plot_df"
   ]
  },
  {
   "cell_type": "markdown",
   "id": "02a98045",
   "metadata": {},
   "source": [
    "We'll start with a simple basic plot of our prevalence estimates. Bars represent SIRE groups, with their sizes reflecting the prevalence of type 2 diabetes for each group. The 'theme_bw()' function provides an aesthetically pleasing alternative to the default ggplot theme, though it can be replaced with any number of ggplot themes according to your taste or need: https://ggplot2.tidyverse.org/reference/ggtheme.html"
   ]
  },
  {
   "cell_type": "code",
   "execution_count": 138,
   "id": "cebb327e",
   "metadata": {},
   "outputs": [
    {
     "data": {
      "image/png": "[encoded data removed]",
      "text/plain": [
       "plot without title"
      ]
     },
     "metadata": {
      "image/png": {
       "height": 720,
       "width": 720
      }
     },
     "output_type": "display_data"
    }
   ],
   "source": [
    "# Generating simple plot of adjusted prevalence estimates\n",
    "ggplot(data = plot_df, mapping = aes(x = SIRE, y = Prevalence)) +\n",
    "geom_bar(stat = 'identity') +\n",
    "theme_bw()"
   ]
  },
  {
   "cell_type": "markdown",
   "id": "d9e30862",
   "metadata": {},
   "source": [
    "We can display the confidence intervals we've calculated by adding a geom_errorbar object. We'll set the lower bound of our error bars to be our prevalence estimates minus our bounds and we'll set the upper bounds of our error bars to be our prevalence estimates plus our bounds:"
   ]
  },
  {
   "cell_type": "code",
   "execution_count": 139,
   "id": "e13793de",
   "metadata": {},
   "outputs": [
    {
     "data": {
      "image/png": "[encoded data removed]",
      "text/plain": [
       "plot without title"
      ]
     },
     "metadata": {
      "image/png": {
       "height": 720,
       "width": 720
      }
     },
     "output_type": "display_data"
    }
   ],
   "source": [
    "ggplot(data = plot_df, mapping = aes(x = SIRE, y = Prevalence)) +\n",
    "geom_bar(stat = 'identity') +\n",
    "# Displaying 95% confidence intervals\n",
    "geom_errorbar(aes(ymin=Prevalence-CI, ymax=Prevalence+CI)) +\n",
    "theme_bw()"
   ]
  },
  {
   "cell_type": "markdown",
   "id": "4f5e2ecd",
   "metadata": {},
   "source": [
    "Our bar plot now shows all the information we want it to display. However, it's not very visually appealling in its current form. One way in which we can improve the aesthetics of our plot is to narrow the width of the error bars and the bars themselves. We can do this by adjusting the 'width' parameter of both geom_bar() and geom_errorbar(): "
   ]
  },
  {
   "cell_type": "code",
   "execution_count": 140,
   "id": "73eeecc3",
   "metadata": {},
   "outputs": [
    {
     "data": {
      "image/png": "[encoded data removed]",
      "text/plain": [
       "plot without title"
      ]
     },
     "metadata": {
      "image/png": {
       "height": 720,
       "width": 720
      }
     },
     "output_type": "display_data"
    }
   ],
   "source": [
    "ggplot(data = plot_df, mapping = aes(x = SIRE, y = Prevalence)) +\n",
    "# Specifying width of bars\n",
    "geom_bar(stat = 'identity', width = 0.75) +\n",
    "geom_errorbar(aes(ymin=Prevalence-CI, ymax=Prevalence+CI, width = 0.3)) +\n",
    "theme_bw()"
   ]
  },
  {
   "cell_type": "markdown",
   "id": "595947d8",
   "metadata": {},
   "source": [
    "For some visual distinction, we can assign each of our bars a different color using the scale_fill_manual() function:"
   ]
  },
  {
   "cell_type": "code",
   "execution_count": 141,
   "id": "6db1a93b",
   "metadata": {},
   "outputs": [
    {
     "data": {
      "image/png": "[encoded data removed]",
      "text/plain": [
       "plot without title"
      ]
     },
     "metadata": {
      "image/png": {
       "height": 720,
       "width": 720
      }
     },
     "output_type": "display_data"
    }
   ],
   "source": [
    "# Specify that we'd like to fill that bars by SIRE group\n",
    "ggplot(data = plot_df, mapping = aes(x = SIRE, y = Prevalence, fill = SIRE)) +\n",
    "geom_bar(stat = 'identity', width = 0.75) +\n",
    "geom_errorbar(aes(ymin=Prevalence-CI, ymax=Prevalence+CI, width = 0.3)) +\n",
    "theme_bw() +\n",
    "# Specifying colors for each SIRE group\n",
    "scale_fill_manual(values = c('#283593','#41C9F8','#FFA000','gray'))"
   ]
  },
  {
   "cell_type": "markdown",
   "id": "fb16486b",
   "metadata": {},
   "source": [
    "To make our plot more legible, we can increase the font size of our axis, tick, and legend text by adjusting parameters for the theme() function:"
   ]
  },
  {
   "cell_type": "code",
   "execution_count": 142,
   "id": "5cadcd45",
   "metadata": {},
   "outputs": [
    {
     "data": {
      "image/png": "[encoded data removed]",
      "text/plain": [
       "plot without title"
      ]
     },
     "metadata": {
      "image/png": {
       "height": 720,
       "width": 720
      }
     },
     "output_type": "display_data"
    }
   ],
   "source": [
    "ggplot(data = plot_df, mapping = aes(x = SIRE, y = Prevalence, fill = SIRE)) +\n",
    "geom_bar(stat = 'identity', width = 0.75) +\n",
    "geom_errorbar(aes(ymin=Prevalence-CI, ymax=Prevalence+CI, width = 0.3)) +\n",
    "theme_bw() +\n",
    "# Increasing the font size of plot text\n",
    "theme(axis.title = element_text(size = 16), axis.text = element_text(size = 14), legend.text = element_text(size = 14), legend.title = element_text(size = 14)) +\n",
    "scale_fill_manual(values = c('#283593','#41C9F8','#FFA000','gray'))"
   ]
  },
  {
   "cell_type": "markdown",
   "id": "49568677",
   "metadata": {},
   "source": [
    "Those are all the visual adjustments we'll be making for this plot. There are many other functions and parameters in the ggplot package that can be used to tweak the appearance of your plots, so feel free to experiment with them to see what works best for you. "
   ]
  },
  {
   "cell_type": "markdown",
   "id": "bd5865b8",
   "metadata": {},
   "source": [
    "We can use this same suite of plotting functions to visually compare our adjusted prevalence estimates to both the unadjusted and national estimates we saw earlier. We'll begin, as always, by assembling a data tibble with the data we wish to plot. Thankfully, much of this work has already been done. The 'combined_df' tibble we assembled earlier contains values for both our unadjusted and national estimates:"
   ]
  },
  {
   "cell_type": "code",
   "execution_count": 143,
   "id": "4782b3de",
   "metadata": {},
   "outputs": [
    {
     "data": {
      "text/html": [
       "<table class=\"dataframe\">\n",
       "<caption>A tibble: 8 × 3</caption>\n",
       "<thead>\n",
       "\t<tr><th scope=col>SIRE</th><th scope=col>Prevalence</th><th scope=col>Estimate</th></tr>\n",
       "\t<tr><th scope=col>&lt;fct&gt;</th><th scope=col>&lt;dbl&gt;</th><th scope=col>&lt;chr&gt;</th></tr>\n",
       "</thead>\n",
       "<tbody>\n",
       "\t<tr><td>Black   </td><td>13.20000</td><td>National</td></tr>\n",
       "\t<tr><td>Hispanic</td><td>12.80000</td><td>National</td></tr>\n",
       "\t<tr><td>White   </td><td> 7.60000</td><td>National</td></tr>\n",
       "\t<tr><td>Overall </td><td>10.74000</td><td>National</td></tr>\n",
       "\t<tr><td>Black   </td><td>23.19289</td><td>Cohort  </td></tr>\n",
       "\t<tr><td>Hispanic</td><td>26.86553</td><td>Cohort  </td></tr>\n",
       "\t<tr><td>White   </td><td>11.15259</td><td>Cohort  </td></tr>\n",
       "\t<tr><td>Overall </td><td>16.21800</td><td>Cohort  </td></tr>\n",
       "</tbody>\n",
       "</table>\n"
      ],
      "text/latex": [
       "A tibble: 8 × 3\n",
       "\\begin{tabular}{lll}\n",
       " SIRE & Prevalence & Estimate\\\\\n",
       " <fct> & <dbl> & <chr>\\\\\n",
       "\\hline\n",
       "\t Black    & 13.20000 & National\\\\\n",
       "\t Hispanic & 12.80000 & National\\\\\n",
       "\t White    &  7.60000 & National\\\\\n",
       "\t Overall  & 10.74000 & National\\\\\n",
       "\t Black    & 23.19289 & Cohort  \\\\\n",
       "\t Hispanic & 26.86553 & Cohort  \\\\\n",
       "\t White    & 11.15259 & Cohort  \\\\\n",
       "\t Overall  & 16.21800 & Cohort  \\\\\n",
       "\\end{tabular}\n"
      ],
      "text/markdown": [
       "\n",
       "A tibble: 8 × 3\n",
       "\n",
       "| SIRE &lt;fct&gt; | Prevalence &lt;dbl&gt; | Estimate &lt;chr&gt; |\n",
       "|---|---|---|\n",
       "| Black    | 13.20000 | National |\n",
       "| Hispanic | 12.80000 | National |\n",
       "| White    |  7.60000 | National |\n",
       "| Overall  | 10.74000 | National |\n",
       "| Black    | 23.19289 | Cohort   |\n",
       "| Hispanic | 26.86553 | Cohort   |\n",
       "| White    | 11.15259 | Cohort   |\n",
       "| Overall  | 16.21800 | Cohort   |\n",
       "\n"
      ],
      "text/plain": [
       "  SIRE     Prevalence Estimate\n",
       "1 Black    13.20000   National\n",
       "2 Hispanic 12.80000   National\n",
       "3 White     7.60000   National\n",
       "4 Overall  10.74000   National\n",
       "5 Black    23.19289   Cohort  \n",
       "6 Hispanic 26.86553   Cohort  \n",
       "7 White    11.15259   Cohort  \n",
       "8 Overall  16.21800   Cohort  "
      ]
     },
     "metadata": {},
     "output_type": "display_data"
    }
   ],
   "source": [
    "# Displaying previously assembled plotting data\n",
    "combined_df"
   ]
  },
  {
   "cell_type": "markdown",
   "id": "24a40237",
   "metadata": {},
   "source": [
    "We'll be combining this data with 'plot_df', which contains our adjusted prevalence estimates. Let's have another look at the tibble:"
   ]
  },
  {
   "cell_type": "code",
   "execution_count": 144,
   "id": "a4d2771d",
   "metadata": {},
   "outputs": [
    {
     "data": {
      "text/html": [
       "<table class=\"dataframe\">\n",
       "<caption>A tibble: 4 × 3</caption>\n",
       "<thead>\n",
       "\t<tr><th scope=col>SIRE</th><th scope=col>Prevalence</th><th scope=col>CI</th></tr>\n",
       "\t<tr><th scope=col>&lt;fct&gt;</th><th scope=col>&lt;dbl&gt;</th><th scope=col>&lt;dbl&gt;</th></tr>\n",
       "</thead>\n",
       "<tbody>\n",
       "\t<tr><td>Black   </td><td>19.83</td><td>1.5691523</td></tr>\n",
       "\t<tr><td>Hispanic</td><td>21.81</td><td>2.3012655</td></tr>\n",
       "\t<tr><td>White   </td><td>10.28</td><td>0.9422129</td></tr>\n",
       "\t<tr><td>Overall </td><td>16.50</td><td>1.3867051</td></tr>\n",
       "</tbody>\n",
       "</table>\n"
      ],
      "text/latex": [
       "A tibble: 4 × 3\n",
       "\\begin{tabular}{lll}\n",
       " SIRE & Prevalence & CI\\\\\n",
       " <fct> & <dbl> & <dbl>\\\\\n",
       "\\hline\n",
       "\t Black    & 19.83 & 1.5691523\\\\\n",
       "\t Hispanic & 21.81 & 2.3012655\\\\\n",
       "\t White    & 10.28 & 0.9422129\\\\\n",
       "\t Overall  & 16.50 & 1.3867051\\\\\n",
       "\\end{tabular}\n"
      ],
      "text/markdown": [
       "\n",
       "A tibble: 4 × 3\n",
       "\n",
       "| SIRE &lt;fct&gt; | Prevalence &lt;dbl&gt; | CI &lt;dbl&gt; |\n",
       "|---|---|---|\n",
       "| Black    | 19.83 | 1.5691523 |\n",
       "| Hispanic | 21.81 | 2.3012655 |\n",
       "| White    | 10.28 | 0.9422129 |\n",
       "| Overall  | 16.50 | 1.3867051 |\n",
       "\n"
      ],
      "text/plain": [
       "  SIRE     Prevalence CI       \n",
       "1 Black    19.83      1.5691523\n",
       "2 Hispanic 21.81      2.3012655\n",
       "3 White    10.28      0.9422129\n",
       "4 Overall  16.50      1.3867051"
      ]
     },
     "metadata": {},
     "output_type": "display_data"
    }
   ],
   "source": [
    "plot_df"
   ]
  },
  {
   "cell_type": "markdown",
   "id": "f7073c42",
   "metadata": {},
   "source": [
    "While this tibble has values for SIRE and prevalence, we need an 'Estimate' column to make known that these values represent our adjusted estimates. Having this column is what also enables 'plot_df' to be merged with 'combined_df': "
   ]
  },
  {
   "cell_type": "code",
   "execution_count": 145,
   "id": "0d2524a1",
   "metadata": {},
   "outputs": [
    {
     "data": {
      "text/html": [
       "<table class=\"dataframe\">\n",
       "<caption>A tibble: 4 × 4</caption>\n",
       "<thead>\n",
       "\t<tr><th scope=col>SIRE</th><th scope=col>Prevalence</th><th scope=col>CI</th><th scope=col>Estimate</th></tr>\n",
       "\t<tr><th scope=col>&lt;fct&gt;</th><th scope=col>&lt;dbl&gt;</th><th scope=col>&lt;dbl&gt;</th><th scope=col>&lt;chr&gt;</th></tr>\n",
       "</thead>\n",
       "<tbody>\n",
       "\t<tr><td>Black   </td><td>19.83</td><td>1.5691523</td><td>Cohort (Adjusted)</td></tr>\n",
       "\t<tr><td>Hispanic</td><td>21.81</td><td>2.3012655</td><td>Cohort (Adjusted)</td></tr>\n",
       "\t<tr><td>White   </td><td>10.28</td><td>0.9422129</td><td>Cohort (Adjusted)</td></tr>\n",
       "\t<tr><td>Overall </td><td>16.50</td><td>1.3867051</td><td>Cohort (Adjusted)</td></tr>\n",
       "</tbody>\n",
       "</table>\n"
      ],
      "text/latex": [
       "A tibble: 4 × 4\n",
       "\\begin{tabular}{llll}\n",
       " SIRE & Prevalence & CI & Estimate\\\\\n",
       " <fct> & <dbl> & <dbl> & <chr>\\\\\n",
       "\\hline\n",
       "\t Black    & 19.83 & 1.5691523 & Cohort (Adjusted)\\\\\n",
       "\t Hispanic & 21.81 & 2.3012655 & Cohort (Adjusted)\\\\\n",
       "\t White    & 10.28 & 0.9422129 & Cohort (Adjusted)\\\\\n",
       "\t Overall  & 16.50 & 1.3867051 & Cohort (Adjusted)\\\\\n",
       "\\end{tabular}\n"
      ],
      "text/markdown": [
       "\n",
       "A tibble: 4 × 4\n",
       "\n",
       "| SIRE &lt;fct&gt; | Prevalence &lt;dbl&gt; | CI &lt;dbl&gt; | Estimate &lt;chr&gt; |\n",
       "|---|---|---|---|\n",
       "| Black    | 19.83 | 1.5691523 | Cohort (Adjusted) |\n",
       "| Hispanic | 21.81 | 2.3012655 | Cohort (Adjusted) |\n",
       "| White    | 10.28 | 0.9422129 | Cohort (Adjusted) |\n",
       "| Overall  | 16.50 | 1.3867051 | Cohort (Adjusted) |\n",
       "\n"
      ],
      "text/plain": [
       "  SIRE     Prevalence CI        Estimate         \n",
       "1 Black    19.83      1.5691523 Cohort (Adjusted)\n",
       "2 Hispanic 21.81      2.3012655 Cohort (Adjusted)\n",
       "3 White    10.28      0.9422129 Cohort (Adjusted)\n",
       "4 Overall  16.50      1.3867051 Cohort (Adjusted)"
      ]
     },
     "metadata": {},
     "output_type": "display_data"
    }
   ],
   "source": [
    "# Adding an 'Estimate' column to our current plotting data\n",
    "plot_df$Estimate = rep('Cohort (Adjusted)', 4)\n",
    "# Displaying updated plotting data\n",
    "plot_df"
   ]
  },
  {
   "cell_type": "markdown",
   "id": "ff9030e7",
   "metadata": {},
   "source": [
    "The two tibbles can now be merged. We'll drop the 'CI' column from 'plot_df' to ensure the two tibbles have the same three colums:"
   ]
  },
  {
   "cell_type": "code",
   "execution_count": 146,
   "id": "b0bbfa0c",
   "metadata": {},
   "outputs": [
    {
     "data": {
      "text/html": [
       "<table class=\"dataframe\">\n",
       "<caption>A tibble: 12 × 3</caption>\n",
       "<thead>\n",
       "\t<tr><th scope=col>SIRE</th><th scope=col>Prevalence</th><th scope=col>Estimate</th></tr>\n",
       "\t<tr><th scope=col>&lt;fct&gt;</th><th scope=col>&lt;dbl&gt;</th><th scope=col>&lt;chr&gt;</th></tr>\n",
       "</thead>\n",
       "<tbody>\n",
       "\t<tr><td>Black   </td><td>19.83000</td><td>Cohort (Adjusted)</td></tr>\n",
       "\t<tr><td>Hispanic</td><td>21.81000</td><td>Cohort (Adjusted)</td></tr>\n",
       "\t<tr><td>White   </td><td>10.28000</td><td>Cohort (Adjusted)</td></tr>\n",
       "\t<tr><td>Overall </td><td>16.50000</td><td>Cohort (Adjusted)</td></tr>\n",
       "\t<tr><td>Black   </td><td>13.20000</td><td>National         </td></tr>\n",
       "\t<tr><td>Hispanic</td><td>12.80000</td><td>National         </td></tr>\n",
       "\t<tr><td>White   </td><td> 7.60000</td><td>National         </td></tr>\n",
       "\t<tr><td>Overall </td><td>10.74000</td><td>National         </td></tr>\n",
       "\t<tr><td>Black   </td><td>23.19289</td><td>Cohort           </td></tr>\n",
       "\t<tr><td>Hispanic</td><td>26.86553</td><td>Cohort           </td></tr>\n",
       "\t<tr><td>White   </td><td>11.15259</td><td>Cohort           </td></tr>\n",
       "\t<tr><td>Overall </td><td>16.21800</td><td>Cohort           </td></tr>\n",
       "</tbody>\n",
       "</table>\n"
      ],
      "text/latex": [
       "A tibble: 12 × 3\n",
       "\\begin{tabular}{lll}\n",
       " SIRE & Prevalence & Estimate\\\\\n",
       " <fct> & <dbl> & <chr>\\\\\n",
       "\\hline\n",
       "\t Black    & 19.83000 & Cohort (Adjusted)\\\\\n",
       "\t Hispanic & 21.81000 & Cohort (Adjusted)\\\\\n",
       "\t White    & 10.28000 & Cohort (Adjusted)\\\\\n",
       "\t Overall  & 16.50000 & Cohort (Adjusted)\\\\\n",
       "\t Black    & 13.20000 & National         \\\\\n",
       "\t Hispanic & 12.80000 & National         \\\\\n",
       "\t White    &  7.60000 & National         \\\\\n",
       "\t Overall  & 10.74000 & National         \\\\\n",
       "\t Black    & 23.19289 & Cohort           \\\\\n",
       "\t Hispanic & 26.86553 & Cohort           \\\\\n",
       "\t White    & 11.15259 & Cohort           \\\\\n",
       "\t Overall  & 16.21800 & Cohort           \\\\\n",
       "\\end{tabular}\n"
      ],
      "text/markdown": [
       "\n",
       "A tibble: 12 × 3\n",
       "\n",
       "| SIRE &lt;fct&gt; | Prevalence &lt;dbl&gt; | Estimate &lt;chr&gt; |\n",
       "|---|---|---|\n",
       "| Black    | 19.83000 | Cohort (Adjusted) |\n",
       "| Hispanic | 21.81000 | Cohort (Adjusted) |\n",
       "| White    | 10.28000 | Cohort (Adjusted) |\n",
       "| Overall  | 16.50000 | Cohort (Adjusted) |\n",
       "| Black    | 13.20000 | National          |\n",
       "| Hispanic | 12.80000 | National          |\n",
       "| White    |  7.60000 | National          |\n",
       "| Overall  | 10.74000 | National          |\n",
       "| Black    | 23.19289 | Cohort            |\n",
       "| Hispanic | 26.86553 | Cohort            |\n",
       "| White    | 11.15259 | Cohort            |\n",
       "| Overall  | 16.21800 | Cohort            |\n",
       "\n"
      ],
      "text/plain": [
       "   SIRE     Prevalence Estimate         \n",
       "1  Black    19.83000   Cohort (Adjusted)\n",
       "2  Hispanic 21.81000   Cohort (Adjusted)\n",
       "3  White    10.28000   Cohort (Adjusted)\n",
       "4  Overall  16.50000   Cohort (Adjusted)\n",
       "5  Black    13.20000   National         \n",
       "6  Hispanic 12.80000   National         \n",
       "7  White     7.60000   National         \n",
       "8  Overall  10.74000   National         \n",
       "9  Black    23.19289   Cohort           \n",
       "10 Hispanic 26.86553   Cohort           \n",
       "11 White    11.15259   Cohort           \n",
       "12 Overall  16.21800   Cohort           "
      ]
     },
     "metadata": {},
     "output_type": "display_data"
    }
   ],
   "source": [
    "# Combining previous plotting data with current plotting data\n",
    "combined_df2 = rbind(plot_df[c('SIRE','Prevalence','Estimate')], combined_df)\n",
    "# Displaying combined data tibble\n",
    "combined_df2"
   ]
  },
  {
   "cell_type": "markdown",
   "id": "e96c6381",
   "metadata": {},
   "source": [
    "We can now plot all three type 2 diabetes prevalence estimates together using a grouped bar plot. We'll apply the same plotting functions and parameters we used for our previous plot to improve this plot's appearance:"
   ]
  },
  {
   "cell_type": "code",
   "execution_count": 147,
   "id": "b08a963b-37e7-46db-8bd1-8d1e3b333c1b",
   "metadata": {},
   "outputs": [
    {
     "data": {
      "image/png": "[encoded data removed]",
      "text/plain": [
       "plot without title"
      ]
     },
     "metadata": {
      "image/png": {
       "height": 720,
       "width": 720
      }
     },
     "output_type": "display_data"
    }
   ],
   "source": [
    "# Plotting table of raw prevalence estimates\n",
    "ggplot(data = combined_df2, mapping = aes(x = SIRE, y = Prevalence, fill = Estimate)) +\n",
    "# Specify that we'd like a grouped bar plot using the argument 'position = 'dodge''\n",
    "geom_bar(stat = 'identity', position = 'dodge') +\n",
    "theme_bw() +\n",
    "theme(axis.title = element_text(size = 16), axis.text = element_text(size = 14), legend.text = element_text(size = 14), legend.title = element_text(size = 14))"
   ]
  }
 ],
 "metadata": {
  "kernelspec": {
   "display_name": "R",
   "language": "R",
   "name": "ir"
  },
  "language_info": {
   "codemirror_mode": "r",
   "file_extension": ".r",
   "mimetype": "text/x-r-source",
   "name": "R",
   "pygments_lexer": "r",
   "version": "4.2.2"
  },
  "toc": {
   "base_numbering": 1,
   "nav_menu": {},
   "number_sections": true,
   "sideBar": true,
   "skip_h1_title": false,
   "title_cell": "Table of Contents",
   "title_sidebar": "Contents",
   "toc_cell": false,
   "toc_position": {},
   "toc_section_display": true,
   "toc_window_display": false
  }
 },
 "nbformat": 4,
 "nbformat_minor": 5
}
