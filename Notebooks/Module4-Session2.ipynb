{
 "cells": [
  {
   "cell_type": "markdown",
   "id": "b35ae2d9-b6b5-4e64-9be6-e1a9ac916b49",
   "metadata": {},
   "source": [
    "\n",
    "# Module 4 Session 2 - Quantifying Health Disparities\n",
    "\n",
    "## Authors: Shivam Sharma & Vincent Lam \n",
    "\n",
    "#### Date: May 29, 2024\n"
   ]
  },
  {
   "cell_type": "markdown",
   "id": "cea018b3-1089-410f-96ac-5eb0a70377ce",
   "metadata": {},
   "source": [
    "## Section 1 - Data exploration"
   ]
  },
  {
   "cell_type": "code",
   "execution_count": null,
   "id": "8e340621-eb8b-4dce-a890-dc2e61ca8a20",
   "metadata": {},
   "outputs": [],
   "source": []
  },
  {
   "cell_type": "code",
   "execution_count": null,
   "id": "ab081a71-fd89-4ae9-9a99-13ad2bf7ca2c",
   "metadata": {},
   "outputs": [],
   "source": []
  },
  {
   "cell_type": "markdown",
   "id": "855b6b61-9728-46df-a489-b583fc985a7d",
   "metadata": {},
   "source": [
    "## Section 2 - Create case-control cohorts"
   ]
  },
  {
   "cell_type": "code",
   "execution_count": null,
   "id": "61f5d8cf-798e-4cb8-bff7-513b386682f5",
   "metadata": {},
   "outputs": [],
   "source": []
  },
  {
   "cell_type": "code",
   "execution_count": null,
   "id": "3a070d41-fff9-46ca-b832-8a471d830181",
   "metadata": {},
   "outputs": [],
   "source": []
  },
  {
   "cell_type": "markdown",
   "id": "e1416bbc-0f68-4073-9254-fe963731a325",
   "metadata": {},
   "source": [
    "## Section 3 - Calculate age & sex adjusted prevalences"
   ]
  },
  {
   "cell_type": "code",
   "execution_count": null,
   "id": "0994fd20-f6d3-48fc-b162-aebf9d028031",
   "metadata": {},
   "outputs": [],
   "source": []
  },
  {
   "cell_type": "code",
   "execution_count": null,
   "id": "094464df-412a-4e3b-9ea9-2b8155ba6521",
   "metadata": {},
   "outputs": [],
   "source": []
  },
  {
   "cell_type": "markdown",
   "id": "c0b13fa4-4f3a-40a2-99da-dfd4f9c363ba",
   "metadata": {},
   "source": [
    "## Section 4 - Visualize prevalences"
   ]
  },
  {
   "cell_type": "code",
   "execution_count": null,
   "id": "b08a963b-37e7-46db-8bd1-8d1e3b333c1b",
   "metadata": {},
   "outputs": [],
   "source": []
  },
  {
   "cell_type": "code",
   "execution_count": null,
   "id": "dd2a3d8d-c538-423e-b145-2bf63c26e914",
   "metadata": {},
   "outputs": [],
   "source": []
  },
  {
   "cell_type": "markdown",
   "id": "71e8f3a6-c6d6-4293-ae08-14b05eae3134",
   "metadata": {},
   "source": [
    "## Section 5"
   ]
  },
  {
   "cell_type": "code",
   "execution_count": null,
   "id": "108502c0-a3a2-43fd-918a-534028be067b",
   "metadata": {},
   "outputs": [],
   "source": []
  },
  {
   "cell_type": "code",
   "execution_count": null,
   "id": "618e58c0-dc64-444d-8b0f-0308ce3faf1d",
   "metadata": {},
   "outputs": [],
   "source": []
  },
  {
   "cell_type": "code",
   "execution_count": null,
   "id": "3aaa4b72-f2bd-4f62-815f-2a107349bed7",
   "metadata": {},
   "outputs": [],
   "source": []
  },
  {
   "cell_type": "code",
   "execution_count": null,
   "id": "daec062a-54e7-4061-813a-bb7d6ba1495e",
   "metadata": {},
   "outputs": [],
   "source": []
  },
  {
   "cell_type": "code",
   "execution_count": null,
   "id": "3c4c1e1c-2e92-4309-8364-9f6bcc2ea6ad",
   "metadata": {},
   "outputs": [],
   "source": []
  },
  {
   "cell_type": "code",
   "execution_count": null,
   "id": "097246d2-7b88-46a5-802c-1d47a590d3b1",
   "metadata": {},
   "outputs": [],
   "source": []
  },
  {
   "cell_type": "code",
   "execution_count": null,
   "id": "c8e9d400-824d-4295-9b19-9f8572a26973",
   "metadata": {},
   "outputs": [],
   "source": []
  },
  {
   "cell_type": "code",
   "execution_count": null,
   "id": "99c7099b-0773-4c48-a4dc-63672a2e6760",
   "metadata": {},
   "outputs": [],
   "source": []
  },
  {
   "cell_type": "code",
   "execution_count": null,
   "id": "ff5b22a7-afb3-4067-93fd-2ac41a57e334",
   "metadata": {},
   "outputs": [],
   "source": []
  },
  {
   "cell_type": "code",
   "execution_count": null,
   "id": "0a9e6c00-c3b8-45a4-b188-5e02eb2de3d3",
   "metadata": {},
   "outputs": [],
   "source": []
  },
  {
   "cell_type": "code",
   "execution_count": null,
   "id": "c2e25ce9-70f6-43d9-94d2-1935d5ce5fcc",
   "metadata": {},
   "outputs": [],
   "source": []
  }
 ],
 "metadata": {
  "kernelspec": {
   "display_name": "R",
   "language": "R",
   "name": "ir"
  },
  "language_info": {
   "codemirror_mode": "r",
   "file_extension": ".r",
   "mimetype": "text/x-r-source",
   "name": "R",
   "pygments_lexer": "r",
   "version": "4.2.2"
  }
 },
 "nbformat": 4,
 "nbformat_minor": 5
}
